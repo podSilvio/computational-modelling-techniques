{
 "cells": [
  {
   "cell_type": "markdown",
   "id": "43240b37",
   "metadata": {},
   "source": [
    "#### Trenutni zadatak je treniranje na temelju podataka iz 9. mjeseca i predviđanje potrošnje prvih 10 dana 10. mjeseca"
   ]
  },
  {
   "cell_type": "code",
   "execution_count": 83,
   "id": "d58d3fd5",
   "metadata": {},
   "outputs": [],
   "source": [
    "import pandas as pd\n",
    "import numpy as np\n",
    "import matplotlib.pyplot as plt"
   ]
  },
  {
   "cell_type": "markdown",
   "id": "7e4d8eb9",
   "metadata": {},
   "source": [
    "### Učitaj podatke za opterećenje"
   ]
  },
  {
   "cell_type": "code",
   "execution_count": 84,
   "id": "199af992",
   "metadata": {},
   "outputs": [],
   "source": [
    "# Ucitaj podatke\n",
    "df_total = pd.read_excel('Arhiva_10_2021.xlsx', sheet_name=['07.','08.', '09.', '10.'], usecols=[0,1,2], converters={'datum':str, 'vrijeme':str}, names=['datum', 'vrijeme', 'Potrošnja'])"
   ]
  },
  {
   "cell_type": "code",
   "execution_count": 85,
   "id": "3a45f40d",
   "metadata": {},
   "outputs": [],
   "source": [
    "df = pd.concat([df_total['07.'], df_total['08.'], df_total['09.'], df_total['10.'].loc[0:24*14-1]])"
   ]
  },
  {
   "cell_type": "code",
   "execution_count": 86,
   "id": "3a2d9655",
   "metadata": {},
   "outputs": [
    {
     "data": {
      "text/html": [
       "<div>\n",
       "<style scoped>\n",
       "    .dataframe tbody tr th:only-of-type {\n",
       "        vertical-align: middle;\n",
       "    }\n",
       "\n",
       "    .dataframe tbody tr th {\n",
       "        vertical-align: top;\n",
       "    }\n",
       "\n",
       "    .dataframe thead th {\n",
       "        text-align: right;\n",
       "    }\n",
       "</style>\n",
       "<table border=\"1\" class=\"dataframe\">\n",
       "  <thead>\n",
       "    <tr style=\"text-align: right;\">\n",
       "      <th></th>\n",
       "      <th>datum</th>\n",
       "      <th>vrijeme</th>\n",
       "      <th>Potrošnja</th>\n",
       "    </tr>\n",
       "  </thead>\n",
       "  <tbody>\n",
       "    <tr>\n",
       "      <th>0</th>\n",
       "      <td>2021-07-01 00:00:00</td>\n",
       "      <td>00:00:00</td>\n",
       "      <td>1776.67500</td>\n",
       "    </tr>\n",
       "    <tr>\n",
       "      <th>1</th>\n",
       "      <td>2021-07-01 00:00:00</td>\n",
       "      <td>01:00:00</td>\n",
       "      <td>1613.35100</td>\n",
       "    </tr>\n",
       "    <tr>\n",
       "      <th>2</th>\n",
       "      <td>2021-07-01 00:00:00</td>\n",
       "      <td>02:00:00</td>\n",
       "      <td>1534.29500</td>\n",
       "    </tr>\n",
       "    <tr>\n",
       "      <th>3</th>\n",
       "      <td>2021-07-01 00:00:00</td>\n",
       "      <td>03:00:00</td>\n",
       "      <td>1491.38000</td>\n",
       "    </tr>\n",
       "    <tr>\n",
       "      <th>4</th>\n",
       "      <td>2021-07-01 00:00:00</td>\n",
       "      <td>04:00:00</td>\n",
       "      <td>1493.04500</td>\n",
       "    </tr>\n",
       "    <tr>\n",
       "      <th>...</th>\n",
       "      <td>...</td>\n",
       "      <td>...</td>\n",
       "      <td>...</td>\n",
       "    </tr>\n",
       "    <tr>\n",
       "      <th>331</th>\n",
       "      <td>2021-10-14 00:00:00</td>\n",
       "      <td>1900-01-13 19:00:00</td>\n",
       "      <td>2405.71375</td>\n",
       "    </tr>\n",
       "    <tr>\n",
       "      <th>332</th>\n",
       "      <td>2021-10-14 00:00:00</td>\n",
       "      <td>1900-01-13 20:00:00</td>\n",
       "      <td>2340.17425</td>\n",
       "    </tr>\n",
       "    <tr>\n",
       "      <th>333</th>\n",
       "      <td>2021-10-14 00:00:00</td>\n",
       "      <td>1900-01-13 21:00:00</td>\n",
       "      <td>2167.23000</td>\n",
       "    </tr>\n",
       "    <tr>\n",
       "      <th>334</th>\n",
       "      <td>2021-10-14 00:00:00</td>\n",
       "      <td>1900-01-13 22:00:00</td>\n",
       "      <td>2013.76125</td>\n",
       "    </tr>\n",
       "    <tr>\n",
       "      <th>335</th>\n",
       "      <td>2021-10-14 00:00:00</td>\n",
       "      <td>1900-01-13 23:00:00</td>\n",
       "      <td>1779.35100</td>\n",
       "    </tr>\n",
       "  </tbody>\n",
       "</table>\n",
       "<p>2544 rows × 3 columns</p>\n",
       "</div>"
      ],
      "text/plain": [
       "                   datum              vrijeme   Potrošnja\n",
       "0    2021-07-01 00:00:00             00:00:00  1776.67500\n",
       "1    2021-07-01 00:00:00             01:00:00  1613.35100\n",
       "2    2021-07-01 00:00:00             02:00:00  1534.29500\n",
       "3    2021-07-01 00:00:00             03:00:00  1491.38000\n",
       "4    2021-07-01 00:00:00             04:00:00  1493.04500\n",
       "..                   ...                  ...         ...\n",
       "331  2021-10-14 00:00:00  1900-01-13 19:00:00  2405.71375\n",
       "332  2021-10-14 00:00:00  1900-01-13 20:00:00  2340.17425\n",
       "333  2021-10-14 00:00:00  1900-01-13 21:00:00  2167.23000\n",
       "334  2021-10-14 00:00:00  1900-01-13 22:00:00  2013.76125\n",
       "335  2021-10-14 00:00:00  1900-01-13 23:00:00  1779.35100\n",
       "\n",
       "[2544 rows x 3 columns]"
      ]
     },
     "execution_count": 86,
     "metadata": {},
     "output_type": "execute_result"
    }
   ],
   "source": [
    "df"
   ]
  },
  {
   "cell_type": "markdown",
   "id": "6224a447",
   "metadata": {},
   "source": [
    "Napomena:\n",
    "    \n",
    "Bilo je mnogo problema s parsiranjem datuma zbog nekonzistentnosti zapisa u .xlsx fileu. Konkretno, prvih 24 vrijednosti sadrži zapis u AM/PM formatu, dok ostali ne sadrže. Zbog toga Pandas automatski dodaje vrijednost datuma za taj stupac, počevši od 1900. godine. Funkcije 'to_datetime' i slične nije bilo moguće koristiti jer se varijabla 'vrijeme' opisala kao tip 'object' i 'datetime.time'. Zbog toga sam dodao argument 'converters' kako bi to spriječio."
   ]
  },
  {
   "cell_type": "code",
   "execution_count": 87,
   "id": "b5b03c68",
   "metadata": {},
   "outputs": [],
   "source": [
    "df['vrijeme'] = df['vrijeme'].str.split(' ')"
   ]
  },
  {
   "cell_type": "code",
   "execution_count": 88,
   "id": "ce761dfb",
   "metadata": {},
   "outputs": [],
   "source": [
    "df['vrijeme'] = df['vrijeme'].map(lambda x : x[-1])"
   ]
  },
  {
   "cell_type": "markdown",
   "id": "6b87ed2d",
   "metadata": {},
   "source": [
    "#### Postavi index tipa datetime"
   ]
  },
  {
   "cell_type": "code",
   "execution_count": 89,
   "id": "66815b76",
   "metadata": {},
   "outputs": [],
   "source": [
    "df['Datetime'] = pd.to_datetime(df['datum'] + ' ' + df['vrijeme'])"
   ]
  },
  {
   "cell_type": "code",
   "execution_count": 90,
   "id": "c67434c0",
   "metadata": {},
   "outputs": [],
   "source": [
    "df = df.set_index('Datetime')"
   ]
  },
  {
   "cell_type": "code",
   "execution_count": 91,
   "id": "d7ebbbf1",
   "metadata": {},
   "outputs": [],
   "source": [
    "df = df.drop(['datum','vrijeme'], axis=1)"
   ]
  },
  {
   "cell_type": "code",
   "execution_count": 92,
   "id": "0a6518f6",
   "metadata": {},
   "outputs": [
    {
     "data": {
      "text/html": [
       "<div>\n",
       "<style scoped>\n",
       "    .dataframe tbody tr th:only-of-type {\n",
       "        vertical-align: middle;\n",
       "    }\n",
       "\n",
       "    .dataframe tbody tr th {\n",
       "        vertical-align: top;\n",
       "    }\n",
       "\n",
       "    .dataframe thead th {\n",
       "        text-align: right;\n",
       "    }\n",
       "</style>\n",
       "<table border=\"1\" class=\"dataframe\">\n",
       "  <thead>\n",
       "    <tr style=\"text-align: right;\">\n",
       "      <th></th>\n",
       "      <th>Potrošnja</th>\n",
       "    </tr>\n",
       "    <tr>\n",
       "      <th>Datetime</th>\n",
       "      <th></th>\n",
       "    </tr>\n",
       "  </thead>\n",
       "  <tbody>\n",
       "    <tr>\n",
       "      <th>2021-07-01 00:00:00</th>\n",
       "      <td>1776.67500</td>\n",
       "    </tr>\n",
       "    <tr>\n",
       "      <th>2021-07-01 01:00:00</th>\n",
       "      <td>1613.35100</td>\n",
       "    </tr>\n",
       "    <tr>\n",
       "      <th>2021-07-01 02:00:00</th>\n",
       "      <td>1534.29500</td>\n",
       "    </tr>\n",
       "    <tr>\n",
       "      <th>2021-07-01 03:00:00</th>\n",
       "      <td>1491.38000</td>\n",
       "    </tr>\n",
       "    <tr>\n",
       "      <th>2021-07-01 04:00:00</th>\n",
       "      <td>1493.04500</td>\n",
       "    </tr>\n",
       "    <tr>\n",
       "      <th>...</th>\n",
       "      <td>...</td>\n",
       "    </tr>\n",
       "    <tr>\n",
       "      <th>2021-10-14 19:00:00</th>\n",
       "      <td>2405.71375</td>\n",
       "    </tr>\n",
       "    <tr>\n",
       "      <th>2021-10-14 20:00:00</th>\n",
       "      <td>2340.17425</td>\n",
       "    </tr>\n",
       "    <tr>\n",
       "      <th>2021-10-14 21:00:00</th>\n",
       "      <td>2167.23000</td>\n",
       "    </tr>\n",
       "    <tr>\n",
       "      <th>2021-10-14 22:00:00</th>\n",
       "      <td>2013.76125</td>\n",
       "    </tr>\n",
       "    <tr>\n",
       "      <th>2021-10-14 23:00:00</th>\n",
       "      <td>1779.35100</td>\n",
       "    </tr>\n",
       "  </tbody>\n",
       "</table>\n",
       "<p>2544 rows × 1 columns</p>\n",
       "</div>"
      ],
      "text/plain": [
       "                      Potrošnja\n",
       "Datetime                       \n",
       "2021-07-01 00:00:00  1776.67500\n",
       "2021-07-01 01:00:00  1613.35100\n",
       "2021-07-01 02:00:00  1534.29500\n",
       "2021-07-01 03:00:00  1491.38000\n",
       "2021-07-01 04:00:00  1493.04500\n",
       "...                         ...\n",
       "2021-10-14 19:00:00  2405.71375\n",
       "2021-10-14 20:00:00  2340.17425\n",
       "2021-10-14 21:00:00  2167.23000\n",
       "2021-10-14 22:00:00  2013.76125\n",
       "2021-10-14 23:00:00  1779.35100\n",
       "\n",
       "[2544 rows x 1 columns]"
      ]
     },
     "execution_count": 92,
     "metadata": {},
     "output_type": "execute_result"
    }
   ],
   "source": [
    "df"
   ]
  },
  {
   "cell_type": "code",
   "execution_count": 93,
   "id": "528a37d4",
   "metadata": {},
   "outputs": [
    {
     "data": {
      "text/plain": [
       "<AxesSubplot:title={'center':'Krivulja opterećenja distribucijskog sustava [MWh]'}, xlabel='Vrijeme', ylabel='[MWh]'>"
      ]
     },
     "execution_count": 93,
     "metadata": {},
     "output_type": "execute_result"
    },
    {
     "data": {
      "image/png": "[encoded data removed]",
      "text/plain": [
       "<Figure size 1008x576 with 1 Axes>"
      ]
     },
     "metadata": {
      "needs_background": "light"
     },
     "output_type": "display_data"
    }
   ],
   "source": [
    "df.plot(use_index=True, title='Krivulja opterećenja distribucijskog sustava [MWh]', figsize=(14,8), grid=True, legend=True, ylabel='[MWh]', xlabel='Vrijeme')"
   ]
  },
  {
   "cell_type": "markdown",
   "id": "66e7579b",
   "metadata": {},
   "source": [
    "Zanima me koja je srednja vrijednost za svaki sat u danu?"
   ]
  },
  {
   "cell_type": "code",
   "execution_count": 94,
   "id": "55db562d",
   "metadata": {},
   "outputs": [
    {
     "data": {
      "text/plain": [
       "<AxesSubplot:xlabel='Sati', ylabel='MWh'>"
      ]
     },
     "execution_count": 94,
     "metadata": {},
     "output_type": "execute_result"
    },
    {
     "data": {
      "image/png": "[encoded data removed]",
      "text/plain": [
       "<Figure size 864x576 with 1 Axes>"
      ]
     },
     "metadata": {
      "needs_background": "light"
     },
     "output_type": "display_data"
    }
   ],
   "source": [
    "df.groupby(df.index.hour)['Potrošnja'].mean().plot(kind='line', xlabel='Sati', ylabel='MWh', legend=True, grid=True, figsize=(12,8), xticks = np.arange(0, 24, step=1), yticks=np.arange(1200, 2400, 100))"
   ]
  },
  {
   "cell_type": "markdown",
   "id": "5ce79b96",
   "metadata": {},
   "source": [
    "Ovdje sam koristio datetime kao index što omogućava jednostavno grupiranje po satima."
   ]
  },
  {
   "cell_type": "markdown",
   "id": "15c70f7f",
   "metadata": {},
   "source": [
    "#### Napomena"
   ]
  },
  {
   "cell_type": "markdown",
   "id": "1358edb3",
   "metadata": {},
   "source": [
    "Budući da je drukčija razina granularnosti (imamo potrošnju energije izraženu u satima i prosječnu dnevnu temperaturu), odlučio sam se na dnevnu agregaciju potrošnje. Razlog za to je da ćemo prilikom predviđanja na raspolaganju imati očekivanu prosječnu dnevnu temperaturu, a ne satnu. "
   ]
  },
  {
   "cell_type": "code",
   "execution_count": 95,
   "id": "7f7cd345",
   "metadata": {},
   "outputs": [],
   "source": [
    "df = df.groupby(pd.Grouper(freq='D')).mean()"
   ]
  },
  {
   "cell_type": "code",
   "execution_count": 96,
   "id": "59e0d582",
   "metadata": {},
   "outputs": [
    {
     "data": {
      "text/plain": [
       "<AxesSubplot:xlabel='Datetime'>"
      ]
     },
     "execution_count": 96,
     "metadata": {},
     "output_type": "execute_result"
    },
    {
     "data": {
      "image/png": "[encoded data removed]",
      "text/plain": [
       "<Figure size 432x288 with 1 Axes>"
      ]
     },
     "metadata": {
      "needs_background": "light"
     },
     "output_type": "display_data"
    }
   ],
   "source": [
    "df.plot()"
   ]
  },
  {
   "cell_type": "markdown",
   "id": "8065fff1",
   "metadata": {},
   "source": [
    "### Web scrapping"
   ]
  },
  {
   "cell_type": "markdown",
   "id": "6aa36222",
   "metadata": {},
   "source": [
    "TO DO kako bi se trebalo, za sada sam manualno uzeo podatke prosječne dnevne temperature za 4 najveća HR grada (link: https://crd.meteoadriatic.net/statistics)"
   ]
  },
  {
   "cell_type": "code",
   "execution_count": 97,
   "id": "c48a878a",
   "metadata": {},
   "outputs": [],
   "source": [
    "# Ucitaj podatke\n",
    "df_temp_total = pd.read_excel('temperatura.xlsx', sheet_name=['7.mjesec', '8.mjesec', '9.mjesec', '10.mjesec'])"
   ]
  },
  {
   "cell_type": "code",
   "execution_count": 98,
   "id": "db39da8c",
   "metadata": {},
   "outputs": [],
   "source": [
    "df_temp = pd.concat([df_temp_total['7.mjesec'], df_temp_total['8.mjesec'], df_temp_total['9.mjesec'], df_temp_total['10.mjesec'].iloc[0:14]])"
   ]
  },
  {
   "cell_type": "code",
   "execution_count": 99,
   "id": "ad60db27",
   "metadata": {},
   "outputs": [],
   "source": [
    "df_temp;"
   ]
  },
  {
   "cell_type": "code",
   "execution_count": 100,
   "id": "57be5e15",
   "metadata": {},
   "outputs": [],
   "source": [
    "df_temp['Datetime'] = pd.to_datetime(df_temp['Vrijeme'])"
   ]
  },
  {
   "cell_type": "code",
   "execution_count": 101,
   "id": "8a0c15fd",
   "metadata": {},
   "outputs": [],
   "source": [
    "df_temp = df_temp.set_index('Datetime')"
   ]
  },
  {
   "cell_type": "code",
   "execution_count": 102,
   "id": "261819dc",
   "metadata": {},
   "outputs": [],
   "source": [
    "df_temp = df_temp.drop(['Vrijeme'], axis=1)"
   ]
  },
  {
   "cell_type": "code",
   "execution_count": 103,
   "id": "384943b8",
   "metadata": {},
   "outputs": [],
   "source": [
    "df_temp['Prosjek'] = df_temp.mean(axis=1).round(2)"
   ]
  },
  {
   "cell_type": "code",
   "execution_count": 104,
   "id": "5e8324c9",
   "metadata": {},
   "outputs": [
    {
     "data": {
      "text/html": [
       "<div>\n",
       "<style scoped>\n",
       "    .dataframe tbody tr th:only-of-type {\n",
       "        vertical-align: middle;\n",
       "    }\n",
       "\n",
       "    .dataframe tbody tr th {\n",
       "        vertical-align: top;\n",
       "    }\n",
       "\n",
       "    .dataframe thead th {\n",
       "        text-align: right;\n",
       "    }\n",
       "</style>\n",
       "<table border=\"1\" class=\"dataframe\">\n",
       "  <thead>\n",
       "    <tr style=\"text-align: right;\">\n",
       "      <th></th>\n",
       "      <th>Zagreb_temperatura</th>\n",
       "      <th>Split_temperatura</th>\n",
       "      <th>Osijek_temperatura</th>\n",
       "      <th>Rijeka_temperatura</th>\n",
       "      <th>Prosjek</th>\n",
       "    </tr>\n",
       "    <tr>\n",
       "      <th>Datetime</th>\n",
       "      <th></th>\n",
       "      <th></th>\n",
       "      <th></th>\n",
       "      <th></th>\n",
       "      <th></th>\n",
       "    </tr>\n",
       "  </thead>\n",
       "  <tbody>\n",
       "    <tr>\n",
       "      <th>2021-07-01</th>\n",
       "      <td>17.6</td>\n",
       "      <td>23.7</td>\n",
       "      <td>20.4</td>\n",
       "      <td>22.4</td>\n",
       "      <td>21.02</td>\n",
       "    </tr>\n",
       "    <tr>\n",
       "      <th>2021-07-02</th>\n",
       "      <td>19.7</td>\n",
       "      <td>23.3</td>\n",
       "      <td>18.2</td>\n",
       "      <td>22.5</td>\n",
       "      <td>20.92</td>\n",
       "    </tr>\n",
       "    <tr>\n",
       "      <th>2021-07-03</th>\n",
       "      <td>21.6</td>\n",
       "      <td>23.5</td>\n",
       "      <td>19.9</td>\n",
       "      <td>22.8</td>\n",
       "      <td>21.95</td>\n",
       "    </tr>\n",
       "    <tr>\n",
       "      <th>2021-07-04</th>\n",
       "      <td>23.3</td>\n",
       "      <td>23.8</td>\n",
       "      <td>23.0</td>\n",
       "      <td>23.8</td>\n",
       "      <td>23.48</td>\n",
       "    </tr>\n",
       "    <tr>\n",
       "      <th>2021-07-05</th>\n",
       "      <td>24.1</td>\n",
       "      <td>24.2</td>\n",
       "      <td>21.7</td>\n",
       "      <td>24.0</td>\n",
       "      <td>23.50</td>\n",
       "    </tr>\n",
       "    <tr>\n",
       "      <th>...</th>\n",
       "      <td>...</td>\n",
       "      <td>...</td>\n",
       "      <td>...</td>\n",
       "      <td>...</td>\n",
       "      <td>...</td>\n",
       "    </tr>\n",
       "    <tr>\n",
       "      <th>2021-10-10</th>\n",
       "      <td>9.8</td>\n",
       "      <td>16.6</td>\n",
       "      <td>9.0</td>\n",
       "      <td>11.3</td>\n",
       "      <td>11.68</td>\n",
       "    </tr>\n",
       "    <tr>\n",
       "      <th>2021-10-11</th>\n",
       "      <td>9.2</td>\n",
       "      <td>16.3</td>\n",
       "      <td>8.8</td>\n",
       "      <td>12.8</td>\n",
       "      <td>11.77</td>\n",
       "    </tr>\n",
       "    <tr>\n",
       "      <th>2021-10-12</th>\n",
       "      <td>9.0</td>\n",
       "      <td>14.5</td>\n",
       "      <td>7.0</td>\n",
       "      <td>13.9</td>\n",
       "      <td>11.10</td>\n",
       "    </tr>\n",
       "    <tr>\n",
       "      <th>2021-10-13</th>\n",
       "      <td>8.4</td>\n",
       "      <td>13.4</td>\n",
       "      <td>5.5</td>\n",
       "      <td>12.7</td>\n",
       "      <td>10.00</td>\n",
       "    </tr>\n",
       "    <tr>\n",
       "      <th>2021-10-14</th>\n",
       "      <td>6.7</td>\n",
       "      <td>11.8</td>\n",
       "      <td>5.0</td>\n",
       "      <td>11.5</td>\n",
       "      <td>8.75</td>\n",
       "    </tr>\n",
       "  </tbody>\n",
       "</table>\n",
       "<p>106 rows × 5 columns</p>\n",
       "</div>"
      ],
      "text/plain": [
       "            Zagreb_temperatura  Split_temperatura  Osijek_temperatura  \\\n",
       "Datetime                                                                \n",
       "2021-07-01                17.6               23.7                20.4   \n",
       "2021-07-02                19.7               23.3                18.2   \n",
       "2021-07-03                21.6               23.5                19.9   \n",
       "2021-07-04                23.3               23.8                23.0   \n",
       "2021-07-05                24.1               24.2                21.7   \n",
       "...                        ...                ...                 ...   \n",
       "2021-10-10                 9.8               16.6                 9.0   \n",
       "2021-10-11                 9.2               16.3                 8.8   \n",
       "2021-10-12                 9.0               14.5                 7.0   \n",
       "2021-10-13                 8.4               13.4                 5.5   \n",
       "2021-10-14                 6.7               11.8                 5.0   \n",
       "\n",
       "            Rijeka_temperatura  Prosjek  \n",
       "Datetime                                 \n",
       "2021-07-01                22.4    21.02  \n",
       "2021-07-02                22.5    20.92  \n",
       "2021-07-03                22.8    21.95  \n",
       "2021-07-04                23.8    23.48  \n",
       "2021-07-05                24.0    23.50  \n",
       "...                        ...      ...  \n",
       "2021-10-10                11.3    11.68  \n",
       "2021-10-11                12.8    11.77  \n",
       "2021-10-12                13.9    11.10  \n",
       "2021-10-13                12.7    10.00  \n",
       "2021-10-14                11.5     8.75  \n",
       "\n",
       "[106 rows x 5 columns]"
      ]
     },
     "execution_count": 104,
     "metadata": {},
     "output_type": "execute_result"
    }
   ],
   "source": [
    "df_temp"
   ]
  },
  {
   "cell_type": "code",
   "execution_count": 105,
   "id": "1898dd9a",
   "metadata": {},
   "outputs": [
    {
     "data": {
      "text/html": [
       "<div>\n",
       "<style scoped>\n",
       "    .dataframe tbody tr th:only-of-type {\n",
       "        vertical-align: middle;\n",
       "    }\n",
       "\n",
       "    .dataframe tbody tr th {\n",
       "        vertical-align: top;\n",
       "    }\n",
       "\n",
       "    .dataframe thead th {\n",
       "        text-align: right;\n",
       "    }\n",
       "</style>\n",
       "<table border=\"1\" class=\"dataframe\">\n",
       "  <thead>\n",
       "    <tr style=\"text-align: right;\">\n",
       "      <th></th>\n",
       "      <th>Potrošnja</th>\n",
       "      <th>Prosjek</th>\n",
       "    </tr>\n",
       "    <tr>\n",
       "      <th>Datetime</th>\n",
       "      <th></th>\n",
       "      <th></th>\n",
       "    </tr>\n",
       "  </thead>\n",
       "  <tbody>\n",
       "    <tr>\n",
       "      <th>2021-07-01</th>\n",
       "      <td>2050.085042</td>\n",
       "      <td>21.02</td>\n",
       "    </tr>\n",
       "    <tr>\n",
       "      <th>2021-07-02</th>\n",
       "      <td>1978.027458</td>\n",
       "      <td>20.92</td>\n",
       "    </tr>\n",
       "    <tr>\n",
       "      <th>2021-07-03</th>\n",
       "      <td>1864.896417</td>\n",
       "      <td>21.95</td>\n",
       "    </tr>\n",
       "    <tr>\n",
       "      <th>2021-07-04</th>\n",
       "      <td>1745.649292</td>\n",
       "      <td>23.48</td>\n",
       "    </tr>\n",
       "    <tr>\n",
       "      <th>2021-07-05</th>\n",
       "      <td>1958.602875</td>\n",
       "      <td>23.50</td>\n",
       "    </tr>\n",
       "    <tr>\n",
       "      <th>...</th>\n",
       "      <td>...</td>\n",
       "      <td>...</td>\n",
       "    </tr>\n",
       "    <tr>\n",
       "      <th>2021-10-10</th>\n",
       "      <td>1681.488542</td>\n",
       "      <td>11.68</td>\n",
       "    </tr>\n",
       "    <tr>\n",
       "      <th>2021-10-11</th>\n",
       "      <td>1908.251177</td>\n",
       "      <td>11.77</td>\n",
       "    </tr>\n",
       "    <tr>\n",
       "      <th>2021-10-12</th>\n",
       "      <td>1905.534615</td>\n",
       "      <td>11.10</td>\n",
       "    </tr>\n",
       "    <tr>\n",
       "      <th>2021-10-13</th>\n",
       "      <td>1938.895344</td>\n",
       "      <td>10.00</td>\n",
       "    </tr>\n",
       "    <tr>\n",
       "      <th>2021-10-14</th>\n",
       "      <td>1947.936219</td>\n",
       "      <td>8.75</td>\n",
       "    </tr>\n",
       "  </tbody>\n",
       "</table>\n",
       "<p>106 rows × 2 columns</p>\n",
       "</div>"
      ],
      "text/plain": [
       "              Potrošnja  Prosjek\n",
       "Datetime                        \n",
       "2021-07-01  2050.085042    21.02\n",
       "2021-07-02  1978.027458    20.92\n",
       "2021-07-03  1864.896417    21.95\n",
       "2021-07-04  1745.649292    23.48\n",
       "2021-07-05  1958.602875    23.50\n",
       "...                 ...      ...\n",
       "2021-10-10  1681.488542    11.68\n",
       "2021-10-11  1908.251177    11.77\n",
       "2021-10-12  1905.534615    11.10\n",
       "2021-10-13  1938.895344    10.00\n",
       "2021-10-14  1947.936219     8.75\n",
       "\n",
       "[106 rows x 2 columns]"
      ]
     },
     "execution_count": 105,
     "metadata": {},
     "output_type": "execute_result"
    }
   ],
   "source": [
    "# Concat tables horizontally\n",
    "df_concat = pd.concat([df, df_temp['Prosjek']], axis=1)\n",
    "df_concat"
   ]
  },
  {
   "cell_type": "markdown",
   "id": "7dd4a3d7",
   "metadata": {},
   "source": [
    "### Stacionarnost"
   ]
  },
  {
   "cell_type": "markdown",
   "id": "059b1e58",
   "metadata": {},
   "source": [
    "#### Augmented Dickey-Fuller test\n",
    "\n",
    "Provodim ADF test za stacionarnost. ADF test postavlja sljedeće hipoteze:\n",
    "* Null hipoteza ($H_0$): Postoji [unit root](https://en.wikipedia.org/wiki/Unit_root) (a.k.a. vremenski nizovi nisu stacionarni)\n",
    "* Alternativna hipoteza ($H_1$): Vremenski nizovi su stacionarni (ili trend-stacionarni)\n",
    "\n",
    "Provodim ADF test:"
   ]
  },
  {
   "cell_type": "code",
   "execution_count": 106,
   "id": "fcbb6e45",
   "metadata": {},
   "outputs": [
    {
     "name": "stdout",
     "output_type": "stream",
     "text": [
      "ADF test za potrošnju:\n"
     ]
    },
    {
     "data": {
      "text/plain": [
       "(-0.9527049185885226,\n",
       " 0.7701211245747801,\n",
       " 11,\n",
       " 94,\n",
       " {'1%': -3.5019123847798657,\n",
       "  '5%': -2.892815255482889,\n",
       "  '10%': -2.583453861475781},\n",
       " 1029.1964112898386)"
      ]
     },
     "metadata": {},
     "output_type": "display_data"
    },
    {
     "name": "stdout",
     "output_type": "stream",
     "text": [
      "ADF test za prosjek temperature:\n"
     ]
    },
    {
     "data": {
      "text/plain": [
       "(-0.95986676201646,\n",
       " 0.7676192148423626,\n",
       " 0,\n",
       " 105,\n",
       " {'1%': -3.4942202045135513,\n",
       "  '5%': -2.889485291005291,\n",
       "  '10%': -2.5816762131519275},\n",
       " 359.11707806170386)"
      ]
     },
     "metadata": {},
     "output_type": "display_data"
    }
   ],
   "source": [
    "from statsmodels.tsa.stattools import adfuller\n",
    "\n",
    "print('ADF test za potrošnju:')\n",
    "display(adfuller(df_concat['Potrošnja']))\n",
    "\n",
    "print('ADF test za prosjek temperature:')\n",
    "display(adfuller(df_concat['Prosjek']))"
   ]
  },
  {
   "cell_type": "markdown",
   "id": "c06a029a",
   "metadata": {},
   "source": [
    "Kao što vidimo, p value debelo je iznad 0.05, što znači da ne možemo odbaciti NULL hipotezu."
   ]
  },
  {
   "cell_type": "markdown",
   "id": "56db2492",
   "metadata": {},
   "source": [
    "#### KPSS (Kwiatkowski-Phillips-Schmidt-Shin) test"
   ]
  },
  {
   "cell_type": "markdown",
   "id": "d738dfaa",
   "metadata": {},
   "source": [
    "Provodim KPSS (Kwiatkowski-Phillips-Schmidt-Shin) test koji postavlja suprotne hipoteze od ADF testa, tj.\n",
    "\n",
    "* Null hipoteza ($H_0$): Vremenski nizovi su trend-stacionarni i ne postoji unit root\n",
    "* Alternativna hipoteza ($H_1$): Vremenski nizovi su ne-stacionarni ili postoji unit root\n",
    "    \n",
    "Provodim KPSS test:"
   ]
  },
  {
   "cell_type": "code",
   "execution_count": 107,
   "id": "2960c77e",
   "metadata": {},
   "outputs": [
    {
     "name": "stdout",
     "output_type": "stream",
     "text": [
      "KPSS test za potrošnju:\n"
     ]
    },
    {
     "name": "stderr",
     "output_type": "stream",
     "text": [
      "/home/silvio/.local/lib/python3.8/site-packages/statsmodels/tsa/stattools.py:2018: InterpolationWarning: The test statistic is outside of the range of p-values available in the\n",
      "look-up table. The actual p-value is smaller than the p-value returned.\n",
      "\n",
      "  warnings.warn(\n"
     ]
    },
    {
     "data": {
      "text/plain": [
       "(1.174899159278909,\n",
       " 0.01,\n",
       " 5,\n",
       " {'10%': 0.347, '5%': 0.463, '2.5%': 0.574, '1%': 0.739})"
      ]
     },
     "metadata": {},
     "output_type": "display_data"
    },
    {
     "name": "stdout",
     "output_type": "stream",
     "text": [
      "KPSS test za prosjek temperature:\n"
     ]
    },
    {
     "name": "stderr",
     "output_type": "stream",
     "text": [
      "/home/silvio/.local/lib/python3.8/site-packages/statsmodels/tsa/stattools.py:2018: InterpolationWarning: The test statistic is outside of the range of p-values available in the\n",
      "look-up table. The actual p-value is smaller than the p-value returned.\n",
      "\n",
      "  warnings.warn(\n"
     ]
    },
    {
     "data": {
      "text/plain": [
       "(1.3538581438439359,\n",
       " 0.01,\n",
       " 5,\n",
       " {'10%': 0.347, '5%': 0.463, '2.5%': 0.574, '1%': 0.739})"
      ]
     },
     "metadata": {},
     "output_type": "display_data"
    }
   ],
   "source": [
    "from statsmodels.tsa.stattools import kpss\n",
    "\n",
    "print('KPSS test za potrošnju:')\n",
    "display(kpss(df_concat['Potrošnja']))\n",
    "\n",
    "print('KPSS test za prosjek temperature:')\n",
    "display(kpss(df_concat['Prosjek']))"
   ]
  },
  {
   "cell_type": "markdown",
   "id": "07012264",
   "metadata": {},
   "source": [
    "Kao što vidimo, KPSS testom odbacujemo Null hipotezu i možemo zaključiti da su vremenski nizovi ne-stacionarni ili postoji unit root.\n",
    "\n",
    "Budući da su i ADF i KPSS test potvrdili da vremenski nizovi nisu stacionarni, radimo diferencijaciju i provjeravamo prolaze li zatim vremenski nizovi ADF i KPSS testove."
   ]
  },
  {
   "cell_type": "code",
   "execution_count": 108,
   "id": "a95db142",
   "metadata": {},
   "outputs": [],
   "source": [
    "df_concat['Potrošnja'] = df_concat['Potrošnja'].diff(periods=1)\n",
    "df_concat['Prosjek'] = df_concat['Prosjek'].diff(periods=1)"
   ]
  },
  {
   "cell_type": "code",
   "execution_count": 109,
   "id": "39437c3c",
   "metadata": {},
   "outputs": [],
   "source": [
    "df_concat = df_concat.dropna()"
   ]
  },
  {
   "cell_type": "code",
   "execution_count": 110,
   "id": "717f6fa8",
   "metadata": {
    "scrolled": false
   },
   "outputs": [
    {
     "name": "stdout",
     "output_type": "stream",
     "text": [
      "ADF test za potrošnju:\n"
     ]
    },
    {
     "data": {
      "text/plain": [
       "(-2.8993439696243013,\n",
       " 0.04542433808072344,\n",
       " 13,\n",
       " 91,\n",
       " {'1%': -3.50434289821397,\n",
       "  '5%': -2.8938659630479413,\n",
       "  '10%': -2.5840147047458037},\n",
       " 1012.4061533583812)"
      ]
     },
     "metadata": {},
     "output_type": "display_data"
    },
    {
     "name": "stdout",
     "output_type": "stream",
     "text": [
      "ADF test za prosjek temperature:\n"
     ]
    },
    {
     "data": {
      "text/plain": [
       "(-7.6188670462831585,\n",
       " 2.155054826030086e-11,\n",
       " 2,\n",
       " 102,\n",
       " {'1%': -3.4961490537199116,\n",
       "  '5%': -2.8903209639580556,\n",
       "  '10%': -2.5821223452518263},\n",
       " 355.7666157060995)"
      ]
     },
     "metadata": {},
     "output_type": "display_data"
    },
    {
     "name": "stdout",
     "output_type": "stream",
     "text": [
      "KPSS test za potrošnju:\n"
     ]
    },
    {
     "name": "stderr",
     "output_type": "stream",
     "text": [
      "/home/silvio/.local/lib/python3.8/site-packages/statsmodels/tsa/stattools.py:2022: InterpolationWarning: The test statistic is outside of the range of p-values available in the\n",
      "look-up table. The actual p-value is greater than the p-value returned.\n",
      "\n",
      "  warnings.warn(\n"
     ]
    },
    {
     "data": {
      "text/plain": [
       "(0.05492776907274142,\n",
       " 0.1,\n",
       " 8,\n",
       " {'10%': 0.347, '5%': 0.463, '2.5%': 0.574, '1%': 0.739})"
      ]
     },
     "metadata": {},
     "output_type": "display_data"
    },
    {
     "name": "stdout",
     "output_type": "stream",
     "text": [
      "KPSS test za prosjek temperature:\n"
     ]
    },
    {
     "name": "stderr",
     "output_type": "stream",
     "text": [
      "/home/silvio/.local/lib/python3.8/site-packages/statsmodels/tsa/stattools.py:2022: InterpolationWarning: The test statistic is outside of the range of p-values available in the\n",
      "look-up table. The actual p-value is greater than the p-value returned.\n",
      "\n",
      "  warnings.warn(\n"
     ]
    },
    {
     "data": {
      "text/plain": [
       "(0.17035786651202794,\n",
       " 0.1,\n",
       " 2,\n",
       " {'10%': 0.347, '5%': 0.463, '2.5%': 0.574, '1%': 0.739})"
      ]
     },
     "metadata": {},
     "output_type": "display_data"
    }
   ],
   "source": [
    "print('ADF test za potrošnju:')\n",
    "display(adfuller(df_concat['Potrošnja']))\n",
    "\n",
    "print('ADF test za prosjek temperature:')\n",
    "display(adfuller(df_concat['Prosjek']))\n",
    "\n",
    "print('KPSS test za potrošnju:')\n",
    "display(kpss(df_concat['Potrošnja']))\n",
    "\n",
    "print('KPSS test za prosjek temperature:')\n",
    "display(kpss(df_concat['Prosjek']))"
   ]
  },
  {
   "cell_type": "markdown",
   "id": "66cba56f",
   "metadata": {},
   "source": [
    "Kao što vidimo, nakon diferencijacije, i ADF i KPSS testovi pokazuju kako su vremenski nizovi stacionarni."
   ]
  },
  {
   "cell_type": "markdown",
   "id": "13ab2f83",
   "metadata": {},
   "source": [
    "### Granger-Causality Test"
   ]
  },
  {
   "cell_type": "markdown",
   "id": "7c6c6399",
   "metadata": {},
   "source": [
    "Budući da je naš zadatak predviđanje potrošnje energije na temelju dane temperature, prvo provodimo 'Grangerov Test Kauzalnosti' kako bi vidjeli postoji li poveznica između vrijednosti temperature i potrošnje energije.\n",
    "\n",
    "Grangerov test postavlja hipoteze:\n",
    "* Null hipoteza ($H_0$): vremenski niz x (temperatura) nema utjecaja na vremenski niz y (potrošnja)\n",
    "* Alternativna hipoteza ($H_1$): vremenski niz x (temperatura) ima utjecaja na vremenski niz y (potrošnja)\n",
    "\n",
    "provodimo test:"
   ]
  },
  {
   "cell_type": "code",
   "execution_count": 111,
   "id": "5ac2548d",
   "metadata": {},
   "outputs": [
    {
     "name": "stdout",
     "output_type": "stream",
     "text": [
      "\n",
      "Granger Causality\n",
      "number of lags (no zero) 1\n",
      "ssr based F test:         F=7.2764  , p=0.0082  , df_denom=101, df_num=1\n",
      "ssr based chi2 test:   chi2=7.4925  , p=0.0062  , df=1\n",
      "likelihood ratio test: chi2=7.2349  , p=0.0072  , df=1\n",
      "parameter F test:         F=7.2764  , p=0.0082  , df_denom=101, df_num=1\n",
      "\n",
      "Granger Causality\n",
      "number of lags (no zero) 2\n",
      "ssr based F test:         F=4.4505  , p=0.0141  , df_denom=98, df_num=2\n",
      "ssr based chi2 test:   chi2=9.3551  , p=0.0093  , df=2\n",
      "likelihood ratio test: chi2=8.9544  , p=0.0114  , df=2\n",
      "parameter F test:         F=4.4505  , p=0.0141  , df_denom=98, df_num=2\n",
      "\n",
      "Granger Causality\n",
      "number of lags (no zero) 3\n",
      "ssr based F test:         F=5.0254  , p=0.0028  , df_denom=95, df_num=3\n",
      "ssr based chi2 test:   chi2=16.1870 , p=0.0010  , df=3\n",
      "likelihood ratio test: chi2=15.0241 , p=0.0018  , df=3\n",
      "parameter F test:         F=5.0254  , p=0.0028  , df_denom=95, df_num=3\n",
      "\n",
      "Granger Causality\n",
      "number of lags (no zero) 4\n",
      "ssr based F test:         F=2.8803  , p=0.0269  , df_denom=92, df_num=4\n",
      "ssr based chi2 test:   chi2=12.6483 , p=0.0131  , df=4\n",
      "likelihood ratio test: chi2=11.9168 , p=0.0180  , df=4\n",
      "parameter F test:         F=2.8803  , p=0.0269  , df_denom=92, df_num=4\n",
      "\n",
      "Granger Causality\n",
      "number of lags (no zero) 5\n",
      "ssr based F test:         F=3.6197  , p=0.0050  , df_denom=89, df_num=5\n",
      "ssr based chi2 test:   chi2=20.3353 , p=0.0011  , df=5\n",
      "likelihood ratio test: chi2=18.5112 , p=0.0024  , df=5\n",
      "parameter F test:         F=3.6197  , p=0.0050  , df_denom=89, df_num=5\n",
      "\n",
      "Granger Causality\n",
      "number of lags (no zero) 6\n",
      "ssr based F test:         F=3.7072  , p=0.0025  , df_denom=86, df_num=6\n",
      "ssr based chi2 test:   chi2=25.6055 , p=0.0003  , df=6\n",
      "likelihood ratio test: chi2=22.7733 , p=0.0009  , df=6\n",
      "parameter F test:         F=3.7072  , p=0.0025  , df_denom=86, df_num=6\n",
      "\n",
      "Granger Causality\n",
      "number of lags (no zero) 7\n",
      "ssr based F test:         F=3.4132  , p=0.0030  , df_denom=83, df_num=7\n",
      "ssr based chi2 test:   chi2=28.2103 , p=0.0002  , df=7\n",
      "likelihood ratio test: chi2=24.7923 , p=0.0008  , df=7\n",
      "parameter F test:         F=3.4132  , p=0.0030  , df_denom=83, df_num=7\n",
      "\n",
      "Granger Causality\n",
      "number of lags (no zero) 8\n",
      "ssr based F test:         F=2.7896  , p=0.0089  , df_denom=80, df_num=8\n",
      "ssr based chi2 test:   chi2=27.0591 , p=0.0007  , df=8\n",
      "likelihood ratio test: chi2=23.8666 , p=0.0024  , df=8\n",
      "parameter F test:         F=2.7896  , p=0.0089  , df_denom=80, df_num=8\n",
      "\n",
      "Granger Causality\n",
      "number of lags (no zero) 9\n",
      "ssr based F test:         F=2.8450  , p=0.0060  , df_denom=77, df_num=9\n",
      "ssr based chi2 test:   chi2=31.9228 , p=0.0002  , df=9\n",
      "likelihood ratio test: chi2=27.5596 , p=0.0011  , df=9\n",
      "parameter F test:         F=2.8450  , p=0.0060  , df_denom=77, df_num=9\n",
      "\n",
      "Granger Causality\n",
      "number of lags (no zero) 10\n",
      "ssr based F test:         F=2.3185  , p=0.0196  , df_denom=74, df_num=10\n",
      "ssr based chi2 test:   chi2=29.7642 , p=0.0009  , df=10\n",
      "likelihood ratio test: chi2=25.8921 , p=0.0039  , df=10\n",
      "parameter F test:         F=2.3185  , p=0.0196  , df_denom=74, df_num=10\n",
      "\n",
      "Granger Causality\n",
      "number of lags (no zero) 11\n",
      "ssr based F test:         F=2.1320  , p=0.0285  , df_denom=71, df_num=11\n",
      "ssr based chi2 test:   chi2=31.0497 , p=0.0011  , df=11\n",
      "likelihood ratio test: chi2=26.8292 , p=0.0049  , df=11\n",
      "parameter F test:         F=2.1320  , p=0.0285  , df_denom=71, df_num=11\n",
      "\n",
      "Granger Causality\n",
      "number of lags (no zero) 12\n",
      "ssr based F test:         F=1.8746  , p=0.0533  , df_denom=68, df_num=12\n",
      "ssr based chi2 test:   chi2=30.7655 , p=0.0021  , df=12\n",
      "likelihood ratio test: chi2=26.5784 , p=0.0089  , df=12\n",
      "parameter F test:         F=1.8746  , p=0.0533  , df_denom=68, df_num=12\n",
      "\n",
      "Granger Causality\n",
      "number of lags (no zero) 13\n",
      "ssr based F test:         F=1.6471  , p=0.0950  , df_denom=65, df_num=13\n",
      "ssr based chi2 test:   chi2=30.3066 , p=0.0043  , df=13\n",
      "likelihood ratio test: chi2=26.1963 , p=0.0160  , df=13\n",
      "parameter F test:         F=1.6471  , p=0.0950  , df_denom=65, df_num=13\n",
      "\n",
      "Granger Causality\n",
      "number of lags (no zero) 14\n",
      "ssr based F test:         F=1.4618  , p=0.1530  , df_denom=62, df_num=14\n",
      "ssr based chi2 test:   chi2=30.0366 , p=0.0075  , df=14\n",
      "likelihood ratio test: chi2=25.9563 , p=0.0262  , df=14\n",
      "parameter F test:         F=1.4618  , p=0.1530  , df_denom=62, df_num=14\n",
      "\n",
      "Granger Causality\n",
      "number of lags (no zero) 15\n",
      "ssr based F test:         F=1.3963  , p=0.1795  , df_denom=59, df_num=15\n",
      "ssr based chi2 test:   chi2=31.9503 , p=0.0065  , df=15\n",
      "likelihood ratio test: chi2=27.3424 , p=0.0261  , df=15\n",
      "parameter F test:         F=1.3963  , p=0.1795  , df_denom=59, df_num=15\n",
      "\n",
      "Granger Causality\n",
      "number of lags (no zero) 16\n",
      "ssr based F test:         F=1.4577  , p=0.1496  , df_denom=56, df_num=16\n",
      "ssr based chi2 test:   chi2=37.0672 , p=0.0021  , df=16\n",
      "likelihood ratio test: chi2=30.9879 , p=0.0135  , df=16\n",
      "parameter F test:         F=1.4577  , p=0.1496  , df_denom=56, df_num=16\n",
      "\n",
      "Granger Causality\n",
      "number of lags (no zero) 17\n",
      "ssr based F test:         F=1.3631  , p=0.1929  , df_denom=53, df_num=17\n",
      "ssr based chi2 test:   chi2=38.4742 , p=0.0021  , df=17\n",
      "likelihood ratio test: chi2=31.9178 , p=0.0154  , df=17\n",
      "parameter F test:         F=1.3631  , p=0.1929  , df_denom=53, df_num=17\n",
      "\n",
      "Granger Causality\n",
      "number of lags (no zero) 18\n",
      "ssr based F test:         F=1.1868  , p=0.3072  , df_denom=50, df_num=18\n",
      "ssr based chi2 test:   chi2=37.1692 , p=0.0050  , df=18\n",
      "likelihood ratio test: chi2=30.9491 , p=0.0292  , df=18\n",
      "parameter F test:         F=1.1868  , p=0.3072  , df_denom=50, df_num=18\n",
      "\n",
      "Granger Causality\n",
      "number of lags (no zero) 19\n",
      "ssr based F test:         F=0.9288  , p=0.5536  , df_denom=47, df_num=19\n",
      "ssr based chi2 test:   chi2=32.2913 , p=0.0290  , df=19\n",
      "likelihood ratio test: chi2=27.4170 , p=0.0953  , df=19\n",
      "parameter F test:         F=0.9288  , p=0.5536  , df_denom=47, df_num=19\n",
      "\n",
      "Granger Causality\n",
      "number of lags (no zero) 20\n",
      "ssr based F test:         F=0.8785  , p=0.6126  , df_denom=44, df_num=20\n",
      "ssr based chi2 test:   chi2=33.9436 , p=0.0265  , df=20\n",
      "likelihood ratio test: chi2=28.5599 , p=0.0968  , df=20\n",
      "parameter F test:         F=0.8785  , p=0.6126  , df_denom=44, df_num=20\n"
     ]
    }
   ],
   "source": [
    "from statsmodels.tsa.stattools import grangercausalitytests\n",
    "\n",
    "granger_result = grangercausalitytests(df_concat[['Potrošnja', 'Prosjek']], maxlag=20)"
   ]
  },
  {
   "cell_type": "markdown",
   "id": "9fd529a3",
   "metadata": {},
   "source": [
    "Kao što se vidi iz rezultata, Grangerov test vraća p<0.05 za vrijednost prvih 10 lagova za različite testove. To zapravo znači da možemo odbaciti NULL hipotezu (da temperatura nema utjecaja na potrošnju energije), i zaključiti alternativnu hipotezu, tj. da temperatura ima utjecaja na potrošnju energije. \n",
    "\n",
    "Zanimljivo je da je vrijednost p<0.05 za prvih 12 lagova, što zapravo znači da postoji kauzalnost između dana mjerenja temperature i povezati temperaturu i sljedećih 12 dana potrošnje energije. Moguće da je razlog to što se temperatura ne mijenja iznenadno te tijekom dužeg perioda (godišnja doba) ima približno istu vrijednost.  \n",
    "\n",
    "Za sanity-check, provodim i Grangerov test da vidim postoji li kauzalnost potrošnje energije na temperaturu:"
   ]
  },
  {
   "cell_type": "code",
   "execution_count": 112,
   "id": "9bacd8b4",
   "metadata": {},
   "outputs": [
    {
     "name": "stdout",
     "output_type": "stream",
     "text": [
      "\n",
      "Granger Causality\n",
      "number of lags (no zero) 1\n",
      "ssr based F test:         F=0.5968  , p=0.4416  , df_denom=101, df_num=1\n",
      "ssr based chi2 test:   chi2=0.6145  , p=0.4331  , df=1\n",
      "likelihood ratio test: chi2=0.6127  , p=0.4338  , df=1\n",
      "parameter F test:         F=0.5968  , p=0.4416  , df_denom=101, df_num=1\n",
      "\n",
      "Granger Causality\n",
      "number of lags (no zero) 2\n",
      "ssr based F test:         F=1.0489  , p=0.3542  , df_denom=98, df_num=2\n",
      "ssr based chi2 test:   chi2=2.2049  , p=0.3321  , df=2\n",
      "likelihood ratio test: chi2=2.1816  , p=0.3359  , df=2\n",
      "parameter F test:         F=1.0489  , p=0.3542  , df_denom=98, df_num=2\n",
      "\n",
      "Granger Causality\n",
      "number of lags (no zero) 3\n",
      "ssr based F test:         F=0.9994  , p=0.3967  , df_denom=95, df_num=3\n",
      "ssr based chi2 test:   chi2=3.2192  , p=0.3590  , df=3\n",
      "likelihood ratio test: chi2=3.1695  , p=0.3662  , df=3\n",
      "parameter F test:         F=0.9994  , p=0.3967  , df_denom=95, df_num=3\n",
      "\n",
      "Granger Causality\n",
      "number of lags (no zero) 4\n",
      "ssr based F test:         F=0.6073  , p=0.6583  , df_denom=92, df_num=4\n",
      "ssr based chi2 test:   chi2=2.6670  , p=0.6150  , df=4\n",
      "likelihood ratio test: chi2=2.6324  , p=0.6211  , df=4\n",
      "parameter F test:         F=0.6073  , p=0.6583  , df_denom=92, df_num=4\n",
      "\n",
      "Granger Causality\n",
      "number of lags (no zero) 5\n",
      "ssr based F test:         F=0.5071  , p=0.7702  , df_denom=89, df_num=5\n",
      "ssr based chi2 test:   chi2=2.8486  , p=0.7233  , df=5\n",
      "likelihood ratio test: chi2=2.8088  , p=0.7294  , df=5\n",
      "parameter F test:         F=0.5071  , p=0.7702  , df_denom=89, df_num=5\n",
      "\n",
      "Granger Causality\n",
      "number of lags (no zero) 6\n",
      "ssr based F test:         F=0.9563  , p=0.4597  , df_denom=86, df_num=6\n",
      "ssr based chi2 test:   chi2=6.6051  , p=0.3589  , df=6\n",
      "likelihood ratio test: chi2=6.3941  , p=0.3805  , df=6\n",
      "parameter F test:         F=0.9563  , p=0.4597  , df_denom=86, df_num=6\n",
      "\n",
      "Granger Causality\n",
      "number of lags (no zero) 7\n",
      "ssr based F test:         F=1.4318  , p=0.2037  , df_denom=83, df_num=7\n",
      "ssr based chi2 test:   chi2=11.8340 , p=0.1062  , df=7\n",
      "likelihood ratio test: chi2=11.1723 , p=0.1313  , df=7\n",
      "parameter F test:         F=1.4318  , p=0.2037  , df_denom=83, df_num=7\n",
      "\n",
      "Granger Causality\n",
      "number of lags (no zero) 8\n",
      "ssr based F test:         F=1.7390  , p=0.1020  , df_denom=80, df_num=8\n",
      "ssr based chi2 test:   chi2=16.8687 , p=0.0315  , df=8\n",
      "likelihood ratio test: chi2=15.5525 , p=0.0493  , df=8\n",
      "parameter F test:         F=1.7390  , p=0.1020  , df_denom=80, df_num=8\n",
      "\n",
      "Granger Causality\n",
      "number of lags (no zero) 9\n",
      "ssr based F test:         F=1.4753  , p=0.1722  , df_denom=77, df_num=9\n",
      "ssr based chi2 test:   chi2=16.5541 , p=0.0562  , df=9\n",
      "likelihood ratio test: chi2=15.2722 , p=0.0837  , df=9\n",
      "parameter F test:         F=1.4753  , p=0.1722  , df_denom=77, df_num=9\n",
      "\n",
      "Granger Causality\n",
      "number of lags (no zero) 10\n",
      "ssr based F test:         F=1.2133  , p=0.2968  , df_denom=74, df_num=10\n",
      "ssr based chi2 test:   chi2=15.5758 , p=0.1124  , df=10\n",
      "likelihood ratio test: chi2=14.4233 , p=0.1545  , df=10\n",
      "parameter F test:         F=1.2133  , p=0.2968  , df_denom=74, df_num=10\n",
      "\n",
      "Granger Causality\n",
      "number of lags (no zero) 11\n",
      "ssr based F test:         F=1.1957  , p=0.3059  , df_denom=71, df_num=11\n",
      "ssr based chi2 test:   chi2=17.4137 , p=0.0962  , df=11\n",
      "likelihood ratio test: chi2=15.9758 , p=0.1420  , df=11\n",
      "parameter F test:         F=1.1957  , p=0.3059  , df_denom=71, df_num=11\n",
      "\n",
      "Granger Causality\n",
      "number of lags (no zero) 12\n",
      "ssr based F test:         F=1.0735  , p=0.3959  , df_denom=68, df_num=12\n",
      "ssr based chi2 test:   chi2=17.6179 , p=0.1278  , df=12\n",
      "likelihood ratio test: chi2=16.1338 , p=0.1852  , df=12\n",
      "parameter F test:         F=1.0735  , p=0.3959  , df_denom=68, df_num=12\n",
      "\n",
      "Granger Causality\n",
      "number of lags (no zero) 13\n",
      "ssr based F test:         F=0.8486  , p=0.6087  , df_denom=65, df_num=13\n",
      "ssr based chi2 test:   chi2=15.6139 , p=0.2706  , df=13\n",
      "likelihood ratio test: chi2=14.4220 , p=0.3448  , df=13\n",
      "parameter F test:         F=0.8486  , p=0.6087  , df_denom=65, df_num=13\n",
      "\n",
      "Granger Causality\n",
      "number of lags (no zero) 14\n",
      "ssr based F test:         F=0.8971  , p=0.5658  , df_denom=62, df_num=14\n",
      "ssr based chi2 test:   chi2=18.4339 , p=0.1877  , df=14\n",
      "likelihood ratio test: chi2=16.7860 , p=0.2678  , df=14\n",
      "parameter F test:         F=0.8971  , p=0.5658  , df_denom=62, df_num=14\n",
      "\n",
      "Granger Causality\n",
      "number of lags (no zero) 15\n",
      "ssr based F test:         F=0.8212  , p=0.6506  , df_denom=59, df_num=15\n",
      "ssr based chi2 test:   chi2=18.7898 , p=0.2234  , df=15\n",
      "likelihood ratio test: chi2=17.0647 , p=0.3150  , df=15\n",
      "parameter F test:         F=0.8212  , p=0.6506  , df_denom=59, df_num=15\n",
      "\n",
      "Granger Causality\n",
      "number of lags (no zero) 16\n",
      "ssr based F test:         F=0.7337  , p=0.7484  , df_denom=56, df_num=16\n",
      "ssr based chi2 test:   chi2=18.6558 , p=0.2869  , df=16\n",
      "likelihood ratio test: chi2=16.9370 , p=0.3897  , df=16\n",
      "parameter F test:         F=0.7337  , p=0.7484  , df_denom=56, df_num=16\n",
      "\n",
      "Granger Causality\n",
      "number of lags (no zero) 17\n",
      "ssr based F test:         F=0.9481  , p=0.5262  , df_denom=53, df_num=17\n",
      "ssr based chi2 test:   chi2=26.7604 , p=0.0617  , df=17\n",
      "likelihood ratio test: chi2=23.3648 , p=0.1377  , df=17\n",
      "parameter F test:         F=0.9481  , p=0.5262  , df_denom=53, df_num=17\n",
      "\n",
      "Granger Causality\n",
      "number of lags (no zero) 18\n",
      "ssr based F test:         F=0.8719  , p=0.6120  , df_denom=50, df_num=18\n",
      "ssr based chi2 test:   chi2=27.3080 , p=0.0734  , df=18\n",
      "likelihood ratio test: chi2=23.7500 , p=0.1634  , df=18\n",
      "parameter F test:         F=0.8719  , p=0.6120  , df_denom=50, df_num=18\n",
      "\n",
      "Granger Causality\n",
      "number of lags (no zero) 19\n",
      "ssr based F test:         F=0.7839  , p=0.7130  , df_denom=47, df_num=19\n",
      "ssr based chi2 test:   chi2=27.2526 , p=0.0989  , df=19\n",
      "likelihood ratio test: chi2=23.6735 , p=0.2090  , df=19\n",
      "parameter F test:         F=0.7839  , p=0.7130  , df_denom=47, df_num=19\n",
      "\n",
      "Granger Causality\n",
      "number of lags (no zero) 20\n",
      "ssr based F test:         F=0.7150  , p=0.7896  , df_denom=44, df_num=20\n",
      "ssr based chi2 test:   chi2=27.6236 , p=0.1186  , df=20\n",
      "likelihood ratio test: chi2=23.9190 , p=0.2459  , df=20\n",
      "parameter F test:         F=0.7150  , p=0.7896  , df_denom=44, df_num=20\n"
     ]
    }
   ],
   "source": [
    "granger_result = grangercausalitytests(df_concat[['Prosjek', 'Potrošnja']], maxlag=20)"
   ]
  },
  {
   "cell_type": "markdown",
   "id": "6106767d",
   "metadata": {},
   "source": [
    "Kao što vidimo, ne postoji utjecaj potrošnje na prosjek temperature."
   ]
  },
  {
   "cell_type": "markdown",
   "id": "41857faa",
   "metadata": {},
   "source": [
    "### Treniram na temelju 9. mjeseca i predviđam za prvih 2 tjedna 10. mjeseca"
   ]
  },
  {
   "cell_type": "code",
   "execution_count": 113,
   "id": "4f3d98c2",
   "metadata": {},
   "outputs": [
    {
     "data": {
      "text/html": [
       "<div>\n",
       "<style scoped>\n",
       "    .dataframe tbody tr th:only-of-type {\n",
       "        vertical-align: middle;\n",
       "    }\n",
       "\n",
       "    .dataframe tbody tr th {\n",
       "        vertical-align: top;\n",
       "    }\n",
       "\n",
       "    .dataframe thead th {\n",
       "        text-align: right;\n",
       "    }\n",
       "</style>\n",
       "<table border=\"1\" class=\"dataframe\">\n",
       "  <thead>\n",
       "    <tr style=\"text-align: right;\">\n",
       "      <th></th>\n",
       "      <th>Potrošnja</th>\n",
       "      <th>Prosjek</th>\n",
       "    </tr>\n",
       "    <tr>\n",
       "      <th>Datetime</th>\n",
       "      <th></th>\n",
       "      <th></th>\n",
       "    </tr>\n",
       "  </thead>\n",
       "  <tbody>\n",
       "    <tr>\n",
       "      <th>2021-09-16</th>\n",
       "      <td>11.647125</td>\n",
       "      <td>-0.38</td>\n",
       "    </tr>\n",
       "    <tr>\n",
       "      <th>2021-09-17</th>\n",
       "      <td>-28.240885</td>\n",
       "      <td>-0.62</td>\n",
       "    </tr>\n",
       "    <tr>\n",
       "      <th>2021-09-18</th>\n",
       "      <td>-180.474969</td>\n",
       "      <td>-0.16</td>\n",
       "    </tr>\n",
       "    <tr>\n",
       "      <th>2021-09-19</th>\n",
       "      <td>-108.812250</td>\n",
       "      <td>0.03</td>\n",
       "    </tr>\n",
       "    <tr>\n",
       "      <th>2021-09-20</th>\n",
       "      <td>209.442031</td>\n",
       "      <td>-0.35</td>\n",
       "    </tr>\n",
       "    <tr>\n",
       "      <th>2021-09-21</th>\n",
       "      <td>9.629031</td>\n",
       "      <td>-0.28</td>\n",
       "    </tr>\n",
       "    <tr>\n",
       "      <th>2021-09-22</th>\n",
       "      <td>18.546531</td>\n",
       "      <td>-3.20</td>\n",
       "    </tr>\n",
       "    <tr>\n",
       "      <th>2021-09-23</th>\n",
       "      <td>-13.689896</td>\n",
       "      <td>1.33</td>\n",
       "    </tr>\n",
       "    <tr>\n",
       "      <th>2021-09-24</th>\n",
       "      <td>-6.765125</td>\n",
       "      <td>-1.53</td>\n",
       "    </tr>\n",
       "    <tr>\n",
       "      <th>2021-09-25</th>\n",
       "      <td>-133.920833</td>\n",
       "      <td>-2.84</td>\n",
       "    </tr>\n",
       "    <tr>\n",
       "      <th>2021-09-26</th>\n",
       "      <td>-99.628677</td>\n",
       "      <td>0.92</td>\n",
       "    </tr>\n",
       "    <tr>\n",
       "      <th>2021-09-27</th>\n",
       "      <td>203.512240</td>\n",
       "      <td>2.35</td>\n",
       "    </tr>\n",
       "    <tr>\n",
       "      <th>2021-09-28</th>\n",
       "      <td>32.634094</td>\n",
       "      <td>1.93</td>\n",
       "    </tr>\n",
       "    <tr>\n",
       "      <th>2021-09-29</th>\n",
       "      <td>-9.201958</td>\n",
       "      <td>-2.06</td>\n",
       "    </tr>\n",
       "    <tr>\n",
       "      <th>2021-09-30</th>\n",
       "      <td>1.805188</td>\n",
       "      <td>-4.67</td>\n",
       "    </tr>\n",
       "    <tr>\n",
       "      <th>2021-10-01</th>\n",
       "      <td>-9.865198</td>\n",
       "      <td>3.15</td>\n",
       "    </tr>\n",
       "    <tr>\n",
       "      <th>2021-10-02</th>\n",
       "      <td>-141.576833</td>\n",
       "      <td>0.90</td>\n",
       "    </tr>\n",
       "    <tr>\n",
       "      <th>2021-10-03</th>\n",
       "      <td>-105.917698</td>\n",
       "      <td>0.97</td>\n",
       "    </tr>\n",
       "    <tr>\n",
       "      <th>2021-10-04</th>\n",
       "      <td>208.387781</td>\n",
       "      <td>0.96</td>\n",
       "    </tr>\n",
       "    <tr>\n",
       "      <th>2021-10-05</th>\n",
       "      <td>25.927094</td>\n",
       "      <td>0.52</td>\n",
       "    </tr>\n",
       "    <tr>\n",
       "      <th>2021-10-06</th>\n",
       "      <td>19.249927</td>\n",
       "      <td>-2.65</td>\n",
       "    </tr>\n",
       "    <tr>\n",
       "      <th>2021-10-07</th>\n",
       "      <td>54.634531</td>\n",
       "      <td>-3.28</td>\n",
       "    </tr>\n",
       "    <tr>\n",
       "      <th>2021-10-08</th>\n",
       "      <td>-6.055573</td>\n",
       "      <td>-1.12</td>\n",
       "    </tr>\n",
       "    <tr>\n",
       "      <th>2021-10-09</th>\n",
       "      <td>-133.270542</td>\n",
       "      <td>-1.70</td>\n",
       "    </tr>\n",
       "    <tr>\n",
       "      <th>2021-10-10</th>\n",
       "      <td>-31.605021</td>\n",
       "      <td>1.68</td>\n",
       "    </tr>\n",
       "    <tr>\n",
       "      <th>2021-10-11</th>\n",
       "      <td>226.762635</td>\n",
       "      <td>0.09</td>\n",
       "    </tr>\n",
       "    <tr>\n",
       "      <th>2021-10-12</th>\n",
       "      <td>-2.716562</td>\n",
       "      <td>-0.67</td>\n",
       "    </tr>\n",
       "    <tr>\n",
       "      <th>2021-10-13</th>\n",
       "      <td>33.360729</td>\n",
       "      <td>-1.10</td>\n",
       "    </tr>\n",
       "    <tr>\n",
       "      <th>2021-10-14</th>\n",
       "      <td>9.040875</td>\n",
       "      <td>-1.25</td>\n",
       "    </tr>\n",
       "  </tbody>\n",
       "</table>\n",
       "</div>"
      ],
      "text/plain": [
       "             Potrošnja  Prosjek\n",
       "Datetime                       \n",
       "2021-09-16   11.647125    -0.38\n",
       "2021-09-17  -28.240885    -0.62\n",
       "2021-09-18 -180.474969    -0.16\n",
       "2021-09-19 -108.812250     0.03\n",
       "2021-09-20  209.442031    -0.35\n",
       "2021-09-21    9.629031    -0.28\n",
       "2021-09-22   18.546531    -3.20\n",
       "2021-09-23  -13.689896     1.33\n",
       "2021-09-24   -6.765125    -1.53\n",
       "2021-09-25 -133.920833    -2.84\n",
       "2021-09-26  -99.628677     0.92\n",
       "2021-09-27  203.512240     2.35\n",
       "2021-09-28   32.634094     1.93\n",
       "2021-09-29   -9.201958    -2.06\n",
       "2021-09-30    1.805188    -4.67\n",
       "2021-10-01   -9.865198     3.15\n",
       "2021-10-02 -141.576833     0.90\n",
       "2021-10-03 -105.917698     0.97\n",
       "2021-10-04  208.387781     0.96\n",
       "2021-10-05   25.927094     0.52\n",
       "2021-10-06   19.249927    -2.65\n",
       "2021-10-07   54.634531    -3.28\n",
       "2021-10-08   -6.055573    -1.12\n",
       "2021-10-09 -133.270542    -1.70\n",
       "2021-10-10  -31.605021     1.68\n",
       "2021-10-11  226.762635     0.09\n",
       "2021-10-12   -2.716562    -0.67\n",
       "2021-10-13   33.360729    -1.10\n",
       "2021-10-14    9.040875    -1.25"
      ]
     },
     "execution_count": 113,
     "metadata": {},
     "output_type": "execute_result"
    }
   ],
   "source": [
    "# Split data into train - test\n",
    "train = df_concat[df_concat.index < '2021-09-15']\n",
    "test = df_concat[df_concat.index > '2021-09-15']\n",
    "\n",
    "# Check shape\n",
    "train.shape, test.shape\n",
    "test"
   ]
  },
  {
   "cell_type": "markdown",
   "id": "1df3f32b",
   "metadata": {},
   "source": [
    "### Using SARIMA for forecasting"
   ]
  },
  {
   "cell_type": "markdown",
   "id": "7b7e459a",
   "metadata": {},
   "source": [
    "Dekompozicija potrošnje da se vidi sezonalnost i trend"
   ]
  },
  {
   "cell_type": "code",
   "execution_count": 114,
   "id": "faa5618e",
   "metadata": {},
   "outputs": [
    {
     "data": {
      "image/png": "[encoded data removed]",
      "text/plain": [
       "<Figure size 432x288 with 4 Axes>"
      ]
     },
     "metadata": {
      "needs_background": "light"
     },
     "output_type": "display_data"
    }
   ],
   "source": [
    "from statsmodels.tsa.seasonal import seasonal_decompose\n",
    "\n",
    "# Decomposing the time series\n",
    "decompose_data = seasonal_decompose(df_concat.Potrošnja, model=\"additive\")\n",
    "decompose_data.plot();"
   ]
  },
  {
   "cell_type": "code",
   "execution_count": 115,
   "id": "84eaf9ff",
   "metadata": {},
   "outputs": [
    {
     "name": "stdout",
     "output_type": "stream",
     "text": [
      "Performing stepwise search to minimize aic\n",
      " ARIMA(2,0,2)(0,0,0)[0]             : AIC=1276.743, Time=0.12 sec\n",
      " ARIMA(0,0,0)(0,0,0)[0]             : AIC=1291.537, Time=0.00 sec\n",
      " ARIMA(1,0,0)(0,0,0)[0]             : AIC=1293.070, Time=0.01 sec\n",
      " ARIMA(0,0,1)(0,0,0)[0]             : AIC=1292.394, Time=0.01 sec\n",
      " ARIMA(1,0,2)(0,0,0)[0]             : AIC=1277.104, Time=0.04 sec\n",
      " ARIMA(2,0,1)(0,0,0)[0]             : AIC=1279.104, Time=0.04 sec\n",
      " ARIMA(3,0,2)(0,0,0)[0]             : AIC=1277.622, Time=0.07 sec\n",
      " ARIMA(2,0,3)(0,0,0)[0]             : AIC=inf, Time=0.13 sec\n",
      " ARIMA(1,0,1)(0,0,0)[0]             : AIC=1285.444, Time=0.04 sec\n",
      " ARIMA(1,0,3)(0,0,0)[0]             : AIC=inf, Time=0.12 sec\n",
      " ARIMA(3,0,1)(0,0,0)[0]             : AIC=1280.241, Time=0.08 sec\n",
      " ARIMA(3,0,3)(0,0,0)[0]             : AIC=inf, Time=0.21 sec\n",
      " ARIMA(2,0,2)(0,0,0)[0] intercept   : AIC=inf, Time=0.12 sec\n",
      "\n",
      "Best model:  ARIMA(2,0,2)(0,0,0)[0]          \n",
      "Total fit time: 0.996 seconds\n"
     ]
    },
    {
     "data": {
      "text/html": [
       "<table class=\"simpletable\">\n",
       "<caption>SARIMAX Results</caption>\n",
       "<tr>\n",
       "  <th>Dep. Variable:</th>           <td>y</td>        <th>  No. Observations:  </th>    <td>105</td>  \n",
       "</tr>\n",
       "<tr>\n",
       "  <th>Model:</th>           <td>SARIMAX(2, 0, 2)</td> <th>  Log Likelihood     </th> <td>-633.371</td>\n",
       "</tr>\n",
       "<tr>\n",
       "  <th>Date:</th>            <td>Fri, 10 Jun 2022</td> <th>  AIC                </th> <td>1276.743</td>\n",
       "</tr>\n",
       "<tr>\n",
       "  <th>Time:</th>                <td>16:39:12</td>     <th>  BIC                </th> <td>1290.013</td>\n",
       "</tr>\n",
       "<tr>\n",
       "  <th>Sample:</th>                  <td>0</td>        <th>  HQIC               </th> <td>1282.120</td>\n",
       "</tr>\n",
       "<tr>\n",
       "  <th></th>                      <td> - 105</td>      <th>                     </th>     <td> </td>   \n",
       "</tr>\n",
       "<tr>\n",
       "  <th>Covariance Type:</th>        <td>opg</td>       <th>                     </th>     <td> </td>   \n",
       "</tr>\n",
       "</table>\n",
       "<table class=\"simpletable\">\n",
       "<tr>\n",
       "     <td></td>       <th>coef</th>     <th>std err</th>      <th>z</th>      <th>P>|z|</th>  <th>[0.025</th>    <th>0.975]</th>  \n",
       "</tr>\n",
       "<tr>\n",
       "  <th>ar.L1</th>  <td>    0.0477</td> <td>    0.202</td> <td>    0.237</td> <td> 0.813</td> <td>   -0.348</td> <td>    0.443</td>\n",
       "</tr>\n",
       "<tr>\n",
       "  <th>ar.L2</th>  <td>    0.2970</td> <td>    0.166</td> <td>    1.792</td> <td> 0.073</td> <td>   -0.028</td> <td>    0.622</td>\n",
       "</tr>\n",
       "<tr>\n",
       "  <th>ma.L1</th>  <td>   -0.0509</td> <td>    0.137</td> <td>   -0.372</td> <td> 0.710</td> <td>   -0.318</td> <td>    0.217</td>\n",
       "</tr>\n",
       "<tr>\n",
       "  <th>ma.L2</th>  <td>   -0.7750</td> <td>    0.111</td> <td>   -7.011</td> <td> 0.000</td> <td>   -0.992</td> <td>   -0.558</td>\n",
       "</tr>\n",
       "<tr>\n",
       "  <th>sigma2</th> <td> 1.006e+04</td> <td> 1588.921</td> <td>    6.334</td> <td> 0.000</td> <td> 6949.602</td> <td> 1.32e+04</td>\n",
       "</tr>\n",
       "</table>\n",
       "<table class=\"simpletable\">\n",
       "<tr>\n",
       "  <th>Ljung-Box (L1) (Q):</th>     <td>0.04</td> <th>  Jarque-Bera (JB):  </th> <td>0.44</td>\n",
       "</tr>\n",
       "<tr>\n",
       "  <th>Prob(Q):</th>                <td>0.85</td> <th>  Prob(JB):          </th> <td>0.80</td>\n",
       "</tr>\n",
       "<tr>\n",
       "  <th>Heteroskedasticity (H):</th> <td>0.69</td> <th>  Skew:              </th> <td>0.08</td>\n",
       "</tr>\n",
       "<tr>\n",
       "  <th>Prob(H) (two-sided):</th>    <td>0.27</td> <th>  Kurtosis:          </th> <td>2.72</td>\n",
       "</tr>\n",
       "</table><br/><br/>Warnings:<br/>[1] Covariance matrix calculated using the outer product of gradients (complex-step)."
      ],
      "text/plain": [
       "<class 'statsmodels.iolib.summary.Summary'>\n",
       "\"\"\"\n",
       "                               SARIMAX Results                                \n",
       "==============================================================================\n",
       "Dep. Variable:                      y   No. Observations:                  105\n",
       "Model:               SARIMAX(2, 0, 2)   Log Likelihood                -633.371\n",
       "Date:                Fri, 10 Jun 2022   AIC                           1276.743\n",
       "Time:                        16:39:12   BIC                           1290.013\n",
       "Sample:                             0   HQIC                          1282.120\n",
       "                                - 105                                         \n",
       "Covariance Type:                  opg                                         \n",
       "==============================================================================\n",
       "                 coef    std err          z      P>|z|      [0.025      0.975]\n",
       "------------------------------------------------------------------------------\n",
       "ar.L1          0.0477      0.202      0.237      0.813      -0.348       0.443\n",
       "ar.L2          0.2970      0.166      1.792      0.073      -0.028       0.622\n",
       "ma.L1         -0.0509      0.137     -0.372      0.710      -0.318       0.217\n",
       "ma.L2         -0.7750      0.111     -7.011      0.000      -0.992      -0.558\n",
       "sigma2      1.006e+04   1588.921      6.334      0.000    6949.602    1.32e+04\n",
       "===================================================================================\n",
       "Ljung-Box (L1) (Q):                   0.04   Jarque-Bera (JB):                 0.44\n",
       "Prob(Q):                              0.85   Prob(JB):                         0.80\n",
       "Heteroskedasticity (H):               0.69   Skew:                             0.08\n",
       "Prob(H) (two-sided):                  0.27   Kurtosis:                         2.72\n",
       "===================================================================================\n",
       "\n",
       "Warnings:\n",
       "[1] Covariance matrix calculated using the outer product of gradients (complex-step).\n",
       "\"\"\""
      ]
     },
     "execution_count": 115,
     "metadata": {},
     "output_type": "execute_result"
    }
   ],
   "source": [
    "# Izracunaj najbolji order\n",
    "from pmdarima.arima import auto_arima\n",
    "\n",
    "auto_arima_result = auto_arima(y=df_concat['Potrošnja'], x=df_concat, trace=True, seasonal=False, information_criterion='aic')\n",
    "\n",
    "auto_arima_result.summary()"
   ]
  },
  {
   "cell_type": "code",
   "execution_count": null,
   "id": "79879d67",
   "metadata": {},
   "outputs": [],
   "source": []
  },
  {
   "cell_type": "code",
   "execution_count": null,
   "id": "f939c097",
   "metadata": {},
   "outputs": [],
   "source": []
  },
  {
   "cell_type": "code",
   "execution_count": 122,
   "id": "8e2b943b",
   "metadata": {},
   "outputs": [
    {
     "name": "stdout",
     "output_type": "stream",
     "text": [
      "RUNNING THE L-BFGS-B CODE\n",
      "\n",
      "           * * *\n",
      "\n",
      "Machine precision = 2.220D-16\n",
      " N =            6     M =           10\n",
      "\n",
      "At X0         0 variables are exactly at the bounds\n",
      "\n",
      "At iterate    0    f=  6.16235D+00    |proj g|=  4.23479D-01\n",
      "\n",
      "At iterate    5    f=  6.02967D+00    |proj g|=  4.86105D-02\n",
      "\n",
      "At iterate   10    f=  6.02015D+00    |proj g|=  5.16641D-02\n",
      "\n",
      "At iterate   15    f=  6.01470D+00    |proj g|=  8.58960D-04\n",
      "\n",
      "At iterate   20    f=  6.01406D+00    |proj g|=  4.65999D-03\n",
      "\n",
      "At iterate   25    f=  6.01310D+00    |proj g|=  4.84769D-04\n",
      "\n",
      "At iterate   30    f=  6.01307D+00    |proj g|=  5.85132D-03\n",
      "\n",
      "At iterate   35    f=  6.01298D+00    |proj g|=  3.60995D-05\n",
      "\n",
      "           * * *\n",
      "\n",
      "Tit   = total number of iterations\n",
      "Tnf   = total number of function evaluations\n",
      "Tnint = total number of segments explored during Cauchy searches\n",
      "Skip  = number of BFGS updates skipped\n",
      "Nact  = number of active bounds at final generalized Cauchy point\n",
      "Projg = norm of the final projected gradient\n",
      "F     = final function value\n",
      "\n",
      "           * * *\n",
      "\n",
      "   N    Tit     Tnf  Tnint  Skip  Nact     Projg        F\n",
      "    6     36     40      1     0     0   9.106D-06   6.013D+00\n",
      "  F =   6.0129798290345962     \n",
      "\n",
      "CONVERGENCE: NORM_OF_PROJECTED_GRADIENT_<=_PGTOL            \n",
      "RUNNING THE L-BFGS-B CODE\n",
      "\n",
      "           * * *\n",
      "\n",
      "Machine precision = 2.220D-16\n",
      " N =            6     M =           10\n",
      "\n",
      "At X0         0 variables are exactly at the bounds\n",
      "\n",
      "At iterate    0    f=  4.30703D-01    |proj g|=  3.85250D+00\n",
      "\n",
      "At iterate    5    f=  4.28646D-03    |proj g|=  4.18245D+00\n",
      "\n",
      "At iterate   10    f= -1.07113D-01    |proj g|=  2.84610D-01\n",
      "\n",
      "At iterate   15    f= -1.46182D-01    |proj g|=  4.41569D-02\n",
      "\n",
      "At iterate   20    f= -1.50008D-01    |proj g|=  1.73702D-01\n",
      "\n",
      "At iterate   25    f= -1.51220D-01    |proj g|=  6.78814D-03\n",
      "\n",
      "At iterate   30    f= -1.51259D-01    |proj g|=  9.05464D-03\n",
      "\n",
      "At iterate   35    f= -1.52907D-01    |proj g|=  2.10088D-02\n",
      "\n",
      "At iterate   40    f= -1.58127D-01    |proj g|=  1.77863D-02\n",
      "\n",
      "At iterate   45    f= -1.59763D-01    |proj g|=  2.13771D-02\n",
      "\n",
      "At iterate   50    f= -1.60409D-01    |proj g|=  6.27885D-03\n",
      "\n",
      "           * * *\n",
      "\n",
      "Tit   = total number of iterations\n",
      "Tnf   = total number of function evaluations\n",
      "Tnint = total number of segments explored during Cauchy searches\n",
      "Skip  = number of BFGS updates skipped\n",
      "Nact  = number of active bounds at final generalized Cauchy point\n",
      "Projg = norm of the final projected gradient\n",
      "F     = final function value\n",
      "\n",
      "           * * *\n",
      "\n",
      "   N    Tit     Tnf  Tnint  Skip  Nact     Projg        F\n",
      "    6     50     58      1     0     0   6.279D-03  -1.604D-01\n",
      "  F = -0.16040883909496442     \n",
      "\n",
      "STOP: TOTAL NO. of ITERATIONS REACHED LIMIT                 \n",
      "RUNNING THE L-BFGS-B CODE\n",
      "\n",
      "           * * *\n",
      "\n",
      "Machine precision = 2.220D-16\n",
      " N =            6     M =           10\n",
      "\n",
      "At X0         0 variables are exactly at the bounds\n",
      "\n",
      "At iterate    0    f=  6.16235D+00    |proj g|=  4.23479D-01\n",
      "\n",
      "At iterate    5    f=  6.02967D+00    |proj g|=  4.86105D-02\n",
      "\n",
      "At iterate   10    f=  6.02015D+00    |proj g|=  5.16641D-02\n",
      "\n",
      "At iterate   15    f=  6.01470D+00    |proj g|=  8.58960D-04\n",
      "\n",
      "At iterate   20    f=  6.01406D+00    |proj g|=  4.65999D-03\n",
      "\n",
      "At iterate   25    f=  6.01310D+00    |proj g|=  4.84769D-04\n",
      "\n",
      "At iterate   30    f=  6.01307D+00    |proj g|=  5.85132D-03\n",
      "\n",
      "At iterate   35    f=  6.01298D+00    |proj g|=  3.60995D-05\n",
      "\n",
      "           * * *\n",
      "\n",
      "Tit   = total number of iterations\n",
      "Tnf   = total number of function evaluations\n",
      "Tnint = total number of segments explored during Cauchy searches\n",
      "Skip  = number of BFGS updates skipped\n",
      "Nact  = number of active bounds at final generalized Cauchy point\n",
      "Projg = norm of the final projected gradient\n",
      "F     = final function value\n",
      "\n",
      "           * * *\n",
      "\n",
      "   N    Tit     Tnf  Tnint  Skip  Nact     Projg        F\n",
      "    6     36     40      1     0     0   9.106D-06   6.013D+00\n",
      "  F =   6.0129798290345962     \n",
      "\n",
      "CONVERGENCE: NORM_OF_PROJECTED_GRADIENT_<=_PGTOL            \n",
      "RUNNING THE L-BFGS-B CODE\n",
      "\n",
      "           * * *\n",
      "\n",
      "Machine precision = 2.220D-16\n",
      " N =            6     M =           10\n",
      "\n",
      "At X0         0 variables are exactly at the bounds\n",
      "\n",
      "At iterate    0    f=  6.10504D+00    |proj g|=  1.15089D-01\n",
      "\n",
      "At iterate    5    f=  6.06533D+00    |proj g|=  7.43339D-03\n",
      "\n",
      "At iterate   10    f=  6.06050D+00    |proj g|=  3.90809D-03\n",
      "\n",
      "At iterate   15    f=  6.05141D+00    |proj g|=  5.92631D-03\n",
      "\n",
      "At iterate   20    f=  6.05111D+00    |proj g|=  3.89969D-03\n",
      "\n",
      "At iterate   25    f=  6.04890D+00    |proj g|=  2.21912D-02\n",
      "\n",
      "At iterate   30    f=  6.04798D+00    |proj g|=  2.26091D-04\n",
      "\n",
      "At iterate   35    f=  6.04798D+00    |proj g|=  2.44822D-05\n",
      "\n",
      "           * * *\n",
      "\n",
      "Tit   = total number of iterations\n",
      "Tnf   = total number of function evaluations\n",
      "Tnint = total number of segments explored during Cauchy searches\n",
      "Skip  = number of BFGS updates skipped\n",
      "Nact  = number of active bounds at final generalized Cauchy point\n",
      "Projg = norm of the final projected gradient\n",
      "F     = final function value\n",
      "\n",
      "           * * *\n",
      "\n",
      "   N    Tit     Tnf  Tnint  Skip  Nact     Projg        F\n",
      "    6     35     40      1     0     0   2.448D-05   6.048D+00\n",
      "  F =   6.0479761992519894     \n",
      "\n",
      "CONVERGENCE: REL_REDUCTION_OF_F_<=_FACTR*EPSMCH             \n",
      "RUNNING THE L-BFGS-B CODE\n",
      "\n",
      "           * * *\n",
      "\n",
      "Machine precision = 2.220D-16\n",
      " N =            6     M =           10\n",
      "\n",
      "At X0         0 variables are exactly at the bounds\n",
      "\n",
      "At iterate    0    f=  6.10504D+00    |proj g|=  1.15089D-01\n",
      "\n",
      "At iterate    5    f=  6.06533D+00    |proj g|=  7.43339D-03\n",
      "\n",
      "At iterate   10    f=  6.06050D+00    |proj g|=  3.90809D-03\n",
      "\n",
      "At iterate   15    f=  6.05141D+00    |proj g|=  5.92631D-03\n",
      "\n",
      "At iterate   20    f=  6.05111D+00    |proj g|=  3.89969D-03\n",
      "\n",
      "At iterate   25    f=  6.04890D+00    |proj g|=  2.21912D-02\n",
      "\n",
      "At iterate   30    f=  6.04798D+00    |proj g|=  2.26091D-04\n",
      "\n",
      "At iterate   35    f=  6.04798D+00    |proj g|=  2.44822D-05\n",
      "\n",
      "           * * *\n",
      "\n",
      "Tit   = total number of iterations\n",
      "Tnf   = total number of function evaluations\n",
      "Tnint = total number of segments explored during Cauchy searches\n",
      "Skip  = number of BFGS updates skipped\n",
      "Nact  = number of active bounds at final generalized Cauchy point\n",
      "Projg = norm of the final projected gradient\n",
      "F     = final function value\n",
      "\n",
      "           * * *\n",
      "\n",
      "   N    Tit     Tnf  Tnint  Skip  Nact     Projg        F\n",
      "    6     35     40      1     0     0   2.448D-05   6.048D+00\n",
      "  F =   6.0479761992519894     \n",
      "\n",
      "CONVERGENCE: REL_REDUCTION_OF_F_<=_FACTR*EPSMCH             \n",
      "RUNNING THE L-BFGS-B CODE\n",
      "\n",
      "           * * *\n",
      "\n",
      "Machine precision = 2.220D-16\n",
      " N =            6     M =           10\n",
      "\n",
      "At X0         0 variables are exactly at the bounds\n",
      "\n",
      "At iterate    0    f=  6.16235D+00    |proj g|=  4.23479D-01\n",
      "\n",
      "At iterate    5    f=  6.02967D+00    |proj g|=  4.86105D-02\n",
      "\n",
      "At iterate   10    f=  6.02015D+00    |proj g|=  5.16641D-02\n",
      "\n",
      "At iterate   15    f=  6.01470D+00    |proj g|=  8.58960D-04\n",
      "\n",
      "At iterate   20    f=  6.01406D+00    |proj g|=  4.65999D-03\n",
      "\n",
      "At iterate   25    f=  6.01310D+00    |proj g|=  4.84769D-04\n",
      "\n",
      "At iterate   30    f=  6.01307D+00    |proj g|=  5.85132D-03\n",
      "\n",
      "At iterate   35    f=  6.01298D+00    |proj g|=  3.60995D-05\n",
      "\n",
      "           * * *\n",
      "\n",
      "Tit   = total number of iterations\n",
      "Tnf   = total number of function evaluations\n",
      "Tnint = total number of segments explored during Cauchy searches\n",
      "Skip  = number of BFGS updates skipped\n",
      "Nact  = number of active bounds at final generalized Cauchy point\n",
      "Projg = norm of the final projected gradient\n",
      "F     = final function value\n",
      "\n",
      "           * * *\n",
      "\n",
      "   N    Tit     Tnf  Tnint  Skip  Nact     Projg        F\n",
      "    6     36     40      1     0     0   9.106D-06   6.013D+00\n",
      "  F =   6.0129798290345962     \n",
      "\n",
      "CONVERGENCE: NORM_OF_PROJECTED_GRADIENT_<=_PGTOL            \n",
      "RUNNING THE L-BFGS-B CODE\n",
      "\n",
      "           * * *\n",
      "\n",
      "Machine precision = 2.220D-16\n",
      " N =            6     M =           10\n",
      "\n",
      "At X0         0 variables are exactly at the bounds\n",
      "\n",
      "At iterate    0    f=  6.16235D+00    |proj g|=  4.23479D-01\n",
      "\n",
      "At iterate    5    f=  6.02967D+00    |proj g|=  4.86105D-02\n",
      "\n",
      "At iterate   10    f=  6.02015D+00    |proj g|=  5.16641D-02\n",
      "\n",
      "At iterate   15    f=  6.01470D+00    |proj g|=  8.58960D-04\n",
      "\n",
      "At iterate   20    f=  6.01406D+00    |proj g|=  4.65999D-03\n",
      "\n",
      "At iterate   25    f=  6.01310D+00    |proj g|=  4.84769D-04\n",
      "\n"
     ]
    },
    {
     "name": "stderr",
     "output_type": "stream",
     "text": [
      "/home/silvio/.local/lib/python3.8/site-packages/statsmodels/tsa/statespace/sarimax.py:966: UserWarning: Non-stationary starting autoregressive parameters found. Using zeros as starting parameters.\n",
      "  warn('Non-stationary starting autoregressive parameters'\n",
      "/home/silvio/.local/lib/python3.8/site-packages/statsmodels/tsa/statespace/sarimax.py:978: UserWarning: Non-invertible starting MA parameters found. Using zeros as starting parameters.\n",
      "  warn('Non-invertible starting MA parameters found.'\n"
     ]
    }
   ],
   "source": [
    "import statsmodels.api as sm\n",
    "\n",
    "model=sm.tsa.statespace.SARIMAX(endog=df_concat['Potrošnja'], exog=df_concat['Prosjek'] , order=(2, 0, 2) ,seasonal_order=(0,0,0,0))\n",
    "\n",
    "results=model.fit()"
   ]
  },
  {
   "cell_type": "code",
   "execution_count": 126,
   "id": "74d04e96",
   "metadata": {},
   "outputs": [
    {
     "name": "stderr",
     "output_type": "stream",
     "text": [
      "/tmp/ipykernel_27841/2369365017.py:1: SettingWithCopyWarning: \n",
      "A value is trying to be set on a copy of a slice from a DataFrame.\n",
      "Try using .loc[row_indexer,col_indexer] = value instead\n",
      "\n",
      "See the caveats in the documentation: https://pandas.pydata.org/pandas-docs/stable/user_guide/indexing.html#returning-a-view-versus-a-copy\n",
      "  test['Potrošnja'] = results.predict(exog=test['Prosjek'], start='2021-09-16', end='2021-10-14')\n"
     ]
    },
    {
     "data": {
      "text/plain": [
       "<AxesSubplot:xlabel='Datetime'>"
      ]
     },
     "execution_count": 126,
     "metadata": {},
     "output_type": "execute_result"
    },
    {
     "data": {
      "image/png": "[encoded data removed]",
      "text/plain": [
       "<Figure size 432x288 with 1 Axes>"
      ]
     },
     "metadata": {
      "needs_background": "light"
     },
     "output_type": "display_data"
    }
   ],
   "source": [
    "test['Potrošnja'] = results.predict(exog=test['Prosjek'], start='2021-09-16', end='2021-10-14')\n",
    "\n",
    "test.plot()"
   ]
  },
  {
   "cell_type": "code",
   "execution_count": 127,
   "id": "7b2208b5",
   "metadata": {},
   "outputs": [
    {
     "data": {
      "text/plain": [
       "<AxesSubplot:xlabel='Datetime'>"
      ]
     },
     "execution_count": 127,
     "metadata": {},
     "output_type": "execute_result"
    },
    {
     "data": {
      "image/png": "[encoded data removed]",
      "text/plain": [
       "<Figure size 432x288 with 1 Axes>"
      ]
     },
     "metadata": {
      "needs_background": "light"
     },
     "output_type": "display_data"
    }
   ],
   "source": [
    "df_concat.Potrošnja.plot()\n",
    "test.Potrošnja.plot()"
   ]
  },
  {
   "cell_type": "markdown",
   "id": "717a9273",
   "metadata": {},
   "source": [
    "Zaključak je da model možemo koristiti za predikcije"
   ]
  },
  {
   "cell_type": "markdown",
   "id": "de51b927",
   "metadata": {},
   "source": [
    "#### Normalizacija podataka"
   ]
  },
  {
   "cell_type": "code",
   "execution_count": 37,
   "id": "c2c8fab1",
   "metadata": {},
   "outputs": [
    {
     "data": {
      "text/html": [
       "<div>\n",
       "<style scoped>\n",
       "    .dataframe tbody tr th:only-of-type {\n",
       "        vertical-align: middle;\n",
       "    }\n",
       "\n",
       "    .dataframe tbody tr th {\n",
       "        vertical-align: top;\n",
       "    }\n",
       "\n",
       "    .dataframe thead th {\n",
       "        text-align: right;\n",
       "    }\n",
       "</style>\n",
       "<table border=\"1\" class=\"dataframe\">\n",
       "  <thead>\n",
       "    <tr style=\"text-align: right;\">\n",
       "      <th></th>\n",
       "      <th>Potrošnja</th>\n",
       "      <th>Prosjek</th>\n",
       "    </tr>\n",
       "    <tr>\n",
       "      <th>Datetime</th>\n",
       "      <th></th>\n",
       "      <th></th>\n",
       "    </tr>\n",
       "  </thead>\n",
       "  <tbody>\n",
       "    <tr>\n",
       "      <th>2021-07-02</th>\n",
       "      <td>0.355791</td>\n",
       "      <td>0.496565</td>\n",
       "    </tr>\n",
       "    <tr>\n",
       "      <th>2021-07-03</th>\n",
       "      <td>0.278904</td>\n",
       "      <td>0.607458</td>\n",
       "    </tr>\n",
       "    <tr>\n",
       "      <th>2021-07-04</th>\n",
       "      <td>0.267455</td>\n",
       "      <td>0.656526</td>\n",
       "    </tr>\n",
       "    <tr>\n",
       "      <th>2021-07-05</th>\n",
       "      <td>0.889317</td>\n",
       "      <td>0.508342</td>\n",
       "    </tr>\n",
       "    <tr>\n",
       "      <th>2021-07-06</th>\n",
       "      <td>0.721246</td>\n",
       "      <td>0.702650</td>\n",
       "    </tr>\n",
       "    <tr>\n",
       "      <th>...</th>\n",
       "      <td>...</td>\n",
       "      <td>...</td>\n",
       "    </tr>\n",
       "    <tr>\n",
       "      <th>2021-10-10</th>\n",
       "      <td>0.431516</td>\n",
       "      <td>0.671246</td>\n",
       "    </tr>\n",
       "    <tr>\n",
       "      <th>2021-10-11</th>\n",
       "      <td>0.915167</td>\n",
       "      <td>0.515211</td>\n",
       "    </tr>\n",
       "    <tr>\n",
       "      <th>2021-10-12</th>\n",
       "      <td>0.485594</td>\n",
       "      <td>0.440628</td>\n",
       "    </tr>\n",
       "    <tr>\n",
       "      <th>2021-10-13</th>\n",
       "      <td>0.553129</td>\n",
       "      <td>0.398430</td>\n",
       "    </tr>\n",
       "    <tr>\n",
       "      <th>2021-10-14</th>\n",
       "      <td>0.507603</td>\n",
       "      <td>0.383710</td>\n",
       "    </tr>\n",
       "  </tbody>\n",
       "</table>\n",
       "<p>105 rows × 2 columns</p>\n",
       "</div>"
      ],
      "text/plain": [
       "            Potrošnja   Prosjek\n",
       "Datetime                       \n",
       "2021-07-02   0.355791  0.496565\n",
       "2021-07-03   0.278904  0.607458\n",
       "2021-07-04   0.267455  0.656526\n",
       "2021-07-05   0.889317  0.508342\n",
       "2021-07-06   0.721246  0.702650\n",
       "...               ...       ...\n",
       "2021-10-10   0.431516  0.671246\n",
       "2021-10-11   0.915167  0.515211\n",
       "2021-10-12   0.485594  0.440628\n",
       "2021-10-13   0.553129  0.398430\n",
       "2021-10-14   0.507603  0.383710\n",
       "\n",
       "[105 rows x 2 columns]"
      ]
     },
     "execution_count": 37,
     "metadata": {},
     "output_type": "execute_result"
    }
   ],
   "source": [
    "# Import library\n",
    "from sklearn.preprocessing import MinMaxScaler\n",
    "\n",
    "# Define min-max scaler\n",
    "scaler = MinMaxScaler()\n",
    "\n",
    "# Fit-Transform data (ali samo fit na training data, transform na oba)\n",
    "\n",
    "normalization_min_potrosnja = df_concat[:'2021-09-30']['Potrošnja'].min()\n",
    "normalization_max_potrosnja = df_concat[:'2021-09-30']['Potrošnja'].max()\n",
    "\n",
    "normalization_min_prosjek = df_concat[:'2021-09-30']['Prosjek'].min()\n",
    "normalization_max_prosjek = df_concat[:'2021-09-30']['Prosjek'].max()\n",
    "\n",
    "normalized_df = pd.DataFrame(df_concat)\n",
    "\n",
    "normalized_df.Potrošnja = (df_concat.Potrošnja-normalization_min_potrosnja)/(normalization_max_potrosnja - normalization_min_potrosnja)\n",
    "normalized_df.Prosjek =(df_concat.Prosjek-normalization_min_prosjek)/(normalization_max_prosjek - normalization_min_prosjek)\n",
    "\n",
    "normalized_df"
   ]
  }
 ],
 "metadata": {
  "kernelspec": {
   "display_name": "Python 3 (ipykernel)",
   "language": "python",
   "name": "python3"
  },
  "language_info": {
   "codemirror_mode": {
    "name": "ipython",
    "version": 3
   },
   "file_extension": ".py",
   "mimetype": "text/x-python",
   "name": "python",
   "nbconvert_exporter": "python",
   "pygments_lexer": "ipython3",
   "version": "3.8.10"
  }
 },
 "nbformat": 4,
 "nbformat_minor": 5
}
