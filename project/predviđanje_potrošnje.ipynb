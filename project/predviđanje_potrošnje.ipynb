{
 "cells": [
  {
   "cell_type": "code",
   "execution_count": 1,
   "id": "d58d3fd5",
   "metadata": {},
   "outputs": [],
   "source": [
    "import pandas as pd\n",
    "import numpy as np\n",
    "import matplotlib.pyplot as plt"
   ]
  },
  {
   "cell_type": "markdown",
   "id": "7e4d8eb9",
   "metadata": {},
   "source": [
    "### Učitaj podatke za opterećenje"
   ]
  },
  {
   "cell_type": "code",
   "execution_count": 2,
   "id": "199af992",
   "metadata": {},
   "outputs": [],
   "source": [
    "import re\n",
    "\n",
    "# Ucitaj podatke\n",
    "\n",
    "# Provjeri nazive sheetova\n",
    "all_sheets = pd.ExcelFile('Arhiva_10_2021.xlsx')\n",
    "\n",
    "# Create regex\n",
    "regex = re.compile(r'\\d\\d\\.')\n",
    "\n",
    "# Match the sheet_names\n",
    "sheet_names = [n for n in all_sheets.sheet_names if regex.match(n)]\n",
    "\n",
    "df_total = pd.read_excel('Arhiva_10_2021.xlsx', sheet_name=sheet_names, usecols=[0,1,2], converters={'datum':str, 'vrijeme':str}, names=['datum', 'vrijeme', 'Potrošnja'])"
   ]
  },
  {
   "cell_type": "code",
   "execution_count": 3,
   "id": "3a45f40d",
   "metadata": {},
   "outputs": [],
   "source": [
    "df = pd.concat(df_total)"
   ]
  },
  {
   "cell_type": "code",
   "execution_count": 4,
   "id": "3a2d9655",
   "metadata": {},
   "outputs": [
    {
     "data": {
      "text/plain": [
       "datum         object\n",
       "vrijeme       object\n",
       "Potrošnja    float64\n",
       "dtype: object"
      ]
     },
     "execution_count": 4,
     "metadata": {},
     "output_type": "execute_result"
    }
   ],
   "source": [
    "df.dtypes"
   ]
  },
  {
   "cell_type": "markdown",
   "id": "6224a447",
   "metadata": {},
   "source": [
    "Napomena:\n",
    "    \n",
    "Bilo je mnogo problema s parsiranjem datuma zbog nekonzistentnosti zapisa u .xlsx fileu. Konkretno, prvih 24 vrijednosti sadrži zapis u AM/PM formatu, dok ostali ne sadrže. Zbog toga Pandas automatski dodaje vrijednost datuma za taj stupac, počevši od 1900. godine. Funkcije 'to_datetime' i slične nije bilo moguće koristiti jer se varijabla 'vrijeme' opisala kao tip 'object' i 'datetime.time'. Zbog toga sam dodao argument 'converters' kako bi to spriječio."
   ]
  },
  {
   "cell_type": "code",
   "execution_count": 5,
   "id": "b5b03c68",
   "metadata": {},
   "outputs": [],
   "source": [
    "df['vrijeme'] = df['vrijeme'].apply(str)\n",
    "df['vrijeme'] = df['vrijeme'].str.split(' ')"
   ]
  },
  {
   "cell_type": "code",
   "execution_count": 6,
   "id": "3b4e6a49",
   "metadata": {},
   "outputs": [
    {
     "data": {
      "text/html": [
       "<div>\n",
       "<style scoped>\n",
       "    .dataframe tbody tr th:only-of-type {\n",
       "        vertical-align: middle;\n",
       "    }\n",
       "\n",
       "    .dataframe tbody tr th {\n",
       "        vertical-align: top;\n",
       "    }\n",
       "\n",
       "    .dataframe thead th {\n",
       "        text-align: right;\n",
       "    }\n",
       "</style>\n",
       "<table border=\"1\" class=\"dataframe\">\n",
       "  <thead>\n",
       "    <tr style=\"text-align: right;\">\n",
       "      <th></th>\n",
       "      <th></th>\n",
       "      <th>datum</th>\n",
       "      <th>vrijeme</th>\n",
       "      <th>Potrošnja</th>\n",
       "    </tr>\n",
       "  </thead>\n",
       "  <tbody>\n",
       "    <tr>\n",
       "      <th rowspan=\"5\" valign=\"top\">01.</th>\n",
       "      <th>0</th>\n",
       "      <td>2021-01-01 00:00:00</td>\n",
       "      <td>[01:00:00]</td>\n",
       "      <td>1649.28200</td>\n",
       "    </tr>\n",
       "    <tr>\n",
       "      <th>1</th>\n",
       "      <td>2021-01-01 00:00:00</td>\n",
       "      <td>[02:00:00]</td>\n",
       "      <td>1539.61100</td>\n",
       "    </tr>\n",
       "    <tr>\n",
       "      <th>2</th>\n",
       "      <td>2021-01-01 00:00:00</td>\n",
       "      <td>[03:00:00]</td>\n",
       "      <td>1430.66725</td>\n",
       "    </tr>\n",
       "    <tr>\n",
       "      <th>3</th>\n",
       "      <td>2021-01-01 00:00:00</td>\n",
       "      <td>[04:00:00]</td>\n",
       "      <td>1345.99500</td>\n",
       "    </tr>\n",
       "    <tr>\n",
       "      <th>4</th>\n",
       "      <td>2021-01-01 00:00:00</td>\n",
       "      <td>[05:00:00]</td>\n",
       "      <td>1301.53525</td>\n",
       "    </tr>\n",
       "    <tr>\n",
       "      <th>...</th>\n",
       "      <th>...</th>\n",
       "      <td>...</td>\n",
       "      <td>...</td>\n",
       "      <td>...</td>\n",
       "    </tr>\n",
       "    <tr>\n",
       "      <th rowspan=\"5\" valign=\"top\">10.</th>\n",
       "      <th>740</th>\n",
       "      <td>2021-10-31 00:00:00</td>\n",
       "      <td>[1900-01-27, 19:00:00]</td>\n",
       "      <td>1964.49000</td>\n",
       "    </tr>\n",
       "    <tr>\n",
       "      <th>741</th>\n",
       "      <td>2021-10-31 00:00:00</td>\n",
       "      <td>[1900-01-27, 20:00:00]</td>\n",
       "      <td>1907.04750</td>\n",
       "    </tr>\n",
       "    <tr>\n",
       "      <th>742</th>\n",
       "      <td>2021-10-31 00:00:00</td>\n",
       "      <td>[1900-01-27, 21:00:00]</td>\n",
       "      <td>1827.44475</td>\n",
       "    </tr>\n",
       "    <tr>\n",
       "      <th>743</th>\n",
       "      <td>2021-10-31 00:00:00</td>\n",
       "      <td>[1900-01-27, 22:00:00]</td>\n",
       "      <td>1709.18100</td>\n",
       "    </tr>\n",
       "    <tr>\n",
       "      <th>744</th>\n",
       "      <td>2021-10-31 00:00:00</td>\n",
       "      <td>[1900-01-27, 23:00:00]</td>\n",
       "      <td>1545.91900</td>\n",
       "    </tr>\n",
       "  </tbody>\n",
       "</table>\n",
       "<p>7297 rows × 3 columns</p>\n",
       "</div>"
      ],
      "text/plain": [
       "                       datum                 vrijeme   Potrošnja\n",
       "01. 0    2021-01-01 00:00:00              [01:00:00]  1649.28200\n",
       "    1    2021-01-01 00:00:00              [02:00:00]  1539.61100\n",
       "    2    2021-01-01 00:00:00              [03:00:00]  1430.66725\n",
       "    3    2021-01-01 00:00:00              [04:00:00]  1345.99500\n",
       "    4    2021-01-01 00:00:00              [05:00:00]  1301.53525\n",
       "...                      ...                     ...         ...\n",
       "10. 740  2021-10-31 00:00:00  [1900-01-27, 19:00:00]  1964.49000\n",
       "    741  2021-10-31 00:00:00  [1900-01-27, 20:00:00]  1907.04750\n",
       "    742  2021-10-31 00:00:00  [1900-01-27, 21:00:00]  1827.44475\n",
       "    743  2021-10-31 00:00:00  [1900-01-27, 22:00:00]  1709.18100\n",
       "    744  2021-10-31 00:00:00  [1900-01-27, 23:00:00]  1545.91900\n",
       "\n",
       "[7297 rows x 3 columns]"
      ]
     },
     "execution_count": 6,
     "metadata": {},
     "output_type": "execute_result"
    }
   ],
   "source": [
    "df"
   ]
  },
  {
   "cell_type": "code",
   "execution_count": 7,
   "id": "ce761dfb",
   "metadata": {},
   "outputs": [],
   "source": [
    "df['vrijeme'] = df['vrijeme'].map(lambda x : x[-1])"
   ]
  },
  {
   "cell_type": "code",
   "execution_count": 8,
   "id": "8ce06165",
   "metadata": {},
   "outputs": [
    {
     "data": {
      "text/html": [
       "<div>\n",
       "<style scoped>\n",
       "    .dataframe tbody tr th:only-of-type {\n",
       "        vertical-align: middle;\n",
       "    }\n",
       "\n",
       "    .dataframe tbody tr th {\n",
       "        vertical-align: top;\n",
       "    }\n",
       "\n",
       "    .dataframe thead th {\n",
       "        text-align: right;\n",
       "    }\n",
       "</style>\n",
       "<table border=\"1\" class=\"dataframe\">\n",
       "  <thead>\n",
       "    <tr style=\"text-align: right;\">\n",
       "      <th></th>\n",
       "      <th></th>\n",
       "      <th>datum</th>\n",
       "      <th>vrijeme</th>\n",
       "      <th>Potrošnja</th>\n",
       "    </tr>\n",
       "  </thead>\n",
       "  <tbody>\n",
       "    <tr>\n",
       "      <th rowspan=\"5\" valign=\"top\">01.</th>\n",
       "      <th>0</th>\n",
       "      <td>2021-01-01 00:00:00</td>\n",
       "      <td>01:00:00</td>\n",
       "      <td>1649.28200</td>\n",
       "    </tr>\n",
       "    <tr>\n",
       "      <th>1</th>\n",
       "      <td>2021-01-01 00:00:00</td>\n",
       "      <td>02:00:00</td>\n",
       "      <td>1539.61100</td>\n",
       "    </tr>\n",
       "    <tr>\n",
       "      <th>2</th>\n",
       "      <td>2021-01-01 00:00:00</td>\n",
       "      <td>03:00:00</td>\n",
       "      <td>1430.66725</td>\n",
       "    </tr>\n",
       "    <tr>\n",
       "      <th>3</th>\n",
       "      <td>2021-01-01 00:00:00</td>\n",
       "      <td>04:00:00</td>\n",
       "      <td>1345.99500</td>\n",
       "    </tr>\n",
       "    <tr>\n",
       "      <th>4</th>\n",
       "      <td>2021-01-01 00:00:00</td>\n",
       "      <td>05:00:00</td>\n",
       "      <td>1301.53525</td>\n",
       "    </tr>\n",
       "    <tr>\n",
       "      <th>...</th>\n",
       "      <th>...</th>\n",
       "      <td>...</td>\n",
       "      <td>...</td>\n",
       "      <td>...</td>\n",
       "    </tr>\n",
       "    <tr>\n",
       "      <th rowspan=\"5\" valign=\"top\">10.</th>\n",
       "      <th>740</th>\n",
       "      <td>2021-10-31 00:00:00</td>\n",
       "      <td>19:00:00</td>\n",
       "      <td>1964.49000</td>\n",
       "    </tr>\n",
       "    <tr>\n",
       "      <th>741</th>\n",
       "      <td>2021-10-31 00:00:00</td>\n",
       "      <td>20:00:00</td>\n",
       "      <td>1907.04750</td>\n",
       "    </tr>\n",
       "    <tr>\n",
       "      <th>742</th>\n",
       "      <td>2021-10-31 00:00:00</td>\n",
       "      <td>21:00:00</td>\n",
       "      <td>1827.44475</td>\n",
       "    </tr>\n",
       "    <tr>\n",
       "      <th>743</th>\n",
       "      <td>2021-10-31 00:00:00</td>\n",
       "      <td>22:00:00</td>\n",
       "      <td>1709.18100</td>\n",
       "    </tr>\n",
       "    <tr>\n",
       "      <th>744</th>\n",
       "      <td>2021-10-31 00:00:00</td>\n",
       "      <td>23:00:00</td>\n",
       "      <td>1545.91900</td>\n",
       "    </tr>\n",
       "  </tbody>\n",
       "</table>\n",
       "<p>7297 rows × 3 columns</p>\n",
       "</div>"
      ],
      "text/plain": [
       "                       datum   vrijeme   Potrošnja\n",
       "01. 0    2021-01-01 00:00:00  01:00:00  1649.28200\n",
       "    1    2021-01-01 00:00:00  02:00:00  1539.61100\n",
       "    2    2021-01-01 00:00:00  03:00:00  1430.66725\n",
       "    3    2021-01-01 00:00:00  04:00:00  1345.99500\n",
       "    4    2021-01-01 00:00:00  05:00:00  1301.53525\n",
       "...                      ...       ...         ...\n",
       "10. 740  2021-10-31 00:00:00  19:00:00  1964.49000\n",
       "    741  2021-10-31 00:00:00  20:00:00  1907.04750\n",
       "    742  2021-10-31 00:00:00  21:00:00  1827.44475\n",
       "    743  2021-10-31 00:00:00  22:00:00  1709.18100\n",
       "    744  2021-10-31 00:00:00  23:00:00  1545.91900\n",
       "\n",
       "[7297 rows x 3 columns]"
      ]
     },
     "execution_count": 8,
     "metadata": {},
     "output_type": "execute_result"
    }
   ],
   "source": [
    "df"
   ]
  },
  {
   "cell_type": "markdown",
   "id": "6b87ed2d",
   "metadata": {},
   "source": [
    "#### Postavi index tipa datetime"
   ]
  },
  {
   "cell_type": "code",
   "execution_count": 9,
   "id": "66815b76",
   "metadata": {},
   "outputs": [],
   "source": [
    "df['Datetime'] = pd.to_datetime(df['datum'] + ' ' + df['vrijeme'])"
   ]
  },
  {
   "cell_type": "code",
   "execution_count": 10,
   "id": "c67434c0",
   "metadata": {},
   "outputs": [],
   "source": [
    "df = df.set_index('Datetime')"
   ]
  },
  {
   "cell_type": "code",
   "execution_count": 11,
   "id": "d7ebbbf1",
   "metadata": {},
   "outputs": [],
   "source": [
    "df = df.drop(['datum','vrijeme'], axis=1)"
   ]
  },
  {
   "cell_type": "code",
   "execution_count": 12,
   "id": "0a6518f6",
   "metadata": {},
   "outputs": [
    {
     "data": {
      "text/plain": [
       "False"
      ]
     },
     "execution_count": 12,
     "metadata": {},
     "output_type": "execute_result"
    }
   ],
   "source": [
    "df['Potrošnja'].isnull().values.any()"
   ]
  },
  {
   "cell_type": "code",
   "execution_count": 13,
   "id": "528a37d4",
   "metadata": {},
   "outputs": [
    {
     "data": {
      "text/plain": [
       "<AxesSubplot:title={'center':'Krivulja opterećenja distribucijskog sustava [MWh]'}, xlabel='Vrijeme', ylabel='[MWh]'>"
      ]
     },
     "execution_count": 13,
     "metadata": {},
     "output_type": "execute_result"
    },
    {
     "data": {
      "image/png": "[encoded data removed]",
      "text/plain": [
       "<Figure size 1008x576 with 1 Axes>"
      ]
     },
     "metadata": {
      "needs_background": "light"
     },
     "output_type": "display_data"
    }
   ],
   "source": [
    "df.plot(use_index=True, title='Krivulja opterećenja distribucijskog sustava [MWh]', figsize=(14,8), grid=True, legend=True, ylabel='[MWh]', xlabel='Vrijeme')"
   ]
  },
  {
   "cell_type": "markdown",
   "id": "66e7579b",
   "metadata": {},
   "source": [
    "Zanima me koja je srednja vrijednost za svaki sat u danu?"
   ]
  },
  {
   "cell_type": "code",
   "execution_count": 14,
   "id": "55db562d",
   "metadata": {},
   "outputs": [
    {
     "data": {
      "text/plain": [
       "<AxesSubplot:xlabel='Sati', ylabel='MWh'>"
      ]
     },
     "execution_count": 14,
     "metadata": {},
     "output_type": "execute_result"
    },
    {
     "data": {
      "image/png": "[encoded data removed]",
      "text/plain": [
       "<Figure size 864x576 with 1 Axes>"
      ]
     },
     "metadata": {
      "needs_background": "light"
     },
     "output_type": "display_data"
    }
   ],
   "source": [
    "df.groupby(df.index.hour)['Potrošnja'].mean().plot(kind='line', xlabel='Sati', ylabel='MWh', legend=True, grid=True, figsize=(12,8), xticks = np.arange(0, 24, step=1), yticks=np.arange(1200, 2400, 100))"
   ]
  },
  {
   "cell_type": "markdown",
   "id": "5ce79b96",
   "metadata": {},
   "source": [
    "Ovdje sam koristio datetime kao index što omogućava jednostavno grupiranje po satima."
   ]
  },
  {
   "cell_type": "markdown",
   "id": "15c70f7f",
   "metadata": {},
   "source": [
    "#### Napomena"
   ]
  },
  {
   "cell_type": "markdown",
   "id": "1358edb3",
   "metadata": {},
   "source": [
    "Budući da je drukčija razina granularnosti (imamo potrošnju energije izraženu u satima i prosječnu dnevnu temperaturu), odlučio sam se na dnevnu agregaciju potrošnje. Razlog za to je da ćemo prilikom predviđanja na raspolaganju imati očekivanu prosječnu dnevnu temperaturu, a ne satnu. "
   ]
  },
  {
   "cell_type": "code",
   "execution_count": 15,
   "id": "7f7cd345",
   "metadata": {},
   "outputs": [],
   "source": [
    "df = df.groupby(pd.Grouper(freq='D')).mean()"
   ]
  },
  {
   "cell_type": "code",
   "execution_count": 16,
   "id": "59e0d582",
   "metadata": {},
   "outputs": [
    {
     "data": {
      "text/plain": [
       "<AxesSubplot:xlabel='Datetime'>"
      ]
     },
     "execution_count": 16,
     "metadata": {},
     "output_type": "execute_result"
    },
    {
     "data": {
      "image/png": "[encoded data removed]",
      "text/plain": [
       "<Figure size 432x288 with 1 Axes>"
      ]
     },
     "metadata": {
      "needs_background": "light"
     },
     "output_type": "display_data"
    }
   ],
   "source": [
    "df.plot()"
   ]
  },
  {
   "cell_type": "markdown",
   "id": "8065fff1",
   "metadata": {},
   "source": [
    "### Web scrapping"
   ]
  },
  {
   "cell_type": "markdown",
   "id": "6aa36222",
   "metadata": {},
   "source": [
    "TO DO kako bi se trebalo, za sada sam manualno uzeo podatke prosječne dnevne temperature za 4 najveća HR grada (link: https://crd.meteoadriatic.net/statistics)"
   ]
  },
  {
   "cell_type": "code",
   "execution_count": 17,
   "id": "c48a878a",
   "metadata": {},
   "outputs": [],
   "source": [
    "# Ucitaj podatke\n",
    "df_temp_total = pd.read_excel('temperatura.xlsx', sheet_name=None)"
   ]
  },
  {
   "cell_type": "code",
   "execution_count": 18,
   "id": "db39da8c",
   "metadata": {},
   "outputs": [],
   "source": [
    "# Concat all values in df_temp_total\n",
    "df_temp = pd.concat(df_temp_total, ignore_index=True)"
   ]
  },
  {
   "cell_type": "code",
   "execution_count": 19,
   "id": "ad60db27",
   "metadata": {},
   "outputs": [
    {
     "data": {
      "text/html": [
       "<div>\n",
       "<style scoped>\n",
       "    .dataframe tbody tr th:only-of-type {\n",
       "        vertical-align: middle;\n",
       "    }\n",
       "\n",
       "    .dataframe tbody tr th {\n",
       "        vertical-align: top;\n",
       "    }\n",
       "\n",
       "    .dataframe thead th {\n",
       "        text-align: right;\n",
       "    }\n",
       "</style>\n",
       "<table border=\"1\" class=\"dataframe\">\n",
       "  <thead>\n",
       "    <tr style=\"text-align: right;\">\n",
       "      <th></th>\n",
       "      <th>Vrijeme</th>\n",
       "      <th>Zagreb_temperatura</th>\n",
       "      <th>Split_temperatura</th>\n",
       "      <th>Osijek_temperatura</th>\n",
       "      <th>Rijeka_temperatura</th>\n",
       "    </tr>\n",
       "  </thead>\n",
       "  <tbody>\n",
       "    <tr>\n",
       "      <th>0</th>\n",
       "      <td>2021-01-01 00</td>\n",
       "      <td>4.0</td>\n",
       "      <td>9.6</td>\n",
       "      <td>2.7</td>\n",
       "      <td>8.1</td>\n",
       "    </tr>\n",
       "    <tr>\n",
       "      <th>1</th>\n",
       "      <td>2021-01-02 00</td>\n",
       "      <td>5.6</td>\n",
       "      <td>11.3</td>\n",
       "      <td>5.5</td>\n",
       "      <td>9.8</td>\n",
       "    </tr>\n",
       "    <tr>\n",
       "      <th>2</th>\n",
       "      <td>2021-01-03 00</td>\n",
       "      <td>4.4</td>\n",
       "      <td>10.0</td>\n",
       "      <td>6.2</td>\n",
       "      <td>9.0</td>\n",
       "    </tr>\n",
       "    <tr>\n",
       "      <th>3</th>\n",
       "      <td>2021-01-04 00</td>\n",
       "      <td>3.3</td>\n",
       "      <td>9.5</td>\n",
       "      <td>3.5</td>\n",
       "      <td>7.5</td>\n",
       "    </tr>\n",
       "    <tr>\n",
       "      <th>4</th>\n",
       "      <td>2021-01-05 00</td>\n",
       "      <td>3.5</td>\n",
       "      <td>9.7</td>\n",
       "      <td>3.8</td>\n",
       "      <td>6.9</td>\n",
       "    </tr>\n",
       "    <tr>\n",
       "      <th>...</th>\n",
       "      <td>...</td>\n",
       "      <td>...</td>\n",
       "      <td>...</td>\n",
       "      <td>...</td>\n",
       "      <td>...</td>\n",
       "    </tr>\n",
       "    <tr>\n",
       "      <th>299</th>\n",
       "      <td>2021-10-27 00</td>\n",
       "      <td>7.6</td>\n",
       "      <td>18.1</td>\n",
       "      <td>6.1</td>\n",
       "      <td>12.3</td>\n",
       "    </tr>\n",
       "    <tr>\n",
       "      <th>300</th>\n",
       "      <td>2021-10-28 00</td>\n",
       "      <td>9.3</td>\n",
       "      <td>19.4</td>\n",
       "      <td>7.3</td>\n",
       "      <td>15.1</td>\n",
       "    </tr>\n",
       "    <tr>\n",
       "      <th>301</th>\n",
       "      <td>2021-10-29 00</td>\n",
       "      <td>9.4</td>\n",
       "      <td>19.2</td>\n",
       "      <td>9.2</td>\n",
       "      <td>17.0</td>\n",
       "    </tr>\n",
       "    <tr>\n",
       "      <th>302</th>\n",
       "      <td>2021-10-30 00</td>\n",
       "      <td>11.5</td>\n",
       "      <td>19.0</td>\n",
       "      <td>9.0</td>\n",
       "      <td>16.8</td>\n",
       "    </tr>\n",
       "    <tr>\n",
       "      <th>303</th>\n",
       "      <td>2021-10-31 00</td>\n",
       "      <td>9.0</td>\n",
       "      <td>19.0</td>\n",
       "      <td>3.0</td>\n",
       "      <td>18.0</td>\n",
       "    </tr>\n",
       "  </tbody>\n",
       "</table>\n",
       "<p>304 rows × 5 columns</p>\n",
       "</div>"
      ],
      "text/plain": [
       "           Vrijeme  Zagreb_temperatura  Split_temperatura  Osijek_temperatura  \\\n",
       "0    2021-01-01 00                 4.0                9.6                 2.7   \n",
       "1    2021-01-02 00                 5.6               11.3                 5.5   \n",
       "2    2021-01-03 00                 4.4               10.0                 6.2   \n",
       "3    2021-01-04 00                 3.3                9.5                 3.5   \n",
       "4    2021-01-05 00                 3.5                9.7                 3.8   \n",
       "..             ...                 ...                ...                 ...   \n",
       "299  2021-10-27 00                 7.6               18.1                 6.1   \n",
       "300  2021-10-28 00                 9.3               19.4                 7.3   \n",
       "301  2021-10-29 00                 9.4               19.2                 9.2   \n",
       "302  2021-10-30 00                11.5               19.0                 9.0   \n",
       "303  2021-10-31 00                 9.0               19.0                 3.0   \n",
       "\n",
       "     Rijeka_temperatura  \n",
       "0                   8.1  \n",
       "1                   9.8  \n",
       "2                   9.0  \n",
       "3                   7.5  \n",
       "4                   6.9  \n",
       "..                  ...  \n",
       "299                12.3  \n",
       "300                15.1  \n",
       "301                17.0  \n",
       "302                16.8  \n",
       "303                18.0  \n",
       "\n",
       "[304 rows x 5 columns]"
      ]
     },
     "execution_count": 19,
     "metadata": {},
     "output_type": "execute_result"
    }
   ],
   "source": [
    "df_temp"
   ]
  },
  {
   "cell_type": "code",
   "execution_count": 20,
   "id": "57be5e15",
   "metadata": {},
   "outputs": [],
   "source": [
    "df_temp['Datetime'] = pd.to_datetime(df_temp['Vrijeme'])"
   ]
  },
  {
   "cell_type": "code",
   "execution_count": 21,
   "id": "8a0c15fd",
   "metadata": {},
   "outputs": [],
   "source": [
    "df_temp = df_temp.set_index('Datetime')"
   ]
  },
  {
   "cell_type": "code",
   "execution_count": 22,
   "id": "261819dc",
   "metadata": {},
   "outputs": [],
   "source": [
    "df_temp = df_temp.drop(['Vrijeme'], axis=1)"
   ]
  },
  {
   "cell_type": "code",
   "execution_count": 23,
   "id": "384943b8",
   "metadata": {},
   "outputs": [],
   "source": [
    "df_temp['Prosjek'] = df_temp.mean(axis=1).round(2)"
   ]
  },
  {
   "cell_type": "code",
   "execution_count": 24,
   "id": "5e8324c9",
   "metadata": {},
   "outputs": [
    {
     "data": {
      "text/html": [
       "<div>\n",
       "<style scoped>\n",
       "    .dataframe tbody tr th:only-of-type {\n",
       "        vertical-align: middle;\n",
       "    }\n",
       "\n",
       "    .dataframe tbody tr th {\n",
       "        vertical-align: top;\n",
       "    }\n",
       "\n",
       "    .dataframe thead th {\n",
       "        text-align: right;\n",
       "    }\n",
       "</style>\n",
       "<table border=\"1\" class=\"dataframe\">\n",
       "  <thead>\n",
       "    <tr style=\"text-align: right;\">\n",
       "      <th></th>\n",
       "      <th>Zagreb_temperatura</th>\n",
       "      <th>Split_temperatura</th>\n",
       "      <th>Osijek_temperatura</th>\n",
       "      <th>Rijeka_temperatura</th>\n",
       "      <th>Prosjek</th>\n",
       "    </tr>\n",
       "    <tr>\n",
       "      <th>Datetime</th>\n",
       "      <th></th>\n",
       "      <th></th>\n",
       "      <th></th>\n",
       "      <th></th>\n",
       "      <th></th>\n",
       "    </tr>\n",
       "  </thead>\n",
       "  <tbody>\n",
       "    <tr>\n",
       "      <th>2021-01-01</th>\n",
       "      <td>4.0</td>\n",
       "      <td>9.6</td>\n",
       "      <td>2.7</td>\n",
       "      <td>8.1</td>\n",
       "      <td>6.10</td>\n",
       "    </tr>\n",
       "    <tr>\n",
       "      <th>2021-01-02</th>\n",
       "      <td>5.6</td>\n",
       "      <td>11.3</td>\n",
       "      <td>5.5</td>\n",
       "      <td>9.8</td>\n",
       "      <td>8.05</td>\n",
       "    </tr>\n",
       "    <tr>\n",
       "      <th>2021-01-03</th>\n",
       "      <td>4.4</td>\n",
       "      <td>10.0</td>\n",
       "      <td>6.2</td>\n",
       "      <td>9.0</td>\n",
       "      <td>7.40</td>\n",
       "    </tr>\n",
       "    <tr>\n",
       "      <th>2021-01-04</th>\n",
       "      <td>3.3</td>\n",
       "      <td>9.5</td>\n",
       "      <td>3.5</td>\n",
       "      <td>7.5</td>\n",
       "      <td>5.95</td>\n",
       "    </tr>\n",
       "    <tr>\n",
       "      <th>2021-01-05</th>\n",
       "      <td>3.5</td>\n",
       "      <td>9.7</td>\n",
       "      <td>3.8</td>\n",
       "      <td>6.9</td>\n",
       "      <td>5.98</td>\n",
       "    </tr>\n",
       "    <tr>\n",
       "      <th>...</th>\n",
       "      <td>...</td>\n",
       "      <td>...</td>\n",
       "      <td>...</td>\n",
       "      <td>...</td>\n",
       "      <td>...</td>\n",
       "    </tr>\n",
       "    <tr>\n",
       "      <th>2021-10-27</th>\n",
       "      <td>7.6</td>\n",
       "      <td>18.1</td>\n",
       "      <td>6.1</td>\n",
       "      <td>12.3</td>\n",
       "      <td>11.03</td>\n",
       "    </tr>\n",
       "    <tr>\n",
       "      <th>2021-10-28</th>\n",
       "      <td>9.3</td>\n",
       "      <td>19.4</td>\n",
       "      <td>7.3</td>\n",
       "      <td>15.1</td>\n",
       "      <td>12.78</td>\n",
       "    </tr>\n",
       "    <tr>\n",
       "      <th>2021-10-29</th>\n",
       "      <td>9.4</td>\n",
       "      <td>19.2</td>\n",
       "      <td>9.2</td>\n",
       "      <td>17.0</td>\n",
       "      <td>13.70</td>\n",
       "    </tr>\n",
       "    <tr>\n",
       "      <th>2021-10-30</th>\n",
       "      <td>11.5</td>\n",
       "      <td>19.0</td>\n",
       "      <td>9.0</td>\n",
       "      <td>16.8</td>\n",
       "      <td>14.08</td>\n",
       "    </tr>\n",
       "    <tr>\n",
       "      <th>2021-10-31</th>\n",
       "      <td>9.0</td>\n",
       "      <td>19.0</td>\n",
       "      <td>3.0</td>\n",
       "      <td>18.0</td>\n",
       "      <td>12.25</td>\n",
       "    </tr>\n",
       "  </tbody>\n",
       "</table>\n",
       "<p>304 rows × 5 columns</p>\n",
       "</div>"
      ],
      "text/plain": [
       "            Zagreb_temperatura  Split_temperatura  Osijek_temperatura  \\\n",
       "Datetime                                                                \n",
       "2021-01-01                 4.0                9.6                 2.7   \n",
       "2021-01-02                 5.6               11.3                 5.5   \n",
       "2021-01-03                 4.4               10.0                 6.2   \n",
       "2021-01-04                 3.3                9.5                 3.5   \n",
       "2021-01-05                 3.5                9.7                 3.8   \n",
       "...                        ...                ...                 ...   \n",
       "2021-10-27                 7.6               18.1                 6.1   \n",
       "2021-10-28                 9.3               19.4                 7.3   \n",
       "2021-10-29                 9.4               19.2                 9.2   \n",
       "2021-10-30                11.5               19.0                 9.0   \n",
       "2021-10-31                 9.0               19.0                 3.0   \n",
       "\n",
       "            Rijeka_temperatura  Prosjek  \n",
       "Datetime                                 \n",
       "2021-01-01                 8.1     6.10  \n",
       "2021-01-02                 9.8     8.05  \n",
       "2021-01-03                 9.0     7.40  \n",
       "2021-01-04                 7.5     5.95  \n",
       "2021-01-05                 6.9     5.98  \n",
       "...                        ...      ...  \n",
       "2021-10-27                12.3    11.03  \n",
       "2021-10-28                15.1    12.78  \n",
       "2021-10-29                17.0    13.70  \n",
       "2021-10-30                16.8    14.08  \n",
       "2021-10-31                18.0    12.25  \n",
       "\n",
       "[304 rows x 5 columns]"
      ]
     },
     "execution_count": 24,
     "metadata": {},
     "output_type": "execute_result"
    }
   ],
   "source": [
    "df_temp"
   ]
  },
  {
   "cell_type": "code",
   "execution_count": 25,
   "id": "1898dd9a",
   "metadata": {},
   "outputs": [
    {
     "data": {
      "text/html": [
       "<div>\n",
       "<style scoped>\n",
       "    .dataframe tbody tr th:only-of-type {\n",
       "        vertical-align: middle;\n",
       "    }\n",
       "\n",
       "    .dataframe tbody tr th {\n",
       "        vertical-align: top;\n",
       "    }\n",
       "\n",
       "    .dataframe thead th {\n",
       "        text-align: right;\n",
       "    }\n",
       "</style>\n",
       "<table border=\"1\" class=\"dataframe\">\n",
       "  <thead>\n",
       "    <tr style=\"text-align: right;\">\n",
       "      <th></th>\n",
       "      <th>Potrošnja</th>\n",
       "      <th>Prosjek</th>\n",
       "    </tr>\n",
       "    <tr>\n",
       "      <th>Datetime</th>\n",
       "      <th></th>\n",
       "      <th></th>\n",
       "    </tr>\n",
       "  </thead>\n",
       "  <tbody>\n",
       "    <tr>\n",
       "      <th>2021-01-01</th>\n",
       "      <td>1658.737021</td>\n",
       "      <td>6.10</td>\n",
       "    </tr>\n",
       "    <tr>\n",
       "      <th>2021-01-02</th>\n",
       "      <td>1740.763635</td>\n",
       "      <td>8.05</td>\n",
       "    </tr>\n",
       "    <tr>\n",
       "      <th>2021-01-03</th>\n",
       "      <td>1698.857552</td>\n",
       "      <td>7.40</td>\n",
       "    </tr>\n",
       "    <tr>\n",
       "      <th>2021-01-04</th>\n",
       "      <td>1929.874844</td>\n",
       "      <td>5.95</td>\n",
       "    </tr>\n",
       "    <tr>\n",
       "      <th>2021-01-05</th>\n",
       "      <td>1974.421844</td>\n",
       "      <td>5.98</td>\n",
       "    </tr>\n",
       "    <tr>\n",
       "      <th>...</th>\n",
       "      <td>...</td>\n",
       "      <td>...</td>\n",
       "    </tr>\n",
       "    <tr>\n",
       "      <th>2021-10-27</th>\n",
       "      <td>1934.383250</td>\n",
       "      <td>11.03</td>\n",
       "    </tr>\n",
       "    <tr>\n",
       "      <th>2021-10-28</th>\n",
       "      <td>1944.644156</td>\n",
       "      <td>12.78</td>\n",
       "    </tr>\n",
       "    <tr>\n",
       "      <th>2021-10-29</th>\n",
       "      <td>1943.962969</td>\n",
       "      <td>13.70</td>\n",
       "    </tr>\n",
       "    <tr>\n",
       "      <th>2021-10-30</th>\n",
       "      <td>1807.587427</td>\n",
       "      <td>14.08</td>\n",
       "    </tr>\n",
       "    <tr>\n",
       "      <th>2021-10-31</th>\n",
       "      <td>1658.123260</td>\n",
       "      <td>12.25</td>\n",
       "    </tr>\n",
       "  </tbody>\n",
       "</table>\n",
       "<p>304 rows × 2 columns</p>\n",
       "</div>"
      ],
      "text/plain": [
       "              Potrošnja  Prosjek\n",
       "Datetime                        \n",
       "2021-01-01  1658.737021     6.10\n",
       "2021-01-02  1740.763635     8.05\n",
       "2021-01-03  1698.857552     7.40\n",
       "2021-01-04  1929.874844     5.95\n",
       "2021-01-05  1974.421844     5.98\n",
       "...                 ...      ...\n",
       "2021-10-27  1934.383250    11.03\n",
       "2021-10-28  1944.644156    12.78\n",
       "2021-10-29  1943.962969    13.70\n",
       "2021-10-30  1807.587427    14.08\n",
       "2021-10-31  1658.123260    12.25\n",
       "\n",
       "[304 rows x 2 columns]"
      ]
     },
     "execution_count": 25,
     "metadata": {},
     "output_type": "execute_result"
    }
   ],
   "source": [
    "# Concat tables horizontally\n",
    "df_concat = pd.concat([df, df_temp['Prosjek']], axis=1)\n",
    "df_concat"
   ]
  },
  {
   "cell_type": "markdown",
   "id": "7dd4a3d7",
   "metadata": {},
   "source": [
    "### Stacionarnost"
   ]
  },
  {
   "cell_type": "markdown",
   "id": "059b1e58",
   "metadata": {},
   "source": [
    "#### Augmented Dickey-Fuller test\n",
    "\n",
    "Provodim ADF test za stacionarnost. ADF test postavlja sljedeće hipoteze:\n",
    "* Null hipoteza ($H_0$): Postoji [unit root](https://en.wikipedia.org/wiki/Unit_root) (a.k.a. vremenski nizovi nisu stacionarni)\n",
    "* Alternativna hipoteza ($H_1$): Vremenski nizovi su stacionarni (ili trend-stacionarni)\n",
    "\n",
    "Provodim ADF test:"
   ]
  },
  {
   "cell_type": "code",
   "execution_count": 26,
   "id": "fcbb6e45",
   "metadata": {},
   "outputs": [
    {
     "name": "stdout",
     "output_type": "stream",
     "text": [
      "ADF test za potrošnju:\n"
     ]
    },
    {
     "data": {
      "text/plain": [
       "(-2.2811243046246497,\n",
       " 0.1781280416658968,\n",
       " 14,\n",
       " 289,\n",
       " {'1%': -3.4531816058796143,\n",
       "  '5%': -2.871593390724642,\n",
       "  '10%': -2.5721268156511536},\n",
       " 3247.611694909996)"
      ]
     },
     "metadata": {},
     "output_type": "display_data"
    },
    {
     "name": "stdout",
     "output_type": "stream",
     "text": [
      "ADF test za prosjek temperature:\n"
     ]
    },
    {
     "data": {
      "text/plain": [
       "(-1.606021020827442,\n",
       " 0.48056827797402685,\n",
       " 13,\n",
       " 290,\n",
       " {'1%': -3.453102162983312,\n",
       "  '5%': -2.871558538275452,\n",
       "  '10%': -2.5721082282996433},\n",
       " 1113.4520704232898)"
      ]
     },
     "metadata": {},
     "output_type": "display_data"
    }
   ],
   "source": [
    "from statsmodels.tsa.stattools import adfuller\n",
    "\n",
    "print('ADF test za potrošnju:')\n",
    "display(adfuller(df_concat['Potrošnja']))\n",
    "\n",
    "print('ADF test za prosjek temperature:')\n",
    "display(adfuller(df_concat['Prosjek']))"
   ]
  },
  {
   "cell_type": "markdown",
   "id": "c06a029a",
   "metadata": {},
   "source": [
    "Kao što vidimo, p value debelo je iznad 0.05, što znači da ne možemo odbaciti NULL hipotezu."
   ]
  },
  {
   "cell_type": "markdown",
   "id": "56db2492",
   "metadata": {},
   "source": [
    "#### KPSS (Kwiatkowski-Phillips-Schmidt-Shin) test"
   ]
  },
  {
   "cell_type": "markdown",
   "id": "d738dfaa",
   "metadata": {},
   "source": [
    "Provodim KPSS (Kwiatkowski-Phillips-Schmidt-Shin) test koji postavlja suprotne hipoteze od ADF testa, tj.\n",
    "\n",
    "* Null hipoteza ($H_0$): Vremenski nizovi su trend-stacionarni i ne postoji unit root\n",
    "* Alternativna hipoteza ($H_1$): Vremenski nizovi su ne-stacionarni ili postoji unit root\n",
    "    \n",
    "Provodim KPSS test:"
   ]
  },
  {
   "cell_type": "code",
   "execution_count": 27,
   "id": "2960c77e",
   "metadata": {},
   "outputs": [
    {
     "name": "stdout",
     "output_type": "stream",
     "text": [
      "KPSS test za potrošnju:\n"
     ]
    },
    {
     "name": "stderr",
     "output_type": "stream",
     "text": [
      "/home/silvio/.local/lib/python3.8/site-packages/statsmodels/tsa/stattools.py:2022: InterpolationWarning: The test statistic is outside of the range of p-values available in the\n",
      "look-up table. The actual p-value is greater than the p-value returned.\n",
      "\n",
      "  warnings.warn(\n"
     ]
    },
    {
     "data": {
      "text/plain": [
       "(0.3221474207809318,\n",
       " 0.1,\n",
       " 9,\n",
       " {'10%': 0.347, '5%': 0.463, '2.5%': 0.574, '1%': 0.739})"
      ]
     },
     "metadata": {},
     "output_type": "display_data"
    },
    {
     "name": "stdout",
     "output_type": "stream",
     "text": [
      "KPSS test za prosjek temperature:\n"
     ]
    },
    {
     "name": "stderr",
     "output_type": "stream",
     "text": [
      "/home/silvio/.local/lib/python3.8/site-packages/statsmodels/tsa/stattools.py:2018: InterpolationWarning: The test statistic is outside of the range of p-values available in the\n",
      "look-up table. The actual p-value is smaller than the p-value returned.\n",
      "\n",
      "  warnings.warn(\n"
     ]
    },
    {
     "data": {
      "text/plain": [
       "(1.8194911817847088,\n",
       " 0.01,\n",
       " 10,\n",
       " {'10%': 0.347, '5%': 0.463, '2.5%': 0.574, '1%': 0.739})"
      ]
     },
     "metadata": {},
     "output_type": "display_data"
    }
   ],
   "source": [
    "from statsmodels.tsa.stattools import kpss\n",
    "\n",
    "print('KPSS test za potrošnju:')\n",
    "display(kpss(df_concat['Potrošnja']))\n",
    "\n",
    "print('KPSS test za prosjek temperature:')\n",
    "display(kpss(df_concat['Prosjek']))"
   ]
  },
  {
   "cell_type": "markdown",
   "id": "07012264",
   "metadata": {},
   "source": [
    "Kao što vidimo, KPSS testom odbacujemo Null hipotezu i možemo zaključiti da su vremenski nizovi ne-stacionarni ili postoji unit root.\n",
    "\n",
    "Budući da su i ADF i KPSS test potvrdili da vremenski nizovi nisu stacionarni, radimo diferencijaciju i provjeravamo prolaze li zatim vremenski nizovi ADF i KPSS testove."
   ]
  },
  {
   "cell_type": "raw",
   "id": "0cc78d74",
   "metadata": {},
   "source": [
    "df_concat['Potrošnja'] = df_concat['Potrošnja'].diff(periods=1)\n",
    "df_concat['Prosjek'] = df_concat['Prosjek'].diff(periods=1)"
   ]
  },
  {
   "cell_type": "code",
   "execution_count": 28,
   "id": "39437c3c",
   "metadata": {},
   "outputs": [],
   "source": [
    "df_concat = df_concat.dropna()"
   ]
  },
  {
   "cell_type": "code",
   "execution_count": 29,
   "id": "717f6fa8",
   "metadata": {
    "scrolled": false
   },
   "outputs": [
    {
     "name": "stdout",
     "output_type": "stream",
     "text": [
      "ADF test za potrošnju:\n"
     ]
    },
    {
     "data": {
      "text/plain": [
       "(-2.2811243046246497,\n",
       " 0.1781280416658968,\n",
       " 14,\n",
       " 289,\n",
       " {'1%': -3.4531816058796143,\n",
       "  '5%': -2.871593390724642,\n",
       "  '10%': -2.5721268156511536},\n",
       " 3247.611694909996)"
      ]
     },
     "metadata": {},
     "output_type": "display_data"
    },
    {
     "name": "stdout",
     "output_type": "stream",
     "text": [
      "ADF test za prosjek temperature:\n"
     ]
    },
    {
     "data": {
      "text/plain": [
       "(-1.606021020827442,\n",
       " 0.48056827797402685,\n",
       " 13,\n",
       " 290,\n",
       " {'1%': -3.453102162983312,\n",
       "  '5%': -2.871558538275452,\n",
       "  '10%': -2.5721082282996433},\n",
       " 1113.4520704232898)"
      ]
     },
     "metadata": {},
     "output_type": "display_data"
    },
    {
     "name": "stdout",
     "output_type": "stream",
     "text": [
      "KPSS test za potrošnju:\n"
     ]
    },
    {
     "name": "stderr",
     "output_type": "stream",
     "text": [
      "/home/silvio/.local/lib/python3.8/site-packages/statsmodels/tsa/stattools.py:2022: InterpolationWarning: The test statistic is outside of the range of p-values available in the\n",
      "look-up table. The actual p-value is greater than the p-value returned.\n",
      "\n",
      "  warnings.warn(\n"
     ]
    },
    {
     "data": {
      "text/plain": [
       "(0.3221474207809318,\n",
       " 0.1,\n",
       " 9,\n",
       " {'10%': 0.347, '5%': 0.463, '2.5%': 0.574, '1%': 0.739})"
      ]
     },
     "metadata": {},
     "output_type": "display_data"
    },
    {
     "name": "stdout",
     "output_type": "stream",
     "text": [
      "KPSS test za prosjek temperature:\n"
     ]
    },
    {
     "name": "stderr",
     "output_type": "stream",
     "text": [
      "/home/silvio/.local/lib/python3.8/site-packages/statsmodels/tsa/stattools.py:2018: InterpolationWarning: The test statistic is outside of the range of p-values available in the\n",
      "look-up table. The actual p-value is smaller than the p-value returned.\n",
      "\n",
      "  warnings.warn(\n"
     ]
    },
    {
     "data": {
      "text/plain": [
       "(1.8194911817847088,\n",
       " 0.01,\n",
       " 10,\n",
       " {'10%': 0.347, '5%': 0.463, '2.5%': 0.574, '1%': 0.739})"
      ]
     },
     "metadata": {},
     "output_type": "display_data"
    }
   ],
   "source": [
    "print('ADF test za potrošnju:')\n",
    "display(adfuller(df_concat['Potrošnja']))\n",
    "\n",
    "print('ADF test za prosjek temperature:')\n",
    "display(adfuller(df_concat['Prosjek']))\n",
    "\n",
    "print('KPSS test za potrošnju:')\n",
    "display(kpss(df_concat['Potrošnja']))\n",
    "\n",
    "print('KPSS test za prosjek temperature:')\n",
    "display(kpss(df_concat['Prosjek']))"
   ]
  },
  {
   "cell_type": "markdown",
   "id": "66cba56f",
   "metadata": {},
   "source": [
    "Kao što vidimo, nakon diferencijacije, i ADF i KPSS testovi pokazuju kako su vremenski nizovi stacionarni."
   ]
  },
  {
   "cell_type": "markdown",
   "id": "13ab2f83",
   "metadata": {},
   "source": [
    "### Granger-Causality Test"
   ]
  },
  {
   "cell_type": "markdown",
   "id": "7c6c6399",
   "metadata": {},
   "source": [
    "Budući da je naš zadatak predviđanje potrošnje energije na temelju dane temperature, prvo provodimo 'Grangerov Test Kauzalnosti' kako bi vidjeli postoji li poveznica između vrijednosti temperature i potrošnje energije.\n",
    "\n",
    "Grangerov test postavlja hipoteze:\n",
    "* Null hipoteza ($H_0$): vremenski niz x (temperatura) nema utjecaja na vremenski niz y (potrošnja)\n",
    "* Alternativna hipoteza ($H_1$): vremenski niz x (temperatura) ima utjecaja na vremenski niz y (potrošnja)\n",
    "\n",
    "provodimo test:"
   ]
  },
  {
   "cell_type": "code",
   "execution_count": 30,
   "id": "5ac2548d",
   "metadata": {},
   "outputs": [
    {
     "name": "stdout",
     "output_type": "stream",
     "text": [
      "\n",
      "Granger Causality\n",
      "number of lags (no zero) 1\n",
      "ssr based F test:         F=0.1397  , p=0.7088  , df_denom=300, df_num=1\n",
      "ssr based chi2 test:   chi2=0.1411  , p=0.7072  , df=1\n",
      "likelihood ratio test: chi2=0.1411  , p=0.7072  , df=1\n",
      "parameter F test:         F=0.1397  , p=0.7088  , df_denom=300, df_num=1\n",
      "\n",
      "Granger Causality\n",
      "number of lags (no zero) 2\n",
      "ssr based F test:         F=0.0869  , p=0.9168  , df_denom=297, df_num=2\n",
      "ssr based chi2 test:   chi2=0.1768  , p=0.9154  , df=2\n",
      "likelihood ratio test: chi2=0.1767  , p=0.9154  , df=2\n",
      "parameter F test:         F=0.0869  , p=0.9168  , df_denom=297, df_num=2\n",
      "\n",
      "Granger Causality\n",
      "number of lags (no zero) 3\n",
      "ssr based F test:         F=0.6665  , p=0.5732  , df_denom=294, df_num=3\n",
      "ssr based chi2 test:   chi2=2.0472  , p=0.5627  , df=3\n",
      "likelihood ratio test: chi2=2.0402  , p=0.5641  , df=3\n",
      "parameter F test:         F=0.6665  , p=0.5732  , df_denom=294, df_num=3\n",
      "\n",
      "Granger Causality\n",
      "number of lags (no zero) 4\n",
      "ssr based F test:         F=0.8048  , p=0.5229  , df_denom=291, df_num=4\n",
      "ssr based chi2 test:   chi2=3.3190  , p=0.5059  , df=4\n",
      "likelihood ratio test: chi2=3.3007  , p=0.5088  , df=4\n",
      "parameter F test:         F=0.8048  , p=0.5229  , df_denom=291, df_num=4\n",
      "\n",
      "Granger Causality\n",
      "number of lags (no zero) 5\n",
      "ssr based F test:         F=1.0313  , p=0.3994  , df_denom=288, df_num=5\n",
      "ssr based chi2 test:   chi2=5.3534  , p=0.3743  , df=5\n",
      "likelihood ratio test: chi2=5.3060  , p=0.3797  , df=5\n",
      "parameter F test:         F=1.0313  , p=0.3994  , df_denom=288, df_num=5\n",
      "\n",
      "Granger Causality\n",
      "number of lags (no zero) 6\n",
      "ssr based F test:         F=1.2887  , p=0.2623  , df_denom=285, df_num=6\n",
      "ssr based chi2 test:   chi2=8.0848  , p=0.2320  , df=6\n",
      "likelihood ratio test: chi2=7.9770  , p=0.2398  , df=6\n",
      "parameter F test:         F=1.2887  , p=0.2623  , df_denom=285, df_num=6\n",
      "\n",
      "Granger Causality\n",
      "number of lags (no zero) 7\n",
      "ssr based F test:         F=1.2333  , p=0.2843  , df_denom=282, df_num=7\n",
      "ssr based chi2 test:   chi2=9.0925  , p=0.2461  , df=7\n",
      "likelihood ratio test: chi2=8.9561  , p=0.2558  , df=7\n",
      "parameter F test:         F=1.2333  , p=0.2843  , df_denom=282, df_num=7\n",
      "\n",
      "Granger Causality\n",
      "number of lags (no zero) 8\n",
      "ssr based F test:         F=1.4950  , p=0.1587  , df_denom=279, df_num=8\n",
      "ssr based chi2 test:   chi2=12.6889 , p=0.1230  , df=8\n",
      "likelihood ratio test: chi2=12.4244 , p=0.1332  , df=8\n",
      "parameter F test:         F=1.4950  , p=0.1587  , df_denom=279, df_num=8\n",
      "\n",
      "Granger Causality\n",
      "number of lags (no zero) 9\n",
      "ssr based F test:         F=1.3094  , p=0.2316  , df_denom=276, df_num=9\n",
      "ssr based chi2 test:   chi2=12.5961 , p=0.1817  , df=9\n",
      "likelihood ratio test: chi2=12.3346 , p=0.1951  , df=9\n",
      "parameter F test:         F=1.3094  , p=0.2316  , df_denom=276, df_num=9\n",
      "\n",
      "Granger Causality\n",
      "number of lags (no zero) 10\n",
      "ssr based F test:         F=1.1836  , p=0.3018  , df_denom=273, df_num=10\n",
      "ssr based chi2 test:   chi2=12.7468 , p=0.2382  , df=10\n",
      "likelihood ratio test: chi2=12.4782 , p=0.2543  , df=10\n",
      "parameter F test:         F=1.1836  , p=0.3018  , df_denom=273, df_num=10\n",
      "\n",
      "Granger Causality\n",
      "number of lags (no zero) 11\n",
      "ssr based F test:         F=1.0920  , p=0.3677  , df_denom=270, df_num=11\n",
      "ssr based chi2 test:   chi2=13.0352 , p=0.2910  , df=11\n",
      "likelihood ratio test: chi2=12.7536 , p=0.3097  , df=11\n",
      "parameter F test:         F=1.0920  , p=0.3677  , df_denom=270, df_num=11\n",
      "\n",
      "Granger Causality\n",
      "number of lags (no zero) 12\n",
      "ssr based F test:         F=0.9522  , p=0.4953  , df_denom=267, df_num=12\n",
      "ssr based chi2 test:   chi2=12.4959 , p=0.4067  , df=12\n",
      "likelihood ratio test: chi2=12.2359 , p=0.4269  , df=12\n",
      "parameter F test:         F=0.9522  , p=0.4953  , df_denom=267, df_num=12\n",
      "\n",
      "Granger Causality\n",
      "number of lags (no zero) 13\n",
      "ssr based F test:         F=1.0085  , p=0.4432  , df_denom=264, df_num=13\n",
      "ssr based chi2 test:   chi2=14.4516 , p=0.3428  , df=13\n",
      "likelihood ratio test: chi2=14.1042 , p=0.3665  , df=13\n",
      "parameter F test:         F=1.0085  , p=0.4432  , df_denom=264, df_num=13\n",
      "\n",
      "Granger Causality\n",
      "number of lags (no zero) 14\n",
      "ssr based F test:         F=0.9268  , p=0.5303  , df_denom=261, df_num=14\n",
      "ssr based chi2 test:   chi2=14.4173 , p=0.4191  , df=14\n",
      "likelihood ratio test: chi2=14.0704 , p=0.4445  , df=14\n",
      "parameter F test:         F=0.9268  , p=0.5303  , df_denom=261, df_num=14\n",
      "\n",
      "Granger Causality\n",
      "number of lags (no zero) 15\n",
      "ssr based F test:         F=0.9613  , p=0.4969  , df_denom=258, df_num=15\n",
      "ssr based chi2 test:   chi2=16.1520 , p=0.3720  , df=15\n",
      "likelihood ratio test: chi2=15.7168 , p=0.4011  , df=15\n",
      "parameter F test:         F=0.9613  , p=0.4969  , df_denom=258, df_num=15\n",
      "\n",
      "Granger Causality\n",
      "number of lags (no zero) 16\n",
      "ssr based F test:         F=0.9301  , p=0.5352  , df_denom=255, df_num=16\n",
      "ssr based chi2 test:   chi2=16.8068 , p=0.3982  , df=16\n",
      "likelihood ratio test: chi2=16.3347 , p=0.4299  , df=16\n",
      "parameter F test:         F=0.9301  , p=0.5352  , df_denom=255, df_num=16\n",
      "\n",
      "Granger Causality\n",
      "number of lags (no zero) 17\n",
      "ssr based F test:         F=0.9602  , p=0.5039  , df_denom=252, df_num=17\n",
      "ssr based chi2 test:   chi2=18.5915 , p=0.3525  , df=17\n",
      "likelihood ratio test: chi2=18.0141 , p=0.3880  , df=17\n",
      "parameter F test:         F=0.9602  , p=0.5039  , df_denom=252, df_num=17\n",
      "\n",
      "Granger Causality\n",
      "number of lags (no zero) 18\n",
      "ssr based F test:         F=1.2142  , p=0.2496  , df_denom=249, df_num=18\n",
      "ssr based chi2 test:   chi2=25.1038 , p=0.1221  , df=18\n",
      "likelihood ratio test: chi2=24.0625 , p=0.1530  , df=18\n",
      "parameter F test:         F=1.2142  , p=0.2496  , df_denom=249, df_num=18\n",
      "\n",
      "Granger Causality\n",
      "number of lags (no zero) 19\n",
      "ssr based F test:         F=1.1390  , p=0.3126  , df_denom=246, df_num=19\n",
      "ssr based chi2 test:   chi2=25.0715 , p=0.1582  , df=19\n",
      "likelihood ratio test: chi2=24.0294 , p=0.1950  , df=19\n",
      "parameter F test:         F=1.1390  , p=0.3126  , df_denom=246, df_num=19\n",
      "\n",
      "Granger Causality\n",
      "number of lags (no zero) 20\n",
      "ssr based F test:         F=1.1025  , p=0.3472  , df_denom=243, df_num=20\n",
      "ssr based chi2 test:   chi2=25.7708 , p=0.1735  , df=20\n",
      "likelihood ratio test: chi2=24.6678 , p=0.2144  , df=20\n",
      "parameter F test:         F=1.1025  , p=0.3472  , df_denom=243, df_num=20\n"
     ]
    }
   ],
   "source": [
    "from statsmodels.tsa.stattools import grangercausalitytests\n",
    "\n",
    "granger_result = grangercausalitytests(df_concat[['Potrošnja', 'Prosjek']], maxlag=20)"
   ]
  },
  {
   "cell_type": "markdown",
   "id": "9fd529a3",
   "metadata": {},
   "source": [
    "Kao što se vidi iz rezultata, Grangerov test vraća p<0.05 za vrijednost prvih 10 lagova za različite testove. To zapravo znači da možemo odbaciti NULL hipotezu (da temperatura nema utjecaja na potrošnju energije), i zaključiti alternativnu hipotezu, tj. da temperatura ima utjecaja na potrošnju energije. \n",
    "\n",
    "Zanimljivo je da je vrijednost p<0.05 za prvih 12 lagova, što zapravo znači da postoji kauzalnost između dana mjerenja temperature i povezati temperaturu i sljedećih 12 dana potrošnje energije. Moguće da je razlog to što se temperatura ne mijenja iznenadno te tijekom dužeg perioda (godišnja doba) ima približno istu vrijednost.  \n",
    "\n",
    "Za sanity-check, provodim i Grangerov test da vidim postoji li kauzalnost potrošnje energije na temperaturu:"
   ]
  },
  {
   "cell_type": "code",
   "execution_count": 31,
   "id": "9bacd8b4",
   "metadata": {},
   "outputs": [
    {
     "name": "stdout",
     "output_type": "stream",
     "text": [
      "\n",
      "Granger Causality\n",
      "number of lags (no zero) 1\n",
      "ssr based F test:         F=0.0770  , p=0.7816  , df_denom=300, df_num=1\n",
      "ssr based chi2 test:   chi2=0.0778  , p=0.7804  , df=1\n",
      "likelihood ratio test: chi2=0.0778  , p=0.7804  , df=1\n",
      "parameter F test:         F=0.0770  , p=0.7816  , df_denom=300, df_num=1\n",
      "\n",
      "Granger Causality\n",
      "number of lags (no zero) 2\n",
      "ssr based F test:         F=0.1066  , p=0.8989  , df_denom=297, df_num=2\n",
      "ssr based chi2 test:   chi2=0.2169  , p=0.8972  , df=2\n",
      "likelihood ratio test: chi2=0.2168  , p=0.8973  , df=2\n",
      "parameter F test:         F=0.1066  , p=0.8989  , df_denom=297, df_num=2\n",
      "\n",
      "Granger Causality\n",
      "number of lags (no zero) 3\n",
      "ssr based F test:         F=0.2513  , p=0.8604  , df_denom=294, df_num=3\n",
      "ssr based chi2 test:   chi2=0.7718  , p=0.8562  , df=3\n",
      "likelihood ratio test: chi2=0.7708  , p=0.8564  , df=3\n",
      "parameter F test:         F=0.2513  , p=0.8604  , df_denom=294, df_num=3\n",
      "\n",
      "Granger Causality\n",
      "number of lags (no zero) 4\n",
      "ssr based F test:         F=0.1723  , p=0.9525  , df_denom=291, df_num=4\n",
      "ssr based chi2 test:   chi2=0.7106  , p=0.9500  , df=4\n",
      "likelihood ratio test: chi2=0.7098  , p=0.9501  , df=4\n",
      "parameter F test:         F=0.1723  , p=0.9525  , df_denom=291, df_num=4\n",
      "\n",
      "Granger Causality\n",
      "number of lags (no zero) 5\n",
      "ssr based F test:         F=0.2632  , p=0.9329  , df_denom=288, df_num=5\n",
      "ssr based chi2 test:   chi2=1.3663  , p=0.9280  , df=5\n",
      "likelihood ratio test: chi2=1.3632  , p=0.9283  , df=5\n",
      "parameter F test:         F=0.2632  , p=0.9329  , df_denom=288, df_num=5\n",
      "\n",
      "Granger Causality\n",
      "number of lags (no zero) 6\n",
      "ssr based F test:         F=0.4604  , p=0.8373  , df_denom=285, df_num=6\n",
      "ssr based chi2 test:   chi2=2.8885  , p=0.8227  , df=6\n",
      "likelihood ratio test: chi2=2.8746  , p=0.8244  , df=6\n",
      "parameter F test:         F=0.4604  , p=0.8373  , df_denom=285, df_num=6\n",
      "\n",
      "Granger Causality\n",
      "number of lags (no zero) 7\n",
      "ssr based F test:         F=0.4052  , p=0.8988  , df_denom=282, df_num=7\n",
      "ssr based chi2 test:   chi2=2.9875  , p=0.8862  , df=7\n",
      "likelihood ratio test: chi2=2.9725  , p=0.8875  , df=7\n",
      "parameter F test:         F=0.4052  , p=0.8988  , df_denom=282, df_num=7\n",
      "\n",
      "Granger Causality\n",
      "number of lags (no zero) 8\n",
      "ssr based F test:         F=0.6697  , p=0.7181  , df_denom=279, df_num=8\n",
      "ssr based chi2 test:   chi2=5.6843  , p=0.6825  , df=8\n",
      "likelihood ratio test: chi2=5.6305  , p=0.6885  , df=8\n",
      "parameter F test:         F=0.6697  , p=0.7181  , df_denom=279, df_num=8\n",
      "\n",
      "Granger Causality\n",
      "number of lags (no zero) 9\n",
      "ssr based F test:         F=0.8774  , p=0.5459  , df_denom=276, df_num=9\n",
      "ssr based chi2 test:   chi2=8.4399  , p=0.4905  , df=9\n",
      "likelihood ratio test: chi2=8.3214  , p=0.5021  , df=9\n",
      "parameter F test:         F=0.8774  , p=0.5459  , df_denom=276, df_num=9\n",
      "\n",
      "Granger Causality\n",
      "number of lags (no zero) 10\n",
      "ssr based F test:         F=0.8183  , p=0.6113  , df_denom=273, df_num=10\n",
      "ssr based chi2 test:   chi2=8.8124  , p=0.5500  , df=10\n",
      "likelihood ratio test: chi2=8.6829  , p=0.5624  , df=10\n",
      "parameter F test:         F=0.8183  , p=0.6113  , df_denom=273, df_num=10\n",
      "\n",
      "Granger Causality\n",
      "number of lags (no zero) 11\n",
      "ssr based F test:         F=0.7533  , p=0.6865  , df_denom=270, df_num=11\n",
      "ssr based chi2 test:   chi2=8.9921  , p=0.6226  , df=11\n",
      "likelihood ratio test: chi2=8.8569  , p=0.6351  , df=11\n",
      "parameter F test:         F=0.7533  , p=0.6865  , df_denom=270, df_num=11\n",
      "\n",
      "Granger Causality\n",
      "number of lags (no zero) 12\n",
      "ssr based F test:         F=0.7829  , p=0.6680  , df_denom=267, df_num=12\n",
      "ssr based chi2 test:   chi2=10.2739 , p=0.5919  , df=12\n",
      "likelihood ratio test: chi2=10.0973 , p=0.6074  , df=12\n",
      "parameter F test:         F=0.7829  , p=0.6680  , df_denom=267, df_num=12\n",
      "\n",
      "Granger Causality\n",
      "number of lags (no zero) 13\n",
      "ssr based F test:         F=0.8466  , p=0.6103  , df_denom=264, df_num=13\n",
      "ssr based chi2 test:   chi2=12.1320 , p=0.5169  , df=13\n",
      "likelihood ratio test: chi2=11.8859 , p=0.5370  , df=13\n",
      "parameter F test:         F=0.8466  , p=0.6103  , df_denom=264, df_num=13\n",
      "\n",
      "Granger Causality\n",
      "number of lags (no zero) 14\n",
      "ssr based F test:         F=0.7539  , p=0.7185  , df_denom=261, df_num=14\n",
      "ssr based chi2 test:   chi2=11.7275 , p=0.6282  , df=14\n",
      "likelihood ratio test: chi2=11.4966 , p=0.6467  , df=14\n",
      "parameter F test:         F=0.7539  , p=0.7185  , df_denom=261, df_num=14\n",
      "\n",
      "Granger Causality\n",
      "number of lags (no zero) 15\n",
      "ssr based F test:         F=1.0021  , p=0.4533  , df_denom=258, df_num=15\n",
      "ssr based chi2 test:   chi2=16.8374 , p=0.3287  , df=15\n",
      "likelihood ratio test: chi2=16.3652 , p=0.3582  , df=15\n",
      "parameter F test:         F=1.0021  , p=0.4533  , df_denom=258, df_num=15\n",
      "\n",
      "Granger Causality\n",
      "number of lags (no zero) 16\n",
      "ssr based F test:         F=0.9506  , p=0.5119  , df_denom=255, df_num=16\n",
      "ssr based chi2 test:   chi2=17.1774 , p=0.3742  , df=16\n",
      "likelihood ratio test: chi2=16.6846 , p=0.4063  , df=16\n",
      "parameter F test:         F=0.9506  , p=0.5119  , df_denom=255, df_num=16\n",
      "\n",
      "Granger Causality\n",
      "number of lags (no zero) 17\n",
      "ssr based F test:         F=0.9302  , p=0.5389  , df_denom=252, df_num=17\n",
      "ssr based chi2 test:   chi2=18.0091 , p=0.3883  , df=17\n",
      "likelihood ratio test: chi2=17.4667 , p=0.4232  , df=17\n",
      "parameter F test:         F=0.9302  , p=0.5389  , df_denom=252, df_num=17\n",
      "\n",
      "Granger Causality\n",
      "number of lags (no zero) 18\n",
      "ssr based F test:         F=0.8440  , p=0.6472  , df_denom=249, df_num=18\n",
      "ssr based chi2 test:   chi2=17.4486 , p=0.4925  , df=18\n",
      "likelihood ratio test: chi2=16.9371 , p=0.5274  , df=18\n",
      "parameter F test:         F=0.8440  , p=0.6472  , df_denom=249, df_num=18\n",
      "\n",
      "Granger Causality\n",
      "number of lags (no zero) 19\n",
      "ssr based F test:         F=0.7949  , p=0.7125  , df_denom=246, df_num=19\n",
      "ssr based chi2 test:   chi2=17.4973 , p=0.5562  , df=19\n",
      "likelihood ratio test: chi2=16.9812 , p=0.5911  , df=19\n",
      "parameter F test:         F=0.7949  , p=0.7125  , df_denom=246, df_num=19\n",
      "\n",
      "Granger Causality\n",
      "number of lags (no zero) 20\n",
      "ssr based F test:         F=0.7601  , p=0.7599  , df_denom=243, df_num=20\n",
      "ssr based chi2 test:   chi2=17.7671 , p=0.6027  , df=20\n",
      "likelihood ratio test: chi2=17.2335 , p=0.6378  , df=20\n",
      "parameter F test:         F=0.7601  , p=0.7599  , df_denom=243, df_num=20\n"
     ]
    }
   ],
   "source": [
    "granger_result = grangercausalitytests(df_concat[['Prosjek', 'Potrošnja']], maxlag=20)"
   ]
  },
  {
   "cell_type": "markdown",
   "id": "6106767d",
   "metadata": {},
   "source": [
    "Kao što vidimo, ne postoji utjecaj potrošnje na prosjek temperature."
   ]
  },
  {
   "cell_type": "markdown",
   "id": "41857faa",
   "metadata": {},
   "source": [
    "### Treniram na temelju prvih 7.5 i testiram za zadnja 2.5 mjeseca"
   ]
  },
  {
   "cell_type": "code",
   "execution_count": 32,
   "id": "4f3d98c2",
   "metadata": {},
   "outputs": [
    {
     "name": "stderr",
     "output_type": "stream",
     "text": [
      "/tmp/ipykernel_56796/2202701338.py:7: SettingWithCopyWarning: \n",
      "A value is trying to be set on a copy of a slice from a DataFrame.\n",
      "Try using .loc[row_indexer,col_indexer] = value instead\n",
      "\n",
      "See the caveats in the documentation: https://pandas.pydata.org/pandas-docs/stable/user_guide/indexing.html#returning-a-view-versus-a-copy\n",
      "  test['Forecast'] = 0\n"
     ]
    },
    {
     "data": {
      "text/plain": [
       "((243, 2), (60, 3))"
      ]
     },
     "execution_count": 32,
     "metadata": {},
     "output_type": "execute_result"
    }
   ],
   "source": [
    "# Split data into train - test\n",
    "train = df_concat[df_concat.index < '2021-09-01']\n",
    "test = df_concat[df_concat.index > '2021-09-01']\n",
    "\n",
    "# Set the values of test of Potrošnja to zero\n",
    "test['Potrošnja'].values[:] = 0\n",
    "test['Forecast'] = 0\n",
    "#test.insert(column='Forecast', value=[0])\n",
    "\n",
    "# Check shape\n",
    "train.shape, test.shape"
   ]
  },
  {
   "cell_type": "markdown",
   "id": "1df3f32b",
   "metadata": {},
   "source": [
    "### Using SARIMA for forecasting"
   ]
  },
  {
   "cell_type": "markdown",
   "id": "7b7e459a",
   "metadata": {},
   "source": [
    "Dekompozicija potrošnje da se vidi sezonalnost i trend"
   ]
  },
  {
   "cell_type": "code",
   "execution_count": 33,
   "id": "faa5618e",
   "metadata": {},
   "outputs": [
    {
     "data": {
      "image/png": "[encoded data removed]",
      "text/plain": [
       "<Figure size 432x288 with 4 Axes>"
      ]
     },
     "metadata": {
      "needs_background": "light"
     },
     "output_type": "display_data"
    }
   ],
   "source": [
    "from statsmodels.tsa.seasonal import seasonal_decompose\n",
    "\n",
    "# Decomposing the time series\n",
    "decompose_data = seasonal_decompose(df_concat.Potrošnja, model=\"additive\")\n",
    "decompose_data.plot();"
   ]
  },
  {
   "cell_type": "code",
   "execution_count": 34,
   "id": "84eaf9ff",
   "metadata": {},
   "outputs": [
    {
     "name": "stdout",
     "output_type": "stream",
     "text": [
      "Performing stepwise search to minimize aic\n",
      " ARIMA(2,1,2)(0,0,0)[0] intercept   : AIC=inf, Time=0.21 sec\n",
      " ARIMA(0,1,0)(0,0,0)[0] intercept   : AIC=3762.347, Time=0.01 sec\n",
      " ARIMA(1,1,0)(0,0,0)[0] intercept   : AIC=3763.973, Time=0.02 sec\n",
      " ARIMA(0,1,1)(0,0,0)[0] intercept   : AIC=3763.362, Time=0.04 sec\n",
      " ARIMA(0,1,0)(0,0,0)[0]             : AIC=3760.347, Time=0.01 sec\n",
      " ARIMA(1,1,1)(0,0,0)[0] intercept   : AIC=3739.221, Time=0.09 sec\n",
      " ARIMA(2,1,1)(0,0,0)[0] intercept   : AIC=3714.543, Time=0.12 sec\n",
      " ARIMA(2,1,0)(0,0,0)[0] intercept   : AIC=3734.262, Time=0.03 sec\n",
      " ARIMA(3,1,1)(0,0,0)[0] intercept   : AIC=3715.248, Time=0.17 sec\n",
      " ARIMA(1,1,2)(0,0,0)[0] intercept   : AIC=3710.437, Time=0.14 sec\n",
      " ARIMA(0,1,2)(0,0,0)[0] intercept   : AIC=3710.614, Time=0.14 sec\n",
      " ARIMA(1,1,3)(0,0,0)[0] intercept   : AIC=3712.161, Time=0.23 sec\n",
      " ARIMA(0,1,3)(0,0,0)[0] intercept   : AIC=3711.783, Time=0.14 sec\n",
      " ARIMA(2,1,3)(0,0,0)[0] intercept   : AIC=inf, Time=0.33 sec\n",
      " ARIMA(1,1,2)(0,0,0)[0]             : AIC=3708.442, Time=0.07 sec\n",
      " ARIMA(0,1,2)(0,0,0)[0]             : AIC=3708.614, Time=0.03 sec\n",
      " ARIMA(1,1,1)(0,0,0)[0]             : AIC=3737.219, Time=0.06 sec\n",
      " ARIMA(2,1,2)(0,0,0)[0]             : AIC=inf, Time=0.16 sec\n",
      " ARIMA(1,1,3)(0,0,0)[0]             : AIC=3710.168, Time=0.19 sec\n",
      " ARIMA(0,1,1)(0,0,0)[0]             : AIC=3761.362, Time=0.01 sec\n",
      " ARIMA(0,1,3)(0,0,0)[0]             : AIC=3709.784, Time=0.07 sec\n",
      " ARIMA(2,1,1)(0,0,0)[0]             : AIC=3712.543, Time=0.06 sec\n",
      " ARIMA(2,1,3)(0,0,0)[0]             : AIC=inf, Time=0.27 sec\n",
      "\n",
      "Best model:  ARIMA(1,1,2)(0,0,0)[0]          \n",
      "Total fit time: 2.598 seconds\n"
     ]
    },
    {
     "data": {
      "text/html": [
       "<table class=\"simpletable\">\n",
       "<caption>SARIMAX Results</caption>\n",
       "<tr>\n",
       "  <th>Dep. Variable:</th>           <td>y</td>        <th>  No. Observations:  </th>    <td>304</td>   \n",
       "</tr>\n",
       "<tr>\n",
       "  <th>Model:</th>           <td>SARIMAX(1, 1, 2)</td> <th>  Log Likelihood     </th> <td>-1850.221</td>\n",
       "</tr>\n",
       "<tr>\n",
       "  <th>Date:</th>            <td>Sat, 11 Jun 2022</td> <th>  AIC                </th> <td>3708.442</td> \n",
       "</tr>\n",
       "<tr>\n",
       "  <th>Time:</th>                <td>23:33:14</td>     <th>  BIC                </th> <td>3723.297</td> \n",
       "</tr>\n",
       "<tr>\n",
       "  <th>Sample:</th>                  <td>0</td>        <th>  HQIC               </th> <td>3714.385</td> \n",
       "</tr>\n",
       "<tr>\n",
       "  <th></th>                      <td> - 304</td>      <th>                     </th>     <td> </td>    \n",
       "</tr>\n",
       "<tr>\n",
       "  <th>Covariance Type:</th>        <td>opg</td>       <th>                     </th>     <td> </td>    \n",
       "</tr>\n",
       "</table>\n",
       "<table class=\"simpletable\">\n",
       "<tr>\n",
       "     <td></td>       <th>coef</th>     <th>std err</th>      <th>z</th>      <th>P>|z|</th>  <th>[0.025</th>    <th>0.975]</th>  \n",
       "</tr>\n",
       "<tr>\n",
       "  <th>ar.L1</th>  <td>    0.2813</td> <td>    0.099</td> <td>    2.830</td> <td> 0.005</td> <td>    0.086</td> <td>    0.476</td>\n",
       "</tr>\n",
       "<tr>\n",
       "  <th>ma.L1</th>  <td>   -0.3322</td> <td>    0.095</td> <td>   -3.503</td> <td> 0.000</td> <td>   -0.518</td> <td>   -0.146</td>\n",
       "</tr>\n",
       "<tr>\n",
       "  <th>ma.L2</th>  <td>   -0.4428</td> <td>    0.061</td> <td>   -7.300</td> <td> 0.000</td> <td>   -0.562</td> <td>   -0.324</td>\n",
       "</tr>\n",
       "<tr>\n",
       "  <th>sigma2</th> <td> 1.175e+04</td> <td>  970.825</td> <td>   12.107</td> <td> 0.000</td> <td> 9850.844</td> <td> 1.37e+04</td>\n",
       "</tr>\n",
       "</table>\n",
       "<table class=\"simpletable\">\n",
       "<tr>\n",
       "  <th>Ljung-Box (L1) (Q):</th>     <td>0.00</td> <th>  Jarque-Bera (JB):  </th> <td>5.51</td>\n",
       "</tr>\n",
       "<tr>\n",
       "  <th>Prob(Q):</th>                <td>0.99</td> <th>  Prob(JB):          </th> <td>0.06</td>\n",
       "</tr>\n",
       "<tr>\n",
       "  <th>Heteroskedasticity (H):</th> <td>0.70</td> <th>  Skew:              </th> <td>0.33</td>\n",
       "</tr>\n",
       "<tr>\n",
       "  <th>Prob(H) (two-sided):</th>    <td>0.07</td> <th>  Kurtosis:          </th> <td>3.08</td>\n",
       "</tr>\n",
       "</table><br/><br/>Warnings:<br/>[1] Covariance matrix calculated using the outer product of gradients (complex-step)."
      ],
      "text/plain": [
       "<class 'statsmodels.iolib.summary.Summary'>\n",
       "\"\"\"\n",
       "                               SARIMAX Results                                \n",
       "==============================================================================\n",
       "Dep. Variable:                      y   No. Observations:                  304\n",
       "Model:               SARIMAX(1, 1, 2)   Log Likelihood               -1850.221\n",
       "Date:                Sat, 11 Jun 2022   AIC                           3708.442\n",
       "Time:                        23:33:14   BIC                           3723.297\n",
       "Sample:                             0   HQIC                          3714.385\n",
       "                                - 304                                         \n",
       "Covariance Type:                  opg                                         \n",
       "==============================================================================\n",
       "                 coef    std err          z      P>|z|      [0.025      0.975]\n",
       "------------------------------------------------------------------------------\n",
       "ar.L1          0.2813      0.099      2.830      0.005       0.086       0.476\n",
       "ma.L1         -0.3322      0.095     -3.503      0.000      -0.518      -0.146\n",
       "ma.L2         -0.4428      0.061     -7.300      0.000      -0.562      -0.324\n",
       "sigma2      1.175e+04    970.825     12.107      0.000    9850.844    1.37e+04\n",
       "===================================================================================\n",
       "Ljung-Box (L1) (Q):                   0.00   Jarque-Bera (JB):                 5.51\n",
       "Prob(Q):                              0.99   Prob(JB):                         0.06\n",
       "Heteroskedasticity (H):               0.70   Skew:                             0.33\n",
       "Prob(H) (two-sided):                  0.07   Kurtosis:                         3.08\n",
       "===================================================================================\n",
       "\n",
       "Warnings:\n",
       "[1] Covariance matrix calculated using the outer product of gradients (complex-step).\n",
       "\"\"\""
      ]
     },
     "execution_count": 34,
     "metadata": {},
     "output_type": "execute_result"
    }
   ],
   "source": [
    "# Izracunaj najbolji order\n",
    "from pmdarima.arima import auto_arima\n",
    "\n",
    "auto_arima_result = auto_arima(y=df_concat['Potrošnja'], x=df_concat, trace=True, seasonal=True, information_criterion='aic')\n",
    "\n",
    "auto_arima_result.summary()"
   ]
  },
  {
   "cell_type": "code",
   "execution_count": 56,
   "id": "8e2b943b",
   "metadata": {},
   "outputs": [],
   "source": [
    "import statsmodels.api as sm\n",
    "\n",
    "model=sm.tsa.statespace.SARIMAX(endog=df_concat['Potrošnja'], exog=df_concat['Prosjek'] , order=(1, 1, 2) ,seasonal_order=(0,1,0,7), freq='D')\n",
    "\n",
    "results=model.fit()"
   ]
  },
  {
   "cell_type": "code",
   "execution_count": 57,
   "id": "b453751a",
   "metadata": {},
   "outputs": [
    {
     "name": "stderr",
     "output_type": "stream",
     "text": [
      "/home/silvio/.local/lib/python3.8/site-packages/pandas/core/indexing.py:1773: SettingWithCopyWarning: \n",
      "A value is trying to be set on a copy of a slice from a DataFrame.\n",
      "Try using .loc[row_indexer,col_indexer] = value instead\n",
      "\n",
      "See the caveats in the documentation: https://pandas.pydata.org/pandas-docs/stable/user_guide/indexing.html#returning-a-view-versus-a-copy\n",
      "  self._setitem_single_column(ilocs[0], value, pi)\n"
     ]
    },
    {
     "data": {
      "text/plain": [
       "<AxesSubplot:xlabel='Datetime'>"
      ]
     },
     "execution_count": 57,
     "metadata": {},
     "output_type": "execute_result"
    },
    {
     "data": {
      "image/png": "[encoded data removed]",
      "text/plain": [
       "<Figure size 432x288 with 1 Axes>"
      ]
     },
     "metadata": {
      "needs_background": "light"
     },
     "output_type": "display_data"
    }
   ],
   "source": [
    "test.loc[:, ('Potrošnja')] = results.predict(exog=test.loc[:, ('Prosjek')])\n",
    "df_concat['Potrošnja'].plot()\n",
    "test['Potrošnja'].plot()"
   ]
  },
  {
   "cell_type": "markdown",
   "id": "717a9273",
   "metadata": {},
   "source": [
    "Zaključak je da model možemo koristiti za predikcije"
   ]
  },
  {
   "cell_type": "markdown",
   "id": "0013cf6f",
   "metadata": {},
   "source": [
    "### Forecast zadnja dva mjeseca 2021. godine"
   ]
  },
  {
   "cell_type": "code",
   "execution_count": 58,
   "id": "2aea9863",
   "metadata": {},
   "outputs": [],
   "source": [
    "# Generaze datetime\n",
    "datetime = pd.date_range(start='2021-11-01', end='2021-12-31')\n",
    "\n",
    "# Get prosjek\n",
    "df_temp_prosjek = pd.read_excel('temperatura_predviđanje.xlsx', sheet_name='podaci_testiranje')\n",
    "\n",
    "# Set the index\n",
    "df_temp_prosjek['Datetime'] = pd.to_datetime(df_temp_prosjek['Vrijeme'])\n",
    "df_temp_prosjek = df_temp_prosjek.set_index('Datetime')\n",
    "df_temp_prosjek = df_temp_prosjek.drop(['Vrijeme'], axis=1)\n",
    "\n",
    "# Generate prosjek\n",
    "df_temp_prosjek['Prosjek'] = df_temp_prosjek.mean(axis=1).round(2)\n",
    "\n",
    "# Create new dataframe\n",
    "df_forecast = pd.DataFrame(df_temp_prosjek, index=datetime, columns=['Potrošnja', 'Prosjek', 'Forecast'])\n",
    "df_forecast.index.name = 'Datetime'\n",
    "df_forecast['Potrošnja'] = 0\n",
    "df_forecast['Forecast'] = 0"
   ]
  },
  {
   "cell_type": "code",
   "execution_count": 59,
   "id": "6648e161",
   "metadata": {},
   "outputs": [],
   "source": [
    "df_forecast['Forecast'] = results.predict(end='2021-12-31', start='2021-11-01', exog=df_forecast['Prosjek'])"
   ]
  },
  {
   "cell_type": "code",
   "execution_count": 60,
   "id": "295adaef",
   "metadata": {},
   "outputs": [
    {
     "data": {
      "text/plain": [
       "<AxesSubplot:xlabel='Datetime'>"
      ]
     },
     "execution_count": 60,
     "metadata": {},
     "output_type": "execute_result"
    },
    {
     "data": {
      "image/png": "[encoded data removed]",
      "text/plain": [
       "<Figure size 432x288 with 1 Axes>"
      ]
     },
     "metadata": {
      "needs_background": "light"
     },
     "output_type": "display_data"
    }
   ],
   "source": [
    "df_concat.Potrošnja.plot()\n",
    "df_forecast.Forecast.plot()"
   ]
  }
 ],
 "metadata": {
  "kernelspec": {
   "display_name": "Python 3 (ipykernel)",
   "language": "python",
   "name": "python3"
  },
  "language_info": {
   "codemirror_mode": {
    "name": "ipython",
    "version": 3
   },
   "file_extension": ".py",
   "mimetype": "text/x-python",
   "name": "python",
   "nbconvert_exporter": "python",
   "pygments_lexer": "ipython3",
   "version": "3.8.10"
  }
 },
 "nbformat": 4,
 "nbformat_minor": 5
}
