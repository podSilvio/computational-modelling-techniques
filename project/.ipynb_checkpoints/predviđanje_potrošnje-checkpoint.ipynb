{
 "cells": [
  {
   "cell_type": "markdown",
   "id": "9409b524",
   "metadata": {},
   "source": [
    "# Uvod i istraživanje područja\n",
    "\n",
    "Električna energija jedinstven je resurs od izrazite važnosti za funkcioniranje društva i industrije. Kažemo da je jedinstven jer još uvijek ne postoji efikasan način pohrane velike količine proizvedene električne energije, stoga u svakom trenutku proizvodnja električne energije mora biti barem približno jednaka potrošnji. Također, jedan od glavnih zadataka distributera električne energije je osigurati pravovremenu dostupnost električne energije svim svojim korisnicima.\n",
    "\n",
    "Zbog opisanih zahtjeva, od izrazite je važnosti mogućnost predviđanja potrošnje električne energije. Potrošnja energije značajno ovisi o vremenu (vidjet ćemo da se u potrošnji uočava sezonalnost na razini sata, tjedna te godine), ali i o vanjskim utjecajima (temperatura zraka, geografski uvjeti, industrijski planovi...)[1]. Dva su glavna motivacijska razloga predviđanja potrošnje električne energije. \n",
    "\n",
    "Prvi je razlog dati distributeru dodatnu informaciju prilikom razvoja distribucijske mreže. Potrošnja energije varira tijekom dana, no postoji značajna razlika u potrošnji tijekom dana te po noći. Kako bi nadmirio potrebe tržišta, treba pravovremeno osigurati dostupnost električne energije svim svojim korisnicima, što predstavlja određenu poteškoću pogotovo tijekom _peak hours_.\n",
    "\n",
    "Drugi je razlog mogućnost kupnje i prodaje što točnije količine električne energije na burzi. Možda je manje poznato da električnom energijom također trguje na burzi energije, a najveći postatak se trguje na _Day-Ahead Energy Marketu_ gdje se kupuje i prodaje energija za sljedećih 24 sata, uzevši u obzir fizička ograničenja mreže i potrošnju predviđenu za sljedeći dan.\n",
    "\n",
    "Konačno, zadatak ove Jupyter bilježnice predviđanje je potrošnje električne energije s obzirom na prošle vrijednosti potrošnje i vrijednosti temperature."
   ]
  },
  {
   "cell_type": "markdown",
   "id": "6411665e",
   "metadata": {},
   "source": [
    "**Dodatno**: Ispod nekih čelija nalazi se čelija ***Napomena*** kako bi opisao razlog implementacije i problema s kojima sam se susretao."
   ]
  },
  {
   "cell_type": "markdown",
   "id": "277db7c6",
   "metadata": {},
   "source": [
    "# Teorijska podloga i implementacija"
   ]
  },
  {
   "cell_type": "markdown",
   "id": "fb2aecb5",
   "metadata": {},
   "source": [
    "Prvo, kako bih mogao raditi s podacima, potrebno je kreirati _data frame_ koji će sadržavati podatke o potrošnji električne energije i temperaturi. Podaci koje imam su potrošnja energije (po satu) te temperatura zraka za četiri najveća grada (po danu) za razdoblje prvih 10 mjeseci 2021. godine."
   ]
  },
  {
   "cell_type": "code",
   "execution_count": 37,
   "id": "d58d3fd5",
   "metadata": {},
   "outputs": [],
   "source": [
    "# Import libraries\n",
    "import pandas as pd\n",
    "import numpy as np\n",
    "import matplotlib.pyplot as plt"
   ]
  },
  {
   "cell_type": "markdown",
   "id": "7e4d8eb9",
   "metadata": {},
   "source": [
    "#### Učitavanje podataka za potrošnju"
   ]
  },
  {
   "cell_type": "code",
   "execution_count": 38,
   "id": "199af992",
   "metadata": {},
   "outputs": [],
   "source": [
    "# lib for regular expresions\n",
    "import re\n",
    "\n",
    "# Check the names of all sheets in excel file\n",
    "all_sheets = pd.ExcelFile('Arhiva_10_2021.xlsx')\n",
    "\n",
    "# Create regex\n",
    "regex = re.compile(r'\\d\\d\\.')\n",
    "\n",
    "# Match the sheet_names\n",
    "sheet_names = [n for n in all_sheets.sheet_names if regex.match(n)]\n",
    "\n",
    "# Crete dataframe\n",
    "df_total = pd.read_excel('Arhiva_10_2021.xlsx', sheet_name=sheet_names, usecols=[0,1,2], converters={'datum':str, 'vrijeme':str}, names=['datum', 'vrijeme', 'Potrošnja'])"
   ]
  },
  {
   "cell_type": "markdown",
   "id": "bfb053f7",
   "metadata": {},
   "source": [
    "**Napomena:** Parametri koje sam koristio su *sheet_name* kako bi regexom dobio sve potrebne sheetove (konkretno one sheetove koji završavaju s točkom), *usecols* jer u drugim slučajevima uzima i dodatne stupce koje postavi na NaN, *converters* jer su vrijednosti u excel fileu drukčije postavljene, te je potrebno izričito naglasiti kakve se vrijednosti očekuju kako ne bi došlo do problema prilikom parsiranja."
   ]
  },
  {
   "cell_type": "code",
   "execution_count": 39,
   "id": "3a45f40d",
   "metadata": {},
   "outputs": [],
   "source": [
    "df = pd.concat(df_total)"
   ]
  },
  {
   "cell_type": "code",
   "execution_count": 40,
   "id": "3a2d9655",
   "metadata": {},
   "outputs": [
    {
     "data": {
      "text/plain": [
       "datum         object\n",
       "vrijeme       object\n",
       "Potrošnja    float64\n",
       "dtype: object"
      ]
     },
     "execution_count": 40,
     "metadata": {},
     "output_type": "execute_result"
    }
   ],
   "source": [
    "# Check for types in dataframe\n",
    "df.dtypes"
   ]
  },
  {
   "cell_type": "markdown",
   "id": "6224a447",
   "metadata": {},
   "source": [
    "**Napomena:** Bilo je mnogo problema s parsiranjem datuma zbog nekonzistentnosti zapisa u .xlsx fileu. Konkretno, prvih 24 vrijednosti sadrži zapis u AM/PM formatu, dok ostali ne sadrže. Zbog toga Pandas automatski dodaje vrijednost datuma za taj stupac, počevši od 1900. godine. Funkcije *to_datetime* i slične nije bilo moguće koristiti jer se varijabla 'vrijeme' opisala kao tip *object*. Zbog toga sam dodao argument 'converters' kako bi to spriječio. Također, nije moguće bilo automatski parsirati datume i postaviti ih za index pomoću *read_excel*, stoga sam mogao samostalno to sve napraviti.\n",
    "\n",
    "Također, bilo je mnogo problema sa parsiranjem vrijednosti potrošnje električne energije. Rješenje je u excelu formatirati vrijednosti kao broj. Funkcije *apply*, *astype* i slične ne uspijevaju formatirati object type u float u ovom primjeru. "
   ]
  },
  {
   "cell_type": "code",
   "execution_count": 41,
   "id": "b5b03c68",
   "metadata": {},
   "outputs": [],
   "source": [
    "# Set 'vrijeme' as type string\n",
    "df['vrijeme'] = df['vrijeme'].apply(str)\n",
    "df['vrijeme'] = df['vrijeme'].str.split(' ')"
   ]
  },
  {
   "cell_type": "code",
   "execution_count": 42,
   "id": "ce761dfb",
   "metadata": {},
   "outputs": [],
   "source": [
    "# Get only the last index (time)\n",
    "df['vrijeme'] = df['vrijeme'].map(lambda x : x[-1])"
   ]
  },
  {
   "cell_type": "markdown",
   "id": "6b87ed2d",
   "metadata": {},
   "source": [
    "Postavi index tipa datetime"
   ]
  },
  {
   "cell_type": "code",
   "execution_count": 43,
   "id": "66815b76",
   "metadata": {},
   "outputs": [],
   "source": [
    "# Create index as concatenation of date and time\n",
    "df['Datetime'] = pd.to_datetime(df['datum'] + ' ' + df['vrijeme'])\n",
    "\n",
    "# Set new variable as index\n",
    "df = df.set_index('Datetime')\n",
    "\n",
    "# Drop the variables we don't need anymore\n",
    "df = df.drop(['datum','vrijeme'], axis=1)"
   ]
  },
  {
   "cell_type": "code",
   "execution_count": 44,
   "id": "0a6518f6",
   "metadata": {},
   "outputs": [
    {
     "data": {
      "text/plain": [
       "False"
      ]
     },
     "execution_count": 44,
     "metadata": {},
     "output_type": "execute_result"
    }
   ],
   "source": [
    "# Check whether there are NULL values\n",
    "df['Potrošnja'].isnull().values.any()"
   ]
  },
  {
   "cell_type": "code",
   "execution_count": 45,
   "id": "528a37d4",
   "metadata": {},
   "outputs": [
    {
     "data": {
      "text/plain": [
       "<AxesSubplot:title={'center':'Krivulja opterećenja distribucijskog sustava [MWh]'}, xlabel='Vrijeme', ylabel='[MWh]'>"
      ]
     },
     "execution_count": 45,
     "metadata": {},
     "output_type": "execute_result"
    },
    {
     "data": {
      "image/png": "[encoded data removed]",
      "text/plain": [
       "<Figure size 1008x576 with 1 Axes>"
      ]
     },
     "metadata": {
      "needs_background": "light"
     },
     "output_type": "display_data"
    }
   ],
   "source": [
    "# Plot the 'Potrošnja'\n",
    "df.plot(use_index=True, title='Krivulja opterećenja distribucijskog sustava [MWh]', figsize=(14,8), grid=True, legend=True, ylabel='[MWh]', xlabel='Vrijeme')"
   ]
  },
  {
   "cell_type": "markdown",
   "id": "66e7579b",
   "metadata": {},
   "source": [
    "Zanima me koja je prosječna srednja vrijednost za svaki sat u danu?"
   ]
  },
  {
   "cell_type": "code",
   "execution_count": 46,
   "id": "55db562d",
   "metadata": {},
   "outputs": [
    {
     "data": {
      "text/plain": [
       "<AxesSubplot:xlabel='Sati', ylabel='MWh'>"
      ]
     },
     "execution_count": 46,
     "metadata": {},
     "output_type": "execute_result"
    },
    {
     "data": {
      "image/png": "[encoded data removed]",
      "text/plain": [
       "<Figure size 864x576 with 1 Axes>"
      ]
     },
     "metadata": {
      "needs_background": "light"
     },
     "output_type": "display_data"
    }
   ],
   "source": [
    "df.groupby(df.index.hour)['Potrošnja'].mean().plot(kind='line', xlabel='Sati', ylabel='MWh', legend=True, grid=True, figsize=(12,8), xticks = np.arange(0, 24, step=1), yticks=np.arange(1200, 2400, 100))"
   ]
  },
  {
   "cell_type": "markdown",
   "id": "5ce79b96",
   "metadata": {},
   "source": [
    "Ovdje sam koristio datetime kao index što omogućava jednostavno grupiranje po satima."
   ]
  },
  {
   "cell_type": "markdown",
   "id": "1358edb3",
   "metadata": {},
   "source": [
    "**Napomena:** Budući da je drukčija razina granularnosti (imamo potrošnju energije izraženu u satima i prosječnu dnevnu temperaturu), odlučio sam se na dnevnu agregaciju potrošnje. Razlog za to je da ćemo prilikom predviđanja na raspolaganju imati očekivanu prosječnu dnevnu temperaturu, a ne satnu temperaturu po danima. "
   ]
  },
  {
   "cell_type": "code",
   "execution_count": 47,
   "id": "7f7cd345",
   "metadata": {},
   "outputs": [],
   "source": [
    "df = df.groupby(pd.Grouper(freq='D')).mean()"
   ]
  },
  {
   "cell_type": "code",
   "execution_count": 48,
   "id": "59e0d582",
   "metadata": {},
   "outputs": [
    {
     "data": {
      "text/plain": [
       "<AxesSubplot:xlabel='Datetime'>"
      ]
     },
     "execution_count": 48,
     "metadata": {},
     "output_type": "execute_result"
    },
    {
     "data": {
      "image/png": "[encoded data removed]",
      "text/plain": [
       "<Figure size 432x288 with 1 Axes>"
      ]
     },
     "metadata": {
      "needs_background": "light"
     },
     "output_type": "display_data"
    }
   ],
   "source": [
    "df.plot()"
   ]
  },
  {
   "cell_type": "markdown",
   "id": "8065fff1",
   "metadata": {},
   "source": [
    "#### Učitavanje podataka za temperaturu"
   ]
  },
  {
   "cell_type": "markdown",
   "id": "6aa36222",
   "metadata": {},
   "source": [
    "Ne postoje javno dostupni povijesni podaci prosječne temperature u Hrvatskoj (ili se naplaćuju od strane DHMZ po važećem [cjeniku](https://klima.hr/razno/katalog_i_cjenikDHMZ.pdf)). Iz tog razloga, a i budući da je većina stanovništva i industrije koncentrirana na području Zagreba, Splita, Osijeka i Rijeke, odlučio sam uzeti temperaturu četiri najveća Hrvatska grada te izračunati prosječnu satnu temperaturu, te tu vrijednost primijeniti kao prosječnu temperaturu u Hrvatskoj. Podatci prosječne dnevne temperature za četiri najveća HR grada nalaze se na sljedećem [linku](https://crd.meteoadriatic.net/statistics)."
   ]
  },
  {
   "cell_type": "code",
   "execution_count": 49,
   "id": "c48a878a",
   "metadata": {},
   "outputs": [],
   "source": [
    "# Read excel (all sheets)\n",
    "df_temp_total = pd.read_excel('temperatura.xlsx', sheet_name=None)\n",
    "\n",
    "# Concat all values in df_temp_total\n",
    "df_temp = pd.concat(df_temp_total, ignore_index=True)"
   ]
  },
  {
   "cell_type": "code",
   "execution_count": 50,
   "id": "ad60db27",
   "metadata": {},
   "outputs": [
    {
     "data": {
      "text/html": [
       "<div>\n",
       "<style scoped>\n",
       "    .dataframe tbody tr th:only-of-type {\n",
       "        vertical-align: middle;\n",
       "    }\n",
       "\n",
       "    .dataframe tbody tr th {\n",
       "        vertical-align: top;\n",
       "    }\n",
       "\n",
       "    .dataframe thead th {\n",
       "        text-align: right;\n",
       "    }\n",
       "</style>\n",
       "<table border=\"1\" class=\"dataframe\">\n",
       "  <thead>\n",
       "    <tr style=\"text-align: right;\">\n",
       "      <th></th>\n",
       "      <th>Vrijeme</th>\n",
       "      <th>Zagreb_temperatura</th>\n",
       "      <th>Split_temperatura</th>\n",
       "      <th>Osijek_temperatura</th>\n",
       "      <th>Rijeka_temperatura</th>\n",
       "    </tr>\n",
       "  </thead>\n",
       "  <tbody>\n",
       "    <tr>\n",
       "      <th>0</th>\n",
       "      <td>2021-01-01 00</td>\n",
       "      <td>4.0</td>\n",
       "      <td>9.6</td>\n",
       "      <td>2.7</td>\n",
       "      <td>8.1</td>\n",
       "    </tr>\n",
       "    <tr>\n",
       "      <th>1</th>\n",
       "      <td>2021-01-02 00</td>\n",
       "      <td>5.6</td>\n",
       "      <td>11.3</td>\n",
       "      <td>5.5</td>\n",
       "      <td>9.8</td>\n",
       "    </tr>\n",
       "    <tr>\n",
       "      <th>2</th>\n",
       "      <td>2021-01-03 00</td>\n",
       "      <td>4.4</td>\n",
       "      <td>10.0</td>\n",
       "      <td>6.2</td>\n",
       "      <td>9.0</td>\n",
       "    </tr>\n",
       "    <tr>\n",
       "      <th>3</th>\n",
       "      <td>2021-01-04 00</td>\n",
       "      <td>3.3</td>\n",
       "      <td>9.5</td>\n",
       "      <td>3.5</td>\n",
       "      <td>7.5</td>\n",
       "    </tr>\n",
       "    <tr>\n",
       "      <th>4</th>\n",
       "      <td>2021-01-05 00</td>\n",
       "      <td>3.5</td>\n",
       "      <td>9.7</td>\n",
       "      <td>3.8</td>\n",
       "      <td>6.9</td>\n",
       "    </tr>\n",
       "    <tr>\n",
       "      <th>...</th>\n",
       "      <td>...</td>\n",
       "      <td>...</td>\n",
       "      <td>...</td>\n",
       "      <td>...</td>\n",
       "      <td>...</td>\n",
       "    </tr>\n",
       "    <tr>\n",
       "      <th>299</th>\n",
       "      <td>2021-10-27 00</td>\n",
       "      <td>7.6</td>\n",
       "      <td>18.1</td>\n",
       "      <td>6.1</td>\n",
       "      <td>12.3</td>\n",
       "    </tr>\n",
       "    <tr>\n",
       "      <th>300</th>\n",
       "      <td>2021-10-28 00</td>\n",
       "      <td>9.3</td>\n",
       "      <td>19.4</td>\n",
       "      <td>7.3</td>\n",
       "      <td>15.1</td>\n",
       "    </tr>\n",
       "    <tr>\n",
       "      <th>301</th>\n",
       "      <td>2021-10-29 00</td>\n",
       "      <td>9.4</td>\n",
       "      <td>19.2</td>\n",
       "      <td>9.2</td>\n",
       "      <td>17.0</td>\n",
       "    </tr>\n",
       "    <tr>\n",
       "      <th>302</th>\n",
       "      <td>2021-10-30 00</td>\n",
       "      <td>11.5</td>\n",
       "      <td>19.0</td>\n",
       "      <td>9.0</td>\n",
       "      <td>16.8</td>\n",
       "    </tr>\n",
       "    <tr>\n",
       "      <th>303</th>\n",
       "      <td>2021-10-31 00</td>\n",
       "      <td>9.0</td>\n",
       "      <td>19.0</td>\n",
       "      <td>3.0</td>\n",
       "      <td>18.0</td>\n",
       "    </tr>\n",
       "  </tbody>\n",
       "</table>\n",
       "<p>304 rows × 5 columns</p>\n",
       "</div>"
      ],
      "text/plain": [
       "           Vrijeme  Zagreb_temperatura  Split_temperatura  Osijek_temperatura  \\\n",
       "0    2021-01-01 00                 4.0                9.6                 2.7   \n",
       "1    2021-01-02 00                 5.6               11.3                 5.5   \n",
       "2    2021-01-03 00                 4.4               10.0                 6.2   \n",
       "3    2021-01-04 00                 3.3                9.5                 3.5   \n",
       "4    2021-01-05 00                 3.5                9.7                 3.8   \n",
       "..             ...                 ...                ...                 ...   \n",
       "299  2021-10-27 00                 7.6               18.1                 6.1   \n",
       "300  2021-10-28 00                 9.3               19.4                 7.3   \n",
       "301  2021-10-29 00                 9.4               19.2                 9.2   \n",
       "302  2021-10-30 00                11.5               19.0                 9.0   \n",
       "303  2021-10-31 00                 9.0               19.0                 3.0   \n",
       "\n",
       "     Rijeka_temperatura  \n",
       "0                   8.1  \n",
       "1                   9.8  \n",
       "2                   9.0  \n",
       "3                   7.5  \n",
       "4                   6.9  \n",
       "..                  ...  \n",
       "299                12.3  \n",
       "300                15.1  \n",
       "301                17.0  \n",
       "302                16.8  \n",
       "303                18.0  \n",
       "\n",
       "[304 rows x 5 columns]"
      ]
     },
     "execution_count": 50,
     "metadata": {},
     "output_type": "execute_result"
    }
   ],
   "source": [
    "df_temp"
   ]
  },
  {
   "cell_type": "markdown",
   "id": "caec0f11",
   "metadata": {},
   "source": [
    "Postavi index tipa datetime"
   ]
  },
  {
   "cell_type": "code",
   "execution_count": 51,
   "id": "57be5e15",
   "metadata": {},
   "outputs": [],
   "source": [
    "# Create index as concatenation of date and time\n",
    "df_temp['Datetime'] = pd.to_datetime(df_temp['Vrijeme'])\n",
    "\n",
    "# Set new variable as index\n",
    "df_temp = df_temp.set_index('Datetime')\n",
    "\n",
    "# Drop the variables we don't need anymore\n",
    "df_temp = df_temp.drop(['Vrijeme'], axis=1)"
   ]
  },
  {
   "cell_type": "code",
   "execution_count": 52,
   "id": "384943b8",
   "metadata": {},
   "outputs": [],
   "source": [
    "df_temp['HR_temperatura'] = df_temp.mean(axis=1).round(2)"
   ]
  },
  {
   "cell_type": "code",
   "execution_count": 53,
   "id": "5e8324c9",
   "metadata": {},
   "outputs": [
    {
     "data": {
      "text/html": [
       "<div>\n",
       "<style scoped>\n",
       "    .dataframe tbody tr th:only-of-type {\n",
       "        vertical-align: middle;\n",
       "    }\n",
       "\n",
       "    .dataframe tbody tr th {\n",
       "        vertical-align: top;\n",
       "    }\n",
       "\n",
       "    .dataframe thead th {\n",
       "        text-align: right;\n",
       "    }\n",
       "</style>\n",
       "<table border=\"1\" class=\"dataframe\">\n",
       "  <thead>\n",
       "    <tr style=\"text-align: right;\">\n",
       "      <th></th>\n",
       "      <th>Zagreb_temperatura</th>\n",
       "      <th>Split_temperatura</th>\n",
       "      <th>Osijek_temperatura</th>\n",
       "      <th>Rijeka_temperatura</th>\n",
       "      <th>HR_temperatura</th>\n",
       "    </tr>\n",
       "    <tr>\n",
       "      <th>Datetime</th>\n",
       "      <th></th>\n",
       "      <th></th>\n",
       "      <th></th>\n",
       "      <th></th>\n",
       "      <th></th>\n",
       "    </tr>\n",
       "  </thead>\n",
       "  <tbody>\n",
       "    <tr>\n",
       "      <th>2021-01-01</th>\n",
       "      <td>4.0</td>\n",
       "      <td>9.6</td>\n",
       "      <td>2.7</td>\n",
       "      <td>8.1</td>\n",
       "      <td>6.10</td>\n",
       "    </tr>\n",
       "    <tr>\n",
       "      <th>2021-01-02</th>\n",
       "      <td>5.6</td>\n",
       "      <td>11.3</td>\n",
       "      <td>5.5</td>\n",
       "      <td>9.8</td>\n",
       "      <td>8.05</td>\n",
       "    </tr>\n",
       "    <tr>\n",
       "      <th>2021-01-03</th>\n",
       "      <td>4.4</td>\n",
       "      <td>10.0</td>\n",
       "      <td>6.2</td>\n",
       "      <td>9.0</td>\n",
       "      <td>7.40</td>\n",
       "    </tr>\n",
       "    <tr>\n",
       "      <th>2021-01-04</th>\n",
       "      <td>3.3</td>\n",
       "      <td>9.5</td>\n",
       "      <td>3.5</td>\n",
       "      <td>7.5</td>\n",
       "      <td>5.95</td>\n",
       "    </tr>\n",
       "    <tr>\n",
       "      <th>2021-01-05</th>\n",
       "      <td>3.5</td>\n",
       "      <td>9.7</td>\n",
       "      <td>3.8</td>\n",
       "      <td>6.9</td>\n",
       "      <td>5.98</td>\n",
       "    </tr>\n",
       "    <tr>\n",
       "      <th>...</th>\n",
       "      <td>...</td>\n",
       "      <td>...</td>\n",
       "      <td>...</td>\n",
       "      <td>...</td>\n",
       "      <td>...</td>\n",
       "    </tr>\n",
       "    <tr>\n",
       "      <th>2021-10-27</th>\n",
       "      <td>7.6</td>\n",
       "      <td>18.1</td>\n",
       "      <td>6.1</td>\n",
       "      <td>12.3</td>\n",
       "      <td>11.03</td>\n",
       "    </tr>\n",
       "    <tr>\n",
       "      <th>2021-10-28</th>\n",
       "      <td>9.3</td>\n",
       "      <td>19.4</td>\n",
       "      <td>7.3</td>\n",
       "      <td>15.1</td>\n",
       "      <td>12.78</td>\n",
       "    </tr>\n",
       "    <tr>\n",
       "      <th>2021-10-29</th>\n",
       "      <td>9.4</td>\n",
       "      <td>19.2</td>\n",
       "      <td>9.2</td>\n",
       "      <td>17.0</td>\n",
       "      <td>13.70</td>\n",
       "    </tr>\n",
       "    <tr>\n",
       "      <th>2021-10-30</th>\n",
       "      <td>11.5</td>\n",
       "      <td>19.0</td>\n",
       "      <td>9.0</td>\n",
       "      <td>16.8</td>\n",
       "      <td>14.08</td>\n",
       "    </tr>\n",
       "    <tr>\n",
       "      <th>2021-10-31</th>\n",
       "      <td>9.0</td>\n",
       "      <td>19.0</td>\n",
       "      <td>3.0</td>\n",
       "      <td>18.0</td>\n",
       "      <td>12.25</td>\n",
       "    </tr>\n",
       "  </tbody>\n",
       "</table>\n",
       "<p>304 rows × 5 columns</p>\n",
       "</div>"
      ],
      "text/plain": [
       "            Zagreb_temperatura  Split_temperatura  Osijek_temperatura  \\\n",
       "Datetime                                                                \n",
       "2021-01-01                 4.0                9.6                 2.7   \n",
       "2021-01-02                 5.6               11.3                 5.5   \n",
       "2021-01-03                 4.4               10.0                 6.2   \n",
       "2021-01-04                 3.3                9.5                 3.5   \n",
       "2021-01-05                 3.5                9.7                 3.8   \n",
       "...                        ...                ...                 ...   \n",
       "2021-10-27                 7.6               18.1                 6.1   \n",
       "2021-10-28                 9.3               19.4                 7.3   \n",
       "2021-10-29                 9.4               19.2                 9.2   \n",
       "2021-10-30                11.5               19.0                 9.0   \n",
       "2021-10-31                 9.0               19.0                 3.0   \n",
       "\n",
       "            Rijeka_temperatura  HR_temperatura  \n",
       "Datetime                                        \n",
       "2021-01-01                 8.1            6.10  \n",
       "2021-01-02                 9.8            8.05  \n",
       "2021-01-03                 9.0            7.40  \n",
       "2021-01-04                 7.5            5.95  \n",
       "2021-01-05                 6.9            5.98  \n",
       "...                        ...             ...  \n",
       "2021-10-27                12.3           11.03  \n",
       "2021-10-28                15.1           12.78  \n",
       "2021-10-29                17.0           13.70  \n",
       "2021-10-30                16.8           14.08  \n",
       "2021-10-31                18.0           12.25  \n",
       "\n",
       "[304 rows x 5 columns]"
      ]
     },
     "execution_count": 53,
     "metadata": {},
     "output_type": "execute_result"
    }
   ],
   "source": [
    "df_temp"
   ]
  },
  {
   "cell_type": "code",
   "execution_count": 54,
   "id": "1898dd9a",
   "metadata": {},
   "outputs": [
    {
     "data": {
      "text/html": [
       "<div>\n",
       "<style scoped>\n",
       "    .dataframe tbody tr th:only-of-type {\n",
       "        vertical-align: middle;\n",
       "    }\n",
       "\n",
       "    .dataframe tbody tr th {\n",
       "        vertical-align: top;\n",
       "    }\n",
       "\n",
       "    .dataframe thead th {\n",
       "        text-align: right;\n",
       "    }\n",
       "</style>\n",
       "<table border=\"1\" class=\"dataframe\">\n",
       "  <thead>\n",
       "    <tr style=\"text-align: right;\">\n",
       "      <th></th>\n",
       "      <th>Potrošnja</th>\n",
       "      <th>HR_temperatura</th>\n",
       "    </tr>\n",
       "    <tr>\n",
       "      <th>Datetime</th>\n",
       "      <th></th>\n",
       "      <th></th>\n",
       "    </tr>\n",
       "  </thead>\n",
       "  <tbody>\n",
       "    <tr>\n",
       "      <th>2021-01-01</th>\n",
       "      <td>1658.737021</td>\n",
       "      <td>6.10</td>\n",
       "    </tr>\n",
       "    <tr>\n",
       "      <th>2021-01-02</th>\n",
       "      <td>1740.763635</td>\n",
       "      <td>8.05</td>\n",
       "    </tr>\n",
       "    <tr>\n",
       "      <th>2021-01-03</th>\n",
       "      <td>1698.857552</td>\n",
       "      <td>7.40</td>\n",
       "    </tr>\n",
       "    <tr>\n",
       "      <th>2021-01-04</th>\n",
       "      <td>1929.874844</td>\n",
       "      <td>5.95</td>\n",
       "    </tr>\n",
       "    <tr>\n",
       "      <th>2021-01-05</th>\n",
       "      <td>1974.421844</td>\n",
       "      <td>5.98</td>\n",
       "    </tr>\n",
       "    <tr>\n",
       "      <th>...</th>\n",
       "      <td>...</td>\n",
       "      <td>...</td>\n",
       "    </tr>\n",
       "    <tr>\n",
       "      <th>2021-10-27</th>\n",
       "      <td>1934.383250</td>\n",
       "      <td>11.03</td>\n",
       "    </tr>\n",
       "    <tr>\n",
       "      <th>2021-10-28</th>\n",
       "      <td>1944.644156</td>\n",
       "      <td>12.78</td>\n",
       "    </tr>\n",
       "    <tr>\n",
       "      <th>2021-10-29</th>\n",
       "      <td>1943.962969</td>\n",
       "      <td>13.70</td>\n",
       "    </tr>\n",
       "    <tr>\n",
       "      <th>2021-10-30</th>\n",
       "      <td>1807.587427</td>\n",
       "      <td>14.08</td>\n",
       "    </tr>\n",
       "    <tr>\n",
       "      <th>2021-10-31</th>\n",
       "      <td>1658.123260</td>\n",
       "      <td>12.25</td>\n",
       "    </tr>\n",
       "  </tbody>\n",
       "</table>\n",
       "<p>304 rows × 2 columns</p>\n",
       "</div>"
      ],
      "text/plain": [
       "              Potrošnja  HR_temperatura\n",
       "Datetime                               \n",
       "2021-01-01  1658.737021            6.10\n",
       "2021-01-02  1740.763635            8.05\n",
       "2021-01-03  1698.857552            7.40\n",
       "2021-01-04  1929.874844            5.95\n",
       "2021-01-05  1974.421844            5.98\n",
       "...                 ...             ...\n",
       "2021-10-27  1934.383250           11.03\n",
       "2021-10-28  1944.644156           12.78\n",
       "2021-10-29  1943.962969           13.70\n",
       "2021-10-30  1807.587427           14.08\n",
       "2021-10-31  1658.123260           12.25\n",
       "\n",
       "[304 rows x 2 columns]"
      ]
     },
     "execution_count": 54,
     "metadata": {},
     "output_type": "execute_result"
    }
   ],
   "source": [
    "# Concat tables horizontally\n",
    "df_concat = pd.concat([df, df_temp['HR_temperatura']], axis=1)\n",
    "df_concat"
   ]
  },
  {
   "cell_type": "markdown",
   "id": "7dd4a3d7",
   "metadata": {},
   "source": [
    "### Stacionarnost"
   ]
  },
  {
   "cell_type": "markdown",
   "id": "fe687db7",
   "metadata": {},
   "source": [
    "Stacionarnost je jedna od važnih karakteristika vremenskih serija. Štoviše, mnogi modeli zahtjevaju korištenje stacionarnih vremenskih serija prilikom treniranja i predikcije rezultata. Ovdje se vrši provjera stacionarnosti vremenskih serija pomoću ADF i KPSS testa."
   ]
  },
  {
   "cell_type": "markdown",
   "id": "059b1e58",
   "metadata": {},
   "source": [
    "#### Augmented Dickey-Fuller test\n",
    "\n",
    "Provodim ADF test za stacionarnost. ADF test postavlja sljedeće hipoteze:\n",
    "* Null hipoteza ($H_0$): Postoji [unit root](https://en.wikipedia.org/wiki/Unit_root) (a.k.a. vremenski nizovi nisu stacionarni)\n",
    "* Alternativna hipoteza ($H_1$): Vremenski nizovi su stacionarni (ili trend-stacionarni)\n",
    "\n",
    "Provodim ADF test:"
   ]
  },
  {
   "cell_type": "code",
   "execution_count": 55,
   "id": "fcbb6e45",
   "metadata": {},
   "outputs": [
    {
     "name": "stdout",
     "output_type": "stream",
     "text": [
      "ADF test za potrošnju:\n"
     ]
    },
    {
     "data": {
      "text/plain": [
       "(-2.2811243046246497,\n",
       " 0.1781280416658968,\n",
       " 14,\n",
       " 289,\n",
       " {'1%': -3.4531816058796143,\n",
       "  '5%': -2.871593390724642,\n",
       "  '10%': -2.5721268156511536},\n",
       " 3247.611694909996)"
      ]
     },
     "metadata": {},
     "output_type": "display_data"
    },
    {
     "name": "stdout",
     "output_type": "stream",
     "text": [
      "ADF test za prosjek temperature:\n"
     ]
    },
    {
     "data": {
      "text/plain": [
       "(-1.606021020827442,\n",
       " 0.48056827797402685,\n",
       " 13,\n",
       " 290,\n",
       " {'1%': -3.453102162983312,\n",
       "  '5%': -2.871558538275452,\n",
       "  '10%': -2.5721082282996433},\n",
       " 1113.4520704232898)"
      ]
     },
     "metadata": {},
     "output_type": "display_data"
    }
   ],
   "source": [
    "from statsmodels.tsa.stattools import adfuller\n",
    "\n",
    "print('ADF test za potrošnju:')\n",
    "display(adfuller(df_concat['Potrošnja']))\n",
    "\n",
    "print('ADF test za prosjek temperature:')\n",
    "display(adfuller(df_concat['HR_temperatura']))"
   ]
  },
  {
   "cell_type": "markdown",
   "id": "c06a029a",
   "metadata": {},
   "source": [
    "Kao što vidimo, p value debelo je iznad 0.05, što znači da ne možemo odbaciti NULL hipotezu."
   ]
  },
  {
   "cell_type": "markdown",
   "id": "56db2492",
   "metadata": {},
   "source": [
    "#### KPSS (Kwiatkowski-Phillips-Schmidt-Shin) test"
   ]
  },
  {
   "cell_type": "markdown",
   "id": "d738dfaa",
   "metadata": {},
   "source": [
    "Provodim KPSS (Kwiatkowski-Phillips-Schmidt-Shin) test koji postavlja suprotne hipoteze od ADF testa, tj.\n",
    "\n",
    "* Null hipoteza ($H_0$): Vremenski nizovi su trend-stacionarni i ne postoji unit root\n",
    "* Alternativna hipoteza ($H_1$): Vremenski nizovi su ne-stacionarni ili postoji unit root\n",
    "    \n",
    "Provodim KPSS test:"
   ]
  },
  {
   "cell_type": "code",
   "execution_count": 56,
   "id": "2960c77e",
   "metadata": {},
   "outputs": [
    {
     "name": "stdout",
     "output_type": "stream",
     "text": [
      "KPSS test za potrošnju:\n"
     ]
    },
    {
     "name": "stderr",
     "output_type": "stream",
     "text": [
      "/home/silvio/.local/lib/python3.8/site-packages/statsmodels/tsa/stattools.py:2022: InterpolationWarning: The test statistic is outside of the range of p-values available in the\n",
      "look-up table. The actual p-value is greater than the p-value returned.\n",
      "\n",
      "  warnings.warn(\n"
     ]
    },
    {
     "data": {
      "text/plain": [
       "(0.3221474207809318,\n",
       " 0.1,\n",
       " 9,\n",
       " {'10%': 0.347, '5%': 0.463, '2.5%': 0.574, '1%': 0.739})"
      ]
     },
     "metadata": {},
     "output_type": "display_data"
    },
    {
     "name": "stdout",
     "output_type": "stream",
     "text": [
      "KPSS test za prosjek temperature:\n"
     ]
    },
    {
     "name": "stderr",
     "output_type": "stream",
     "text": [
      "/home/silvio/.local/lib/python3.8/site-packages/statsmodels/tsa/stattools.py:2018: InterpolationWarning: The test statistic is outside of the range of p-values available in the\n",
      "look-up table. The actual p-value is smaller than the p-value returned.\n",
      "\n",
      "  warnings.warn(\n"
     ]
    },
    {
     "data": {
      "text/plain": [
       "(1.8194911817847088,\n",
       " 0.01,\n",
       " 10,\n",
       " {'10%': 0.347, '5%': 0.463, '2.5%': 0.574, '1%': 0.739})"
      ]
     },
     "metadata": {},
     "output_type": "display_data"
    }
   ],
   "source": [
    "from statsmodels.tsa.stattools import kpss\n",
    "\n",
    "print('KPSS test za potrošnju:')\n",
    "display(kpss(df_concat['Potrošnja']))\n",
    "\n",
    "print('KPSS test za prosjek temperature:')\n",
    "display(kpss(df_concat['HR_temperatura']))"
   ]
  },
  {
   "cell_type": "markdown",
   "id": "07012264",
   "metadata": {},
   "source": [
    "Kao što vidimo, KPSS testom odbacujemo Null hipotezu i možemo zaključiti da su vremenski nizovi ne-stacionarni ili postoji unit root.\n",
    "\n",
    "Budući da su i ADF i KPSS test potvrdili da vremenski nizovi nisu stacionarni, radimo diferencijaciju i provjeravamo prolaze li zatim vremenski nizovi ADF i KPSS testove."
   ]
  },
  {
   "cell_type": "markdown",
   "id": "55d1d1f6",
   "metadata": {},
   "source": [
    "**Napomena**: Diferenciranje vremenskih serija potrebno je ovisno o tome koji se modeli predviđanja koriste. Porodica ARIMA modela rade diferenciranje umjesto nas, stoga sljedeći dio koda nije potrebno pokretati budući da se u predikciji koristi SARIMAX model. Ukoliko se koristi *PyCaret* library (što je prvotno bilo zamišljeno), potrebno je diferencirati vremenske serije te pokrenuti treniranje na takvim podacima."
   ]
  },
  {
   "cell_type": "raw",
   "id": "0b47d795",
   "metadata": {},
   "source": [
    "df_concat['Potrošnja'] = df_concat['Potrošnja'].diff(periods=2)\n",
    "df_concat['HR_temperatura'] = df_concat['HR_temperatura'].diff(periods=2)"
   ]
  },
  {
   "cell_type": "raw",
   "id": "68fea1d7",
   "metadata": {},
   "source": [
    "df_concat = df_concat.dropna()"
   ]
  },
  {
   "cell_type": "raw",
   "id": "2368dc7a",
   "metadata": {
    "scrolled": false
   },
   "source": [
    "print('ADF test za potrošnju:')\n",
    "display(adfuller(df_concat['Potrošnja']))\n",
    "\n",
    "print('ADF test za prosjek temperature:')\n",
    "display(adfuller(df_concat['HR_temperatura']))\n",
    "\n",
    "print('KPSS test za potrošnju:')\n",
    "display(kpss(df_concat['Potrošnja']))\n",
    "\n",
    "print('KPSS test za prosjek temperature:')\n",
    "display(kpss(df_concat['HR_temperatura']))"
   ]
  },
  {
   "cell_type": "markdown",
   "id": "66cba56f",
   "metadata": {},
   "source": [
    "Kao što vidimo, nakon diferencijacije, i ADF i KPSS testovi pokazuju kako su vremenski nizovi stacionarni."
   ]
  },
  {
   "cell_type": "markdown",
   "id": "13ab2f83",
   "metadata": {},
   "source": [
    "### Granger-Causality Test"
   ]
  },
  {
   "cell_type": "markdown",
   "id": "7c6c6399",
   "metadata": {},
   "source": [
    "Budući da je naš zadatak predviđanje potrošnje energije na temelju dane temperature, prvo provodimo 'Grangerov Test Kauzalnosti' kako bi vidjeli postoji li poveznica između vrijednosti temperature i potrošnje energije.\n",
    "\n",
    "Grangerov test postavlja hipoteze:\n",
    "* Null hipoteza ($H_0$): vremenski niz x (temperatura) nema utjecaja na vremenski niz y (potrošnja)\n",
    "* Alternativna hipoteza ($H_1$): vremenski niz x (temperatura) ima utjecaja na vremenski niz y (potrošnja)"
   ]
  },
  {
   "cell_type": "markdown",
   "id": "7716d8bd",
   "metadata": {},
   "source": [
    "**Napomena**: U godišnjem izvješću HERA-e (Hrvatska energetska regulatorna agencija)[2] navedeno je kako je 37.6% električne energije prodano kućanstvima, dok je ostatak prodan poduzetnicima. \n",
    "\n",
    "Budući da se \"*maksimalno opterećenje prijenosnog sustava događa se u ljetnim mjesecima zbog relativno blagih zima i pojačane potrošnje ljeti (klima uređaji).*\" (izvješće [2], strana 6), očekujemo da će se vidjeti kauzalnost temperature i potrošnje tijekom ljetnih mjeseci, a manje tijekom zimskih, tj. temperatura je bolji indikator potrošnje tijekom ljetnih nego zimskih mjeseci. Zato provodimo *Granger-Causality Test* na samo određenom vremenskom periodu, a ne na cijelim podacima."
   ]
  },
  {
   "cell_type": "code",
   "execution_count": 77,
   "id": "5ac2548d",
   "metadata": {},
   "outputs": [
    {
     "name": "stdout",
     "output_type": "stream",
     "text": [
      "\n",
      "Granger Causality\n",
      "number of lags (no zero) 1\n",
      "ssr based F test:         F=18.6473 , p=0.0000  , df_denom=91, df_num=1\n",
      "ssr based chi2 test:   chi2=19.2620 , p=0.0000  , df=1\n",
      "likelihood ratio test: chi2=17.5225 , p=0.0000  , df=1\n",
      "parameter F test:         F=18.6473 , p=0.0000  , df_denom=91, df_num=1\n",
      "\n",
      "Granger Causality\n",
      "number of lags (no zero) 2\n",
      "ssr based F test:         F=5.1356  , p=0.0078  , df_denom=88, df_num=2\n",
      "ssr based chi2 test:   chi2=10.8549 , p=0.0044  , df=2\n",
      "likelihood ratio test: chi2=10.2667 , p=0.0059  , df=2\n",
      "parameter F test:         F=5.1356  , p=0.0078  , df_denom=88, df_num=2\n",
      "\n",
      "Granger Causality\n",
      "number of lags (no zero) 3\n",
      "ssr based F test:         F=5.3602  , p=0.0020  , df_denom=85, df_num=3\n",
      "ssr based chi2 test:   chi2=17.4050 , p=0.0006  , df=3\n",
      "likelihood ratio test: chi2=15.9406 , p=0.0012  , df=3\n",
      "parameter F test:         F=5.3602  , p=0.0020  , df_denom=85, df_num=3\n",
      "\n",
      "Granger Causality\n",
      "number of lags (no zero) 4\n",
      "ssr based F test:         F=7.0329  , p=0.0001  , df_denom=82, df_num=4\n",
      "ssr based chi2 test:   chi2=31.2190 , p=0.0000  , df=4\n",
      "likelihood ratio test: chi2=26.8409 , p=0.0000  , df=4\n",
      "parameter F test:         F=7.0329  , p=0.0001  , df_denom=82, df_num=4\n",
      "\n",
      "Granger Causality\n",
      "number of lags (no zero) 5\n",
      "ssr based F test:         F=9.6615  , p=0.0000  , df_denom=79, df_num=5\n",
      "ssr based chi2 test:   chi2=55.0340 , p=0.0000  , df=5\n",
      "likelihood ratio test: chi2=42.9442 , p=0.0000  , df=5\n",
      "parameter F test:         F=9.6615  , p=0.0000  , df_denom=79, df_num=5\n",
      "\n",
      "Granger Causality\n",
      "number of lags (no zero) 6\n",
      "ssr based F test:         F=8.1692  , p=0.0000  , df_denom=76, df_num=6\n",
      "ssr based chi2 test:   chi2=57.3991 , p=0.0000  , df=6\n",
      "likelihood ratio test: chi2=44.2953 , p=0.0000  , df=6\n",
      "parameter F test:         F=8.1692  , p=0.0000  , df_denom=76, df_num=6\n",
      "\n",
      "Granger Causality\n",
      "number of lags (no zero) 7\n",
      "ssr based F test:         F=8.8180  , p=0.0000  , df_denom=73, df_num=7\n",
      "ssr based chi2 test:   chi2=74.4093 , p=0.0000  , df=7\n",
      "likelihood ratio test: chi2=53.9249 , p=0.0000  , df=7\n",
      "parameter F test:         F=8.8180  , p=0.0000  , df_denom=73, df_num=7\n",
      "\n",
      "Granger Causality\n",
      "number of lags (no zero) 8\n",
      "ssr based F test:         F=9.1561  , p=0.0000  , df_denom=70, df_num=8\n",
      "ssr based chi2 test:   chi2=91.0374 , p=0.0000  , df=8\n",
      "likelihood ratio test: chi2=62.2994 , p=0.0000  , df=8\n",
      "parameter F test:         F=9.1561  , p=0.0000  , df_denom=70, df_num=8\n",
      "\n",
      "Granger Causality\n",
      "number of lags (no zero) 9\n",
      "ssr based F test:         F=8.4750  , p=0.0000  , df_denom=67, df_num=9\n",
      "ssr based chi2 test:   chi2=97.9056 , p=0.0000  , df=9\n",
      "likelihood ratio test: chi2=65.3665 , p=0.0000  , df=9\n",
      "parameter F test:         F=8.4750  , p=0.0000  , df_denom=67, df_num=9\n",
      "\n",
      "Granger Causality\n",
      "number of lags (no zero) 10\n",
      "ssr based F test:         F=6.9006  , p=0.0000  , df_denom=64, df_num=10\n",
      "ssr based chi2 test:   chi2=91.6492 , p=0.0000  , df=10\n",
      "likelihood ratio test: chi2=62.1787 , p=0.0000  , df=10\n",
      "parameter F test:         F=6.9006  , p=0.0000  , df_denom=64, df_num=10\n",
      "\n",
      "Granger Causality\n",
      "number of lags (no zero) 11\n",
      "ssr based F test:         F=5.1299  , p=0.0000  , df_denom=61, df_num=11\n",
      "ssr based chi2 test:   chi2=77.7061 , p=0.0000  , df=11\n",
      "likelihood ratio test: chi2=55.0169 , p=0.0000  , df=11\n",
      "parameter F test:         F=5.1299  , p=0.0000  , df_denom=61, df_num=11\n",
      "\n",
      "Granger Causality\n",
      "number of lags (no zero) 12\n",
      "ssr based F test:         F=4.3726  , p=0.0001  , df_denom=58, df_num=12\n",
      "ssr based chi2 test:   chi2=75.0879 , p=0.0000  , df=12\n",
      "likelihood ratio test: chi2=53.4778 , p=0.0000  , df=12\n",
      "parameter F test:         F=4.3726  , p=0.0001  , df_denom=58, df_num=12\n",
      "\n",
      "Granger Causality\n",
      "number of lags (no zero) 13\n",
      "ssr based F test:         F=2.9071  , p=0.0029  , df_denom=55, df_num=13\n",
      "ssr based chi2 test:   chi2=56.3445 , p=0.0000  , df=13\n",
      "likelihood ratio test: chi2=42.8883 , p=0.0000  , df=13\n",
      "parameter F test:         F=2.9071  , p=0.0029  , df_denom=55, df_num=13\n",
      "\n",
      "Granger Causality\n",
      "number of lags (no zero) 14\n",
      "ssr based F test:         F=2.6842  , p=0.0050  , df_denom=52, df_num=14\n",
      "ssr based chi2 test:   chi2=58.5364 , p=0.0000  , df=14\n",
      "likelihood ratio test: chi2=44.0540 , p=0.0001  , df=14\n",
      "parameter F test:         F=2.6842  , p=0.0050  , df_denom=52, df_num=14\n",
      "\n",
      "Granger Causality\n",
      "number of lags (no zero) 15\n",
      "ssr based F test:         F=2.8744  , p=0.0027  , df_denom=49, df_num=15\n",
      "ssr based chi2 test:   chi2=70.3932 , p=0.0000  , df=15\n",
      "likelihood ratio test: chi2=50.4981 , p=0.0000  , df=15\n",
      "parameter F test:         F=2.8744  , p=0.0027  , df_denom=49, df_num=15\n",
      "\n",
      "Granger Causality\n",
      "number of lags (no zero) 16\n",
      "ssr based F test:         F=2.3705  , p=0.0115  , df_denom=46, df_num=16\n",
      "ssr based chi2 test:   chi2=65.1379 , p=0.0000  , df=16\n",
      "likelihood ratio test: chi2=47.5045 , p=0.0001  , df=16\n",
      "parameter F test:         F=2.3705  , p=0.0115  , df_denom=46, df_num=16\n",
      "\n",
      "Granger Causality\n",
      "number of lags (no zero) 17\n",
      "ssr based F test:         F=2.4502  , p=0.0090  , df_denom=43, df_num=17\n",
      "ssr based chi2 test:   chi2=75.5576 , p=0.0000  , df=17\n",
      "likelihood ratio test: chi2=52.8346 , p=0.0000  , df=17\n",
      "parameter F test:         F=2.4502  , p=0.0090  , df_denom=43, df_num=17\n",
      "\n",
      "Granger Causality\n",
      "number of lags (no zero) 18\n",
      "ssr based F test:         F=2.1484  , p=0.0221  , df_denom=40, df_num=18\n",
      "ssr based chi2 test:   chi2=74.4436 , p=0.0000  , df=18\n",
      "likelihood ratio test: chi2=52.0834 , p=0.0000  , df=18\n",
      "parameter F test:         F=2.1484  , p=0.0221  , df_denom=40, df_num=18\n",
      "\n",
      "Granger Causality\n",
      "number of lags (no zero) 19\n",
      "ssr based F test:         F=1.9292  , p=0.0428  , df_denom=37, df_num=19\n",
      "ssr based chi2 test:   chi2=75.2904 , p=0.0000  , df=19\n",
      "likelihood ratio test: chi2=52.3236 , p=0.0001  , df=19\n",
      "parameter F test:         F=1.9292  , p=0.0428  , df_denom=37, df_num=19\n",
      "\n",
      "Granger Causality\n",
      "number of lags (no zero) 20\n",
      "ssr based F test:         F=1.9978  , p=0.0367  , df_denom=34, df_num=20\n",
      "ssr based chi2 test:   chi2=88.1390 , p=0.0000  , df=20\n",
      "likelihood ratio test: chi2=58.2836 , p=0.0000  , df=20\n",
      "parameter F test:         F=1.9978  , p=0.0367  , df_denom=34, df_num=20\n"
     ]
    }
   ],
   "source": [
    "from statsmodels.tsa.stattools import grangercausalitytests\n",
    "\n",
    "granger_result = grangercausalitytests(df_concat[['Potrošnja', 'HR_temperatura']].loc['2021-06-21':'2021-09-23'], maxlag=20)"
   ]
  },
  {
   "cell_type": "markdown",
   "id": "9fd529a3",
   "metadata": {},
   "source": [
    "Kao što se vidi iz rezultata, Grangerov test vraća p<0.05 za različite testove. To zapravo znači da možemo odbaciti NULL hipotezu (da temperatura nema utjecaja na potrošnju energije), i zaključiti alternativnu hipotezu, tj. da temperatura ima utjecaja na potrošnju energije. \n",
    "\n",
    "Zanimljivo je da je vrijednost p<0.05 za prvih >20 lagova, što zapravo znači da postoji kauzalnost između dana mjerenja temperature i povezati temperaturu i sljedećih 20+ dana potrošnje energije. Moguće da je razlog to što se temperatura ne mijenja iznenadno te tijekom dužeg perioda (godišnja doba) ima približno istu vrijednost.  \n",
    "\n",
    "Za sanity-check, provodim i Grangerov test da vidim postoji li kauzalnost potrošnje energije na temperaturu:"
   ]
  },
  {
   "cell_type": "code",
   "execution_count": 78,
   "id": "9bacd8b4",
   "metadata": {},
   "outputs": [
    {
     "name": "stdout",
     "output_type": "stream",
     "text": [
      "\n",
      "Granger Causality\n",
      "number of lags (no zero) 1\n",
      "ssr based F test:         F=7.9687  , p=0.0058  , df_denom=91, df_num=1\n",
      "ssr based chi2 test:   chi2=8.2314  , p=0.0041  , df=1\n",
      "likelihood ratio test: chi2=7.8908  , p=0.0050  , df=1\n",
      "parameter F test:         F=7.9687  , p=0.0058  , df_denom=91, df_num=1\n",
      "\n",
      "Granger Causality\n",
      "number of lags (no zero) 2\n",
      "ssr based F test:         F=0.4553  , p=0.6358  , df_denom=88, df_num=2\n",
      "ssr based chi2 test:   chi2=0.9623  , p=0.6181  , df=2\n",
      "likelihood ratio test: chi2=0.9573  , p=0.6196  , df=2\n",
      "parameter F test:         F=0.4553  , p=0.6358  , df_denom=88, df_num=2\n",
      "\n",
      "Granger Causality\n",
      "number of lags (no zero) 3\n",
      "ssr based F test:         F=0.6482  , p=0.5862  , df_denom=85, df_num=3\n",
      "ssr based chi2 test:   chi2=2.1048  , p=0.5509  , df=3\n",
      "likelihood ratio test: chi2=2.0811  , p=0.5557  , df=3\n",
      "parameter F test:         F=0.6482  , p=0.5862  , df_denom=85, df_num=3\n",
      "\n",
      "Granger Causality\n",
      "number of lags (no zero) 4\n",
      "ssr based F test:         F=0.3541  , p=0.8405  , df_denom=82, df_num=4\n",
      "ssr based chi2 test:   chi2=1.5717  , p=0.8139  , df=4\n",
      "likelihood ratio test: chi2=1.5583  , p=0.8163  , df=4\n",
      "parameter F test:         F=0.3541  , p=0.8405  , df_denom=82, df_num=4\n",
      "\n",
      "Granger Causality\n",
      "number of lags (no zero) 5\n",
      "ssr based F test:         F=0.5248  , p=0.7568  , df_denom=79, df_num=5\n",
      "ssr based chi2 test:   chi2=2.9891  , p=0.7017  , df=5\n",
      "likelihood ratio test: chi2=2.9406  , p=0.7091  , df=5\n",
      "parameter F test:         F=0.5248  , p=0.7568  , df_denom=79, df_num=5\n",
      "\n",
      "Granger Causality\n",
      "number of lags (no zero) 6\n",
      "ssr based F test:         F=0.7282  , p=0.6283  , df_denom=76, df_num=6\n",
      "ssr based chi2 test:   chi2=5.1164  , p=0.5290  , df=6\n",
      "likelihood ratio test: chi2=4.9748  , p=0.5471  , df=6\n",
      "parameter F test:         F=0.7282  , p=0.6283  , df_denom=76, df_num=6\n",
      "\n",
      "Granger Causality\n",
      "number of lags (no zero) 7\n",
      "ssr based F test:         F=0.7672  , p=0.6165  , df_denom=73, df_num=7\n",
      "ssr based chi2 test:   chi2=6.4741  , p=0.4856  , df=7\n",
      "likelihood ratio test: chi2=6.2470  , p=0.5112  , df=7\n",
      "parameter F test:         F=0.7672  , p=0.6165  , df_denom=73, df_num=7\n",
      "\n",
      "Granger Causality\n",
      "number of lags (no zero) 8\n",
      "ssr based F test:         F=0.6797  , p=0.7078  , df_denom=70, df_num=8\n",
      "ssr based chi2 test:   chi2=6.7583  , p=0.5629  , df=8\n",
      "likelihood ratio test: chi2=6.5086  , p=0.5905  , df=8\n",
      "parameter F test:         F=0.6797  , p=0.7078  , df_denom=70, df_num=8\n",
      "\n",
      "Granger Causality\n",
      "number of lags (no zero) 9\n",
      "ssr based F test:         F=0.9793  , p=0.4651  , df_denom=67, df_num=9\n",
      "ssr based chi2 test:   chi2=11.3136 , p=0.2548  , df=9\n",
      "likelihood ratio test: chi2=10.6289 , p=0.3020  , df=9\n",
      "parameter F test:         F=0.9793  , p=0.4651  , df_denom=67, df_num=9\n",
      "\n",
      "Granger Causality\n",
      "number of lags (no zero) 10\n",
      "ssr based F test:         F=0.5499  , p=0.8479  , df_denom=64, df_num=10\n",
      "ssr based chi2 test:   chi2=7.3029  , p=0.6966  , df=10\n",
      "likelihood ratio test: chi2=7.0061  , p=0.7249  , df=10\n",
      "parameter F test:         F=0.5499  , p=0.8479  , df_denom=64, df_num=10\n",
      "\n",
      "Granger Causality\n",
      "number of lags (no zero) 11\n",
      "ssr based F test:         F=0.5363  , p=0.8709  , df_denom=61, df_num=11\n",
      "ssr based chi2 test:   chi2=8.1239  , p=0.7022  , df=11\n",
      "likelihood ratio test: chi2=7.7547  , p=0.7351  , df=11\n",
      "parameter F test:         F=0.5363  , p=0.8709  , df_denom=61, df_num=11\n",
      "\n",
      "Granger Causality\n",
      "number of lags (no zero) 12\n",
      "ssr based F test:         F=0.9789  , p=0.4794  , df_denom=58, df_num=12\n",
      "ssr based chi2 test:   chi2=16.8094 , p=0.1569  , df=12\n",
      "likelihood ratio test: chi2=15.3070 , p=0.2251  , df=12\n",
      "parameter F test:         F=0.9789  , p=0.4794  , df_denom=58, df_num=12\n",
      "\n",
      "Granger Causality\n",
      "number of lags (no zero) 13\n",
      "ssr based F test:         F=1.0371  , p=0.4312  , df_denom=55, df_num=13\n",
      "ssr based chi2 test:   chi2=20.1002 , p=0.0927  , df=13\n",
      "likelihood ratio test: chi2=17.9773 , p=0.1584  , df=13\n",
      "parameter F test:         F=1.0371  , p=0.4312  , df_denom=55, df_num=13\n",
      "\n",
      "Granger Causality\n",
      "number of lags (no zero) 14\n",
      "ssr based F test:         F=1.0093  , p=0.4587  , df_denom=52, df_num=14\n",
      "ssr based chi2 test:   chi2=22.0096 , p=0.0784  , df=14\n",
      "likelihood ratio test: chi2=19.4702 , p=0.1477  , df=14\n",
      "parameter F test:         F=1.0093  , p=0.4587  , df_denom=52, df_num=14\n",
      "\n",
      "Granger Causality\n",
      "number of lags (no zero) 15\n",
      "ssr based F test:         F=1.0757  , p=0.4018  , df_denom=49, df_num=15\n",
      "ssr based chi2 test:   chi2=26.3442 , p=0.0346  , df=15\n",
      "likelihood ratio test: chi2=22.7724 , p=0.0891  , df=15\n",
      "parameter F test:         F=1.0757  , p=0.4018  , df_denom=49, df_num=15\n",
      "\n",
      "Granger Causality\n",
      "number of lags (no zero) 16\n",
      "ssr based F test:         F=0.8477  , p=0.6281  , df_denom=46, df_num=16\n",
      "ssr based chi2 test:   chi2=23.2938 , p=0.1061  , df=16\n",
      "likelihood ratio test: chi2=20.4137 , p=0.2022  , df=16\n",
      "parameter F test:         F=0.8477  , p=0.6281  , df_denom=46, df_num=16\n",
      "\n",
      "Granger Causality\n",
      "number of lags (no zero) 17\n",
      "ssr based F test:         F=0.7070  , p=0.7784  , df_denom=43, df_num=17\n",
      "ssr based chi2 test:   chi2=21.8027 , p=0.1924  , df=17\n",
      "likelihood ratio test: chi2=19.2260 , p=0.3157  , df=17\n",
      "parameter F test:         F=0.7070  , p=0.7784  , df_denom=43, df_num=17\n",
      "\n",
      "Granger Causality\n",
      "number of lags (no zero) 18\n",
      "ssr based F test:         F=0.6273  , p=0.8562  , df_denom=40, df_num=18\n",
      "ssr based chi2 test:   chi2=21.7360 , p=0.2439  , df=18\n",
      "likelihood ratio test: chi2=19.1456 , p=0.3829  , df=18\n",
      "parameter F test:         F=0.6273  , p=0.8562  , df_denom=40, df_num=18\n",
      "\n",
      "Granger Causality\n",
      "number of lags (no zero) 19\n",
      "ssr based F test:         F=0.5741  , p=0.9011  , df_denom=37, df_num=19\n",
      "ssr based chi2 test:   chi2=22.4053 , p=0.2646  , df=19\n",
      "likelihood ratio test: chi2=19.6355 , p=0.4168  , df=19\n",
      "parameter F test:         F=0.5741  , p=0.9011  , df_denom=37, df_num=19\n",
      "\n",
      "Granger Causality\n",
      "number of lags (no zero) 20\n",
      "ssr based F test:         F=0.5797  , p=0.9002  , df_denom=34, df_num=20\n",
      "ssr based chi2 test:   chi2=25.5732 , p=0.1804  , df=20\n",
      "likelihood ratio test: chi2=22.0048 , p=0.3402  , df=20\n",
      "parameter F test:         F=0.5797  , p=0.9002  , df_denom=34, df_num=20\n"
     ]
    }
   ],
   "source": [
    "granger_result = grangercausalitytests(df_concat[['HR_temperatura', 'Potrošnja']].loc['2021-06-21':'2021-09-23'], maxlag=20)"
   ]
  },
  {
   "cell_type": "markdown",
   "id": "6106767d",
   "metadata": {},
   "source": [
    "Kao što vidimo, ne postoji utjecaj potrošnje na prosjek temperature."
   ]
  },
  {
   "cell_type": "markdown",
   "id": "41857faa",
   "metadata": {},
   "source": [
    "### Treniranje modela"
   ]
  },
  {
   "cell_type": "markdown",
   "id": "9ac95b21",
   "metadata": {},
   "source": [
    "**Napomena:** Sljedeći kod također je zamišljen ukoliko bi se koristio prethodno opisan *PyCaret* library. Budući da to ovdje nije slučaj već se koristi SARIMAX model, sljedeći dio koda je zakomentiran te je moguće po potrebi odkomentirati."
   ]
  },
  {
   "cell_type": "code",
   "execution_count": 84,
   "id": "bfe5062d",
   "metadata": {},
   "outputs": [
    {
     "name": "stderr",
     "output_type": "stream",
     "text": [
      "/tmp/ipykernel_42725/901598598.py:7: SettingWithCopyWarning: \n",
      "A value is trying to be set on a copy of a slice from a DataFrame.\n",
      "Try using .loc[row_indexer,col_indexer] = value instead\n",
      "\n",
      "See the caveats in the documentation: https://pandas.pydata.org/pandas-docs/stable/user_guide/indexing.html#returning-a-view-versus-a-copy\n",
      "  test['Forecast'] = 0\n"
     ]
    },
    {
     "data": {
      "text/plain": [
       "((241, 2), (60, 3))"
      ]
     },
     "execution_count": 84,
     "metadata": {},
     "output_type": "execute_result"
    }
   ],
   "source": [
    "# Split data into train - test\n",
    "train = df_concat[df_concat.index < '2021-09-01']\n",
    "test = df_concat[df_concat.index > '2021-09-01']\n",
    "\n",
    "# Set the values of test of Potrošnja to zero\n",
    "test['Potrošnja'].values[:] = 0\n",
    "test['Forecast'] = 0\n",
    "\n",
    "# Check shape\n",
    "train.shape, test.shape"
   ]
  },
  {
   "cell_type": "markdown",
   "id": "1df3f32b",
   "metadata": {},
   "source": [
    "### SARIMAX model"
   ]
  },
  {
   "cell_type": "markdown",
   "id": "7b7e459a",
   "metadata": {},
   "source": [
    "Dekompozicijom potrošnje električne energije može se vidjeti sezonalnost i trend"
   ]
  },
  {
   "cell_type": "code",
   "execution_count": 85,
   "id": "faa5618e",
   "metadata": {},
   "outputs": [
    {
     "data": {
      "image/png": "[encoded data removed]",
      "text/plain": [
       "<Figure size 432x288 with 4 Axes>"
      ]
     },
     "metadata": {
      "needs_background": "light"
     },
     "output_type": "display_data"
    }
   ],
   "source": [
    "from statsmodels.tsa.seasonal import seasonal_decompose\n",
    "\n",
    "# Decomposing the time series\n",
    "decompose_data = seasonal_decompose(df_concat.Potrošnja, model=\"additive\")\n",
    "decompose_data.plot();"
   ]
  },
  {
   "cell_type": "code",
   "execution_count": 86,
   "id": "84eaf9ff",
   "metadata": {},
   "outputs": [
    {
     "name": "stdout",
     "output_type": "stream",
     "text": [
      "Performing stepwise search to minimize aic\n",
      " ARIMA(2,0,2)(0,0,0)[0] intercept   : AIC=inf, Time=0.18 sec\n",
      " ARIMA(0,0,0)(0,0,0)[0] intercept   : AIC=3969.597, Time=0.01 sec\n",
      " ARIMA(1,0,0)(0,0,0)[0] intercept   : AIC=3928.975, Time=0.04 sec\n",
      " ARIMA(0,0,1)(0,0,0)[0] intercept   : AIC=inf, Time=0.04 sec\n",
      " ARIMA(0,0,0)(0,0,0)[0]             : AIC=3967.598, Time=0.00 sec\n",
      " ARIMA(2,0,0)(0,0,0)[0] intercept   : AIC=3831.220, Time=0.02 sec\n",
      " ARIMA(3,0,0)(0,0,0)[0] intercept   : AIC=3825.404, Time=0.03 sec\n",
      " ARIMA(4,0,0)(0,0,0)[0] intercept   : AIC=3702.354, Time=0.05 sec\n",
      " ARIMA(5,0,0)(0,0,0)[0] intercept   : AIC=3703.430, Time=0.15 sec\n",
      " ARIMA(4,0,1)(0,0,0)[0] intercept   : AIC=3703.949, Time=0.20 sec\n",
      " ARIMA(3,0,1)(0,0,0)[0] intercept   : AIC=inf, Time=0.14 sec\n",
      " ARIMA(5,0,1)(0,0,0)[0] intercept   : AIC=3701.194, Time=0.26 sec\n",
      " ARIMA(5,0,2)(0,0,0)[0] intercept   : AIC=3612.565, Time=0.44 sec\n",
      " ARIMA(4,0,2)(0,0,0)[0] intercept   : AIC=3627.157, Time=0.36 sec\n",
      " ARIMA(5,0,3)(0,0,0)[0] intercept   : AIC=3641.043, Time=0.46 sec\n",
      " ARIMA(4,0,3)(0,0,0)[0] intercept   : AIC=inf, Time=0.42 sec\n",
      " ARIMA(5,0,2)(0,0,0)[0]             : AIC=3614.112, Time=0.33 sec\n",
      "\n",
      "Best model:  ARIMA(5,0,2)(0,0,0)[0] intercept\n",
      "Total fit time: 3.152 seconds\n"
     ]
    },
    {
     "data": {
      "text/html": [
       "<table class=\"simpletable\">\n",
       "<caption>SARIMAX Results</caption>\n",
       "<tr>\n",
       "  <th>Dep. Variable:</th>           <td>y</td>        <th>  No. Observations:  </th>    <td>302</td>   \n",
       "</tr>\n",
       "<tr>\n",
       "  <th>Model:</th>           <td>SARIMAX(5, 0, 2)</td> <th>  Log Likelihood     </th> <td>-1797.282</td>\n",
       "</tr>\n",
       "<tr>\n",
       "  <th>Date:</th>            <td>Wed, 15 Jun 2022</td> <th>  AIC                </th> <td>3612.565</td> \n",
       "</tr>\n",
       "<tr>\n",
       "  <th>Time:</th>                <td>12:13:16</td>     <th>  BIC                </th> <td>3645.958</td> \n",
       "</tr>\n",
       "<tr>\n",
       "  <th>Sample:</th>                  <td>0</td>        <th>  HQIC               </th> <td>3625.926</td> \n",
       "</tr>\n",
       "<tr>\n",
       "  <th></th>                      <td> - 302</td>      <th>                     </th>     <td> </td>    \n",
       "</tr>\n",
       "<tr>\n",
       "  <th>Covariance Type:</th>        <td>opg</td>       <th>                     </th>     <td> </td>    \n",
       "</tr>\n",
       "</table>\n",
       "<table class=\"simpletable\">\n",
       "<tr>\n",
       "      <td></td>         <th>coef</th>     <th>std err</th>      <th>z</th>      <th>P>|z|</th>  <th>[0.025</th>    <th>0.975]</th>  \n",
       "</tr>\n",
       "<tr>\n",
       "  <th>intercept</th> <td>   -0.9719</td> <td>   13.893</td> <td>   -0.070</td> <td> 0.944</td> <td>  -28.201</td> <td>   26.257</td>\n",
       "</tr>\n",
       "<tr>\n",
       "  <th>ar.L1</th>     <td>    0.3036</td> <td>    0.052</td> <td>    5.812</td> <td> 0.000</td> <td>    0.201</td> <td>    0.406</td>\n",
       "</tr>\n",
       "<tr>\n",
       "  <th>ar.L2</th>     <td>   -1.0554</td> <td>    0.049</td> <td>  -21.634</td> <td> 0.000</td> <td>   -1.151</td> <td>   -0.960</td>\n",
       "</tr>\n",
       "<tr>\n",
       "  <th>ar.L3</th>     <td>    0.3165</td> <td>    0.074</td> <td>    4.274</td> <td> 0.000</td> <td>    0.171</td> <td>    0.462</td>\n",
       "</tr>\n",
       "<tr>\n",
       "  <th>ar.L4</th>     <td>   -0.5029</td> <td>    0.050</td> <td>  -10.029</td> <td> 0.000</td> <td>   -0.601</td> <td>   -0.405</td>\n",
       "</tr>\n",
       "<tr>\n",
       "  <th>ar.L5</th>     <td>   -0.2582</td> <td>    0.059</td> <td>   -4.408</td> <td> 0.000</td> <td>   -0.373</td> <td>   -0.143</td>\n",
       "</tr>\n",
       "<tr>\n",
       "  <th>ma.L1</th>     <td>    0.4427</td> <td>    0.026</td> <td>   17.028</td> <td> 0.000</td> <td>    0.392</td> <td>    0.494</td>\n",
       "</tr>\n",
       "<tr>\n",
       "  <th>ma.L2</th>     <td>    0.9521</td> <td>    0.026</td> <td>   37.094</td> <td> 0.000</td> <td>    0.902</td> <td>    1.002</td>\n",
       "</tr>\n",
       "<tr>\n",
       "  <th>sigma2</th>    <td> 8941.9047</td> <td>  571.883</td> <td>   15.636</td> <td> 0.000</td> <td> 7821.035</td> <td> 1.01e+04</td>\n",
       "</tr>\n",
       "</table>\n",
       "<table class=\"simpletable\">\n",
       "<tr>\n",
       "  <th>Ljung-Box (L1) (Q):</th>     <td>0.01</td> <th>  Jarque-Bera (JB):  </th> <td>125.33</td>\n",
       "</tr>\n",
       "<tr>\n",
       "  <th>Prob(Q):</th>                <td>0.93</td> <th>  Prob(JB):          </th>  <td>0.00</td> \n",
       "</tr>\n",
       "<tr>\n",
       "  <th>Heteroskedasticity (H):</th> <td>0.53</td> <th>  Skew:              </th>  <td>0.42</td> \n",
       "</tr>\n",
       "<tr>\n",
       "  <th>Prob(H) (two-sided):</th>    <td>0.00</td> <th>  Kurtosis:          </th>  <td>6.04</td> \n",
       "</tr>\n",
       "</table><br/><br/>Warnings:<br/>[1] Covariance matrix calculated using the outer product of gradients (complex-step)."
      ],
      "text/plain": [
       "<class 'statsmodels.iolib.summary.Summary'>\n",
       "\"\"\"\n",
       "                               SARIMAX Results                                \n",
       "==============================================================================\n",
       "Dep. Variable:                      y   No. Observations:                  302\n",
       "Model:               SARIMAX(5, 0, 2)   Log Likelihood               -1797.282\n",
       "Date:                Wed, 15 Jun 2022   AIC                           3612.565\n",
       "Time:                        12:13:16   BIC                           3645.958\n",
       "Sample:                             0   HQIC                          3625.926\n",
       "                                - 302                                         \n",
       "Covariance Type:                  opg                                         \n",
       "==============================================================================\n",
       "                 coef    std err          z      P>|z|      [0.025      0.975]\n",
       "------------------------------------------------------------------------------\n",
       "intercept     -0.9719     13.893     -0.070      0.944     -28.201      26.257\n",
       "ar.L1          0.3036      0.052      5.812      0.000       0.201       0.406\n",
       "ar.L2         -1.0554      0.049    -21.634      0.000      -1.151      -0.960\n",
       "ar.L3          0.3165      0.074      4.274      0.000       0.171       0.462\n",
       "ar.L4         -0.5029      0.050    -10.029      0.000      -0.601      -0.405\n",
       "ar.L5         -0.2582      0.059     -4.408      0.000      -0.373      -0.143\n",
       "ma.L1          0.4427      0.026     17.028      0.000       0.392       0.494\n",
       "ma.L2          0.9521      0.026     37.094      0.000       0.902       1.002\n",
       "sigma2      8941.9047    571.883     15.636      0.000    7821.035    1.01e+04\n",
       "===================================================================================\n",
       "Ljung-Box (L1) (Q):                   0.01   Jarque-Bera (JB):               125.33\n",
       "Prob(Q):                              0.93   Prob(JB):                         0.00\n",
       "Heteroskedasticity (H):               0.53   Skew:                             0.42\n",
       "Prob(H) (two-sided):                  0.00   Kurtosis:                         6.04\n",
       "===================================================================================\n",
       "\n",
       "Warnings:\n",
       "[1] Covariance matrix calculated using the outer product of gradients (complex-step).\n",
       "\"\"\""
      ]
     },
     "execution_count": 86,
     "metadata": {},
     "output_type": "execute_result"
    }
   ],
   "source": [
    "# Calculate best parameters for SARIMA model\n",
    "from pmdarima.arima import auto_arima\n",
    "\n",
    "auto_arima_result = auto_arima(y=df_concat['Potrošnja'], x=df_concat, trace=True, seasonal=True, information_criterion='aic')\n",
    "\n",
    "auto_arima_result.summary()"
   ]
  },
  {
   "cell_type": "code",
   "execution_count": 87,
   "id": "8e2b943b",
   "metadata": {},
   "outputs": [
    {
     "name": "stderr",
     "output_type": "stream",
     "text": [
      "/home/silvio/.local/lib/python3.8/site-packages/statsmodels/tsa/statespace/sarimax.py:978: UserWarning: Non-invertible starting MA parameters found. Using zeros as starting parameters.\n",
      "  warn('Non-invertible starting MA parameters found.'\n"
     ]
    }
   ],
   "source": [
    "import statsmodels.api as sm\n",
    "\n",
    "model=sm.tsa.statespace.SARIMAX(endog=df_concat['Potrošnja'], exog=df_concat['HR_temperatura'] , order=(1, 1, 2) ,seasonal_order=(0,1,0,7), freq='D')\n",
    "\n",
    "results=model.fit()"
   ]
  },
  {
   "cell_type": "code",
   "execution_count": 89,
   "id": "02a88b31",
   "metadata": {},
   "outputs": [
    {
     "name": "stderr",
     "output_type": "stream",
     "text": [
      "/home/silvio/.local/lib/python3.8/site-packages/pandas/core/indexing.py:1773: SettingWithCopyWarning: \n",
      "A value is trying to be set on a copy of a slice from a DataFrame.\n",
      "Try using .loc[row_indexer,col_indexer] = value instead\n",
      "\n",
      "See the caveats in the documentation: https://pandas.pydata.org/pandas-docs/stable/user_guide/indexing.html#returning-a-view-versus-a-copy\n",
      "  self._setitem_single_column(ilocs[0], value, pi)\n"
     ]
    },
    {
     "data": {
      "text/plain": [
       "<AxesSubplot:xlabel='Datetime'>"
      ]
     },
     "execution_count": 89,
     "metadata": {},
     "output_type": "execute_result"
    },
    {
     "data": {
      "image/png": "[encoded data removed]",
      "text/plain": [
       "<Figure size 432x288 with 1 Axes>"
      ]
     },
     "metadata": {
      "needs_background": "light"
     },
     "output_type": "display_data"
    }
   ],
   "source": [
    "test.loc[:, ('Potrošnja')] = results.predict(exog=test.loc[:, ('HR_temperatura')])\n",
    "df_concat['Potrošnja'].plot()\n",
    "test['Potrošnja'].plot()"
   ]
  },
  {
   "cell_type": "markdown",
   "id": "717a9273",
   "metadata": {},
   "source": [
    "Zaključak je da model možemo koristiti za predikcije"
   ]
  },
  {
   "cell_type": "markdown",
   "id": "85184616",
   "metadata": {},
   "source": [
    "### Predviđanje zadnja dva mjeseca 2021. godine"
   ]
  },
  {
   "cell_type": "code",
   "execution_count": 90,
   "id": "af32f6e6",
   "metadata": {},
   "outputs": [],
   "source": [
    "# Generaze datetime\n",
    "datetime = pd.date_range(start='2021-11-01', end='2021-12-31')\n",
    "\n",
    "# Get prosjek\n",
    "df_temp_prosjek = pd.read_excel('temperatura_predviđanje.xlsx', sheet_name='podaci_testiranje')\n",
    "\n",
    "# Set the index\n",
    "df_temp_prosjek['Datetime'] = pd.to_datetime(df_temp_prosjek['Vrijeme'])\n",
    "df_temp_prosjek = df_temp_prosjek.set_index('Datetime')\n",
    "df_temp_prosjek = df_temp_prosjek.drop(['Vrijeme'], axis=1)\n",
    "\n",
    "# Generate prosjek\n",
    "df_temp_prosjek['Prosjek'] = df_temp_prosjek.mean(axis=1).round(2)\n",
    "\n",
    "# Create new dataframe\n",
    "df_forecast = pd.DataFrame(df_temp_prosjek, index=datetime, columns=['Potrošnja', 'Prosjek', 'Forecast'])\n",
    "df_forecast.index.name = 'Datetime'\n",
    "df_forecast['Potrošnja'] = 0\n",
    "df_forecast['Forecast'] = 0"
   ]
  },
  {
   "cell_type": "code",
   "execution_count": 91,
   "id": "72afb751",
   "metadata": {},
   "outputs": [],
   "source": [
    "df_forecast['Forecast'] = results.predict(end='2021-12-31', start='2021-11-01', exog=df_forecast['Prosjek'])"
   ]
  },
  {
   "cell_type": "code",
   "execution_count": 92,
   "id": "99e7fd1c",
   "metadata": {},
   "outputs": [
    {
     "data": {
      "text/plain": [
       "<AxesSubplot:xlabel='Datetime'>"
      ]
     },
     "execution_count": 92,
     "metadata": {},
     "output_type": "execute_result"
    },
    {
     "data": {
      "image/png": "[encoded data removed]",
      "text/plain": [
       "<Figure size 432x288 with 1 Axes>"
      ]
     },
     "metadata": {
      "needs_background": "light"
     },
     "output_type": "display_data"
    }
   ],
   "source": [
    "df_concat.Potrošnja.plot()\n",
    "df_forecast.Forecast.plot()"
   ]
  },
  {
   "cell_type": "markdown",
   "id": "5a4e8a9e",
   "metadata": {},
   "source": [
    "Navedeni graf opisuje predikciju potrošnje energije za 11. i 12. mjesec 2021. godine."
   ]
  },
  {
   "cell_type": "markdown",
   "id": "7580f1cd",
   "metadata": {},
   "source": [
    "## Rasprava rezultata"
   ]
  },
  {
   "cell_type": "markdown",
   "id": "43a39b56",
   "metadata": {},
   "source": [
    "Ali SARIMAX je neprecizan..."
   ]
  },
  {
   "cell_type": "code",
   "execution_count": null,
   "id": "9ce11278",
   "metadata": {},
   "outputs": [],
   "source": [
    "from statsmodels.graphics.tsaplots import plot_predict\n",
    "\n",
    "figure, axes = plt.subplots()\n",
    "df_concat.Potrošnja.plot()\n",
    "plot_predict(results,ax=axes,end='2021-12-31', start='2021-11-01', exog=df_forecast['Prosjek'])\n",
    "plt.ylim(top=2800, bottom=1200)"
   ]
  },
  {
   "cell_type": "markdown",
   "id": "1cc5350a",
   "metadata": {},
   "source": [
    "### Izvori:\n",
    "\n",
    "https://www.fer.unizg.hr/_download/repository/03_Predvidanje_opterecenja%5B2%5D.pdf\n",
    "\n",
    "https://www.hera.hr/hr/docs/HERA_izvjesce_2019.pdf\n",
    "    \n",
    "    "
   ]
  }
 ],
 "metadata": {
  "kernelspec": {
   "display_name": "Python 3 (ipykernel)",
   "language": "python",
   "name": "python3"
  },
  "language_info": {
   "codemirror_mode": {
    "name": "ipython",
    "version": 3
   },
   "file_extension": ".py",
   "mimetype": "text/x-python",
   "name": "python",
   "nbconvert_exporter": "python",
   "pygments_lexer": "ipython3",
   "version": "3.8.10"
  }
 },
 "nbformat": 4,
 "nbformat_minor": 5
}
